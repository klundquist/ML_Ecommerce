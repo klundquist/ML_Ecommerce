{
 "cells": [
  {
   "cell_type": "code",
   "execution_count": 115,
   "id": "11a02e54",
   "metadata": {},
   "outputs": [],
   "source": [
    "import pandas as pd\n",
    "import numpy as np\n",
    "from sklearn.linear_model import LinearRegression, HuberRegressor\n",
    "import matplotlib.pyplot as plt\n",
    "%matplotlib inline\n",
    "import plotly.express as px"
   ]
  },
  {
   "cell_type": "markdown",
   "id": "26950512",
   "metadata": {},
   "source": [
    "## Part I: Preprocessing and EDA\n",
    "\n",
    "- The data comes from a global e-retailer company, including orders from 2012 to 2015. Import the **Orders** dataset and do some basic EDA. \n",
    "- For problem 1 to 3, we mainly focus on data cleaning and data visualizations. You can use all the packages that you are familiar with to conduct some plots and also provide **brief interpretations** about your findings."
   ]
  },
  {
   "cell_type": "code",
   "execution_count": 35,
   "id": "4e7e78bc",
   "metadata": {},
   "outputs": [],
   "source": [
    "orders = pd.read_csv('data/Orders.csv')"
   ]
  },
  {
   "cell_type": "code",
   "execution_count": 36,
   "id": "bf28affd",
   "metadata": {
    "scrolled": true
   },
   "outputs": [
    {
     "data": {
      "text/html": [
       "<div>\n",
       "<style scoped>\n",
       "    .dataframe tbody tr th:only-of-type {\n",
       "        vertical-align: middle;\n",
       "    }\n",
       "\n",
       "    .dataframe tbody tr th {\n",
       "        vertical-align: top;\n",
       "    }\n",
       "\n",
       "    .dataframe thead th {\n",
       "        text-align: right;\n",
       "    }\n",
       "</style>\n",
       "<table border=\"1\" class=\"dataframe\">\n",
       "  <thead>\n",
       "    <tr style=\"text-align: right;\">\n",
       "      <th></th>\n",
       "      <th>Row.ID</th>\n",
       "      <th>Order.ID</th>\n",
       "      <th>Order.Date</th>\n",
       "      <th>Ship.Date</th>\n",
       "      <th>Ship.Mode</th>\n",
       "      <th>Customer.ID</th>\n",
       "      <th>Customer.Name</th>\n",
       "      <th>Segment</th>\n",
       "      <th>Postal.Code</th>\n",
       "      <th>City</th>\n",
       "      <th>...</th>\n",
       "      <th>Product.ID</th>\n",
       "      <th>Category</th>\n",
       "      <th>Sub.Category</th>\n",
       "      <th>Product.Name</th>\n",
       "      <th>Sales</th>\n",
       "      <th>Quantity</th>\n",
       "      <th>Discount</th>\n",
       "      <th>Profit</th>\n",
       "      <th>Shipping.Cost</th>\n",
       "      <th>Order.Priority</th>\n",
       "    </tr>\n",
       "  </thead>\n",
       "  <tbody>\n",
       "    <tr>\n",
       "      <th>0</th>\n",
       "      <td>40098</td>\n",
       "      <td>CA-2014-AB10015140-41954</td>\n",
       "      <td>11/11/14</td>\n",
       "      <td>11/13/14</td>\n",
       "      <td>First Class</td>\n",
       "      <td>AB-100151402</td>\n",
       "      <td>Aaron Bergman</td>\n",
       "      <td>Consumer</td>\n",
       "      <td>73120.0</td>\n",
       "      <td>Oklahoma City</td>\n",
       "      <td>...</td>\n",
       "      <td>TEC-PH-5816</td>\n",
       "      <td>Technology</td>\n",
       "      <td>Phones</td>\n",
       "      <td>Samsung Convoy 3</td>\n",
       "      <td>$221.98</td>\n",
       "      <td>2</td>\n",
       "      <td>0.0</td>\n",
       "      <td>$62.15</td>\n",
       "      <td>40.77</td>\n",
       "      <td>High</td>\n",
       "    </tr>\n",
       "    <tr>\n",
       "      <th>1</th>\n",
       "      <td>26341</td>\n",
       "      <td>IN-2014-JR162107-41675</td>\n",
       "      <td>2/5/14</td>\n",
       "      <td>2/7/14</td>\n",
       "      <td>Second Class</td>\n",
       "      <td>JR-162107</td>\n",
       "      <td>Justin Ritter</td>\n",
       "      <td>Corporate</td>\n",
       "      <td>NaN</td>\n",
       "      <td>Wollongong</td>\n",
       "      <td>...</td>\n",
       "      <td>FUR-CH-5379</td>\n",
       "      <td>Furniture</td>\n",
       "      <td>Chairs</td>\n",
       "      <td>Novimex Executive Leather Armchair, Black</td>\n",
       "      <td>$3,709.40</td>\n",
       "      <td>9</td>\n",
       "      <td>0.1</td>\n",
       "      <td>-$288.77</td>\n",
       "      <td>923.63</td>\n",
       "      <td>Critical</td>\n",
       "    </tr>\n",
       "    <tr>\n",
       "      <th>2</th>\n",
       "      <td>25330</td>\n",
       "      <td>IN-2014-CR127307-41929</td>\n",
       "      <td>10/17/14</td>\n",
       "      <td>10/18/14</td>\n",
       "      <td>First Class</td>\n",
       "      <td>CR-127307</td>\n",
       "      <td>Craig Reiter</td>\n",
       "      <td>Consumer</td>\n",
       "      <td>NaN</td>\n",
       "      <td>Brisbane</td>\n",
       "      <td>...</td>\n",
       "      <td>TEC-PH-5356</td>\n",
       "      <td>Technology</td>\n",
       "      <td>Phones</td>\n",
       "      <td>Nokia Smart Phone, with Caller ID</td>\n",
       "      <td>$5,175.17</td>\n",
       "      <td>9</td>\n",
       "      <td>0.1</td>\n",
       "      <td>$919.97</td>\n",
       "      <td>915.49</td>\n",
       "      <td>Medium</td>\n",
       "    </tr>\n",
       "    <tr>\n",
       "      <th>3</th>\n",
       "      <td>13524</td>\n",
       "      <td>ES-2014-KM1637548-41667</td>\n",
       "      <td>1/28/14</td>\n",
       "      <td>1/30/14</td>\n",
       "      <td>First Class</td>\n",
       "      <td>KM-1637548</td>\n",
       "      <td>Katherine Murray</td>\n",
       "      <td>Home Office</td>\n",
       "      <td>NaN</td>\n",
       "      <td>Berlin</td>\n",
       "      <td>...</td>\n",
       "      <td>TEC-PH-5267</td>\n",
       "      <td>Technology</td>\n",
       "      <td>Phones</td>\n",
       "      <td>Motorola Smart Phone, Cordless</td>\n",
       "      <td>$2,892.51</td>\n",
       "      <td>5</td>\n",
       "      <td>0.1</td>\n",
       "      <td>-$96.54</td>\n",
       "      <td>910.16</td>\n",
       "      <td>Medium</td>\n",
       "    </tr>\n",
       "    <tr>\n",
       "      <th>4</th>\n",
       "      <td>47221</td>\n",
       "      <td>SG-2014-RH9495111-41948</td>\n",
       "      <td>11/5/14</td>\n",
       "      <td>11/6/14</td>\n",
       "      <td>Same Day</td>\n",
       "      <td>RH-9495111</td>\n",
       "      <td>Rick Hansen</td>\n",
       "      <td>Consumer</td>\n",
       "      <td>NaN</td>\n",
       "      <td>Dakar</td>\n",
       "      <td>...</td>\n",
       "      <td>TEC-CO-6011</td>\n",
       "      <td>Technology</td>\n",
       "      <td>Copiers</td>\n",
       "      <td>Sharp Wireless Fax, High-Speed</td>\n",
       "      <td>$2,832.96</td>\n",
       "      <td>8</td>\n",
       "      <td>0.0</td>\n",
       "      <td>$311.52</td>\n",
       "      <td>903.04</td>\n",
       "      <td>Critical</td>\n",
       "    </tr>\n",
       "  </tbody>\n",
       "</table>\n",
       "<p>5 rows × 24 columns</p>\n",
       "</div>"
      ],
      "text/plain": [
       "   Row.ID                  Order.ID Order.Date Ship.Date     Ship.Mode  \\\n",
       "0   40098  CA-2014-AB10015140-41954   11/11/14  11/13/14   First Class   \n",
       "1   26341    IN-2014-JR162107-41675     2/5/14    2/7/14  Second Class   \n",
       "2   25330    IN-2014-CR127307-41929   10/17/14  10/18/14   First Class   \n",
       "3   13524   ES-2014-KM1637548-41667    1/28/14   1/30/14   First Class   \n",
       "4   47221   SG-2014-RH9495111-41948    11/5/14   11/6/14      Same Day   \n",
       "\n",
       "    Customer.ID     Customer.Name      Segment  Postal.Code           City  \\\n",
       "0  AB-100151402     Aaron Bergman     Consumer      73120.0  Oklahoma City   \n",
       "1     JR-162107     Justin Ritter    Corporate          NaN     Wollongong   \n",
       "2     CR-127307      Craig Reiter     Consumer          NaN       Brisbane   \n",
       "3    KM-1637548  Katherine Murray  Home Office          NaN         Berlin   \n",
       "4    RH-9495111       Rick Hansen     Consumer          NaN          Dakar   \n",
       "\n",
       "   ...   Product.ID    Category Sub.Category  \\\n",
       "0  ...  TEC-PH-5816  Technology       Phones   \n",
       "1  ...  FUR-CH-5379   Furniture       Chairs   \n",
       "2  ...  TEC-PH-5356  Technology       Phones   \n",
       "3  ...  TEC-PH-5267  Technology       Phones   \n",
       "4  ...  TEC-CO-6011  Technology      Copiers   \n",
       "\n",
       "                                Product.Name      Sales Quantity Discount  \\\n",
       "0                           Samsung Convoy 3    $221.98        2      0.0   \n",
       "1  Novimex Executive Leather Armchair, Black  $3,709.40        9      0.1   \n",
       "2          Nokia Smart Phone, with Caller ID  $5,175.17        9      0.1   \n",
       "3             Motorola Smart Phone, Cordless  $2,892.51        5      0.1   \n",
       "4             Sharp Wireless Fax, High-Speed  $2,832.96        8      0.0   \n",
       "\n",
       "     Profit Shipping.Cost  Order.Priority  \n",
       "0    $62.15         40.77            High  \n",
       "1  -$288.77        923.63        Critical  \n",
       "2   $919.97        915.49          Medium  \n",
       "3   -$96.54        910.16          Medium  \n",
       "4   $311.52        903.04        Critical  \n",
       "\n",
       "[5 rows x 24 columns]"
      ]
     },
     "execution_count": 36,
     "metadata": {},
     "output_type": "execute_result"
    }
   ],
   "source": [
    "orders.head()"
   ]
  },
  {
   "cell_type": "code",
   "execution_count": 41,
   "id": "78ec7627",
   "metadata": {},
   "outputs": [
    {
     "data": {
      "text/plain": [
       "Index(['Row.ID', 'Order.ID', 'Order.Date', 'Ship.Date', 'Ship.Mode',\n",
       "       'Customer.ID', 'Customer.Name', 'Segment', 'Postal.Code', 'City',\n",
       "       'State', 'Country', 'Region', 'Market', 'Product.ID', 'Category',\n",
       "       'Sub.Category', 'Product.Name', 'Sales', 'Quantity', 'Discount',\n",
       "       'Profit', 'Shipping.Cost', 'Order.Priority'],\n",
       "      dtype='object')"
      ]
     },
     "execution_count": 41,
     "metadata": {},
     "output_type": "execute_result"
    }
   ],
   "source": [
    "orders.columns"
   ]
  },
  {
   "cell_type": "markdown",
   "id": "cecb1cee",
   "metadata": {},
   "source": [
    "### Problem 1: Dataset Import & Cleaning\n",
    "Check **\"Profit\"** and **\"Sales\"** in the dataset, convert these two columns to numeric type. "
   ]
  },
  {
   "cell_type": "code",
   "execution_count": 37,
   "id": "0ce32204",
   "metadata": {},
   "outputs": [
    {
     "name": "stderr",
     "output_type": "stream",
     "text": [
      "<ipython-input-37-5ca1cad7fb6d>:5: FutureWarning: The default value of regex will change from True to False in a future version. In addition, single character regular expressions will*not* be treated as literal strings when regex=True.\n",
      "  orders['Profit'] = orders['Profit'].str.replace('$','')\n"
     ]
    },
    {
     "data": {
      "text/plain": [
       "0         62.15\n",
       "1       -288.77\n",
       "2        919.97\n",
       "3        -96.54\n",
       "4        311.52\n",
       "          ...  \n",
       "51285      4.50\n",
       "51286      3.34\n",
       "51287      2.48\n",
       "51288      2.40\n",
       "51289      1.80\n",
       "Name: Profit, Length: 51290, dtype: float64"
      ]
     },
     "execution_count": 37,
     "metadata": {},
     "output_type": "execute_result"
    }
   ],
   "source": [
    "orders['Profit'] = orders['Profit'].str.replace('$','')\n",
    "orders['Profit'] = orders['Profit'].str.replace(',','')\n",
    "orders['Profit'] = pd.to_numeric(orders['Profit'])\n",
    "orders['Profit']"
   ]
  },
  {
   "cell_type": "code",
   "execution_count": 40,
   "id": "fe6c4016",
   "metadata": {},
   "outputs": [
    {
     "name": "stderr",
     "output_type": "stream",
     "text": [
      "<ipython-input-40-8778ad372ab6>:1: FutureWarning: The default value of regex will change from True to False in a future version. In addition, single character regular expressions will*not* be treated as literal strings when regex=True.\n",
      "  orders['Sales'] = orders['Sales'].str.replace('$','')\n"
     ]
    },
    {
     "data": {
      "text/plain": [
       "0         221.98\n",
       "1        3709.40\n",
       "2        5175.17\n",
       "3        2892.51\n",
       "4        2832.96\n",
       "          ...   \n",
       "51285      65.10\n",
       "51286      16.72\n",
       "51287       8.56\n",
       "51288      13.44\n",
       "51289      61.38\n",
       "Name: Sales, Length: 51290, dtype: float64"
      ]
     },
     "execution_count": 40,
     "metadata": {},
     "output_type": "execute_result"
    }
   ],
   "source": [
    "orders['Sales'] = orders['Sales'].str.replace('$','')\n",
    "orders['Sales'] = orders['Sales'].str.replace(',','')\n",
    "orders['Sales'] = pd.to_numeric(orders['Sales'])\n",
    "orders['Sales']"
   ]
  },
  {
   "cell_type": "markdown",
   "id": "436d5986",
   "metadata": {},
   "source": [
    "### Problem 2: Inventory Management\n",
    "- Retailers that depend on seasonal shoppers have a particularly challenging job when it comes to inventory management. Your manager is making plans for next year's inventory.\n",
    "- He wants you to answer the following questions:\n",
    "    1. Is there any seasonal trend of inventory in the company?\n",
    "    2. Is the seasonal trend the same for different categories?\n",
    "\n",
    "- ***Hint:*** For each order, it has an attribute called `Quantity` that indicates the number of product in the order. If an order contains more than one product, there will be multiple observations of the same order."
   ]
  },
  {
   "cell_type": "code",
   "execution_count": 320,
   "id": "5be0f7eb",
   "metadata": {
    "scrolled": false
   },
   "outputs": [
    {
     "data": {
      "application/vnd.plotly.v1+json": {
       "config": {
        "plotlyServerURL": "https://plot.ly"
       },
       "data": [
        {
         "hovertemplate": "Sub.Category=Accessories<br>Year.Month=%{x}<br>Quantity=%{y}<extra></extra>",
         "legendgroup": "Accessories",
         "line": {
          "color": "#636efa",
          "dash": "solid"
         },
         "marker": {
          "symbol": "circle"
         },
         "mode": "lines",
         "name": "Accessories",
         "orientation": "v",
         "showlegend": true,
         "type": "scatter",
         "x": [
          "2012-01",
          "2012-02",
          "2012-03",
          "2012-04",
          "2012-05",
          "2012-06",
          "2012-07",
          "2012-08",
          "2012-09",
          "2012-10",
          "2012-11",
          "2012-12",
          "2013-01",
          "2013-02",
          "2013-03",
          "2013-04",
          "2013-05",
          "2013-06",
          "2013-07",
          "2013-08",
          "2013-09",
          "2013-10",
          "2013-11",
          "2013-12",
          "2014-01",
          "2014-02",
          "2014-03",
          "2014-04",
          "2014-05",
          "2014-06",
          "2014-07",
          "2014-08",
          "2014-09",
          "2014-10",
          "2014-11",
          "2014-12",
          "2015-01",
          "2015-02",
          "2015-03",
          "2015-04",
          "2015-05",
          "2015-06",
          "2015-07",
          "2015-08",
          "2015-09",
          "2015-10",
          "2015-11",
          "2015-12"
         ],
         "xaxis": "x",
         "y": [
          48,
          68,
          85,
          121,
          161,
          184,
          131,
          208,
          199,
          139,
          207,
          288,
          99,
          147,
          128,
          137,
          146,
          235,
          150,
          265,
          241,
          245,
          302,
          325,
          120,
          113,
          177,
          188,
          201,
          296,
          201,
          264,
          336,
          266,
          426,
          379,
          181,
          200,
          192,
          194,
          274,
          345,
          248,
          371,
          458,
          289,
          508,
          460
         ],
         "yaxis": "y"
        },
        {
         "hovertemplate": "Sub.Category=Appliances<br>Year.Month=%{x}<br>Quantity=%{y}<extra></extra>",
         "legendgroup": "Appliances",
         "line": {
          "color": "#EF553B",
          "dash": "solid"
         },
         "marker": {
          "symbol": "circle"
         },
         "mode": "lines",
         "name": "Appliances",
         "orientation": "v",
         "showlegend": true,
         "type": "scatter",
         "x": [
          "2012-01",
          "2012-02",
          "2012-03",
          "2012-04",
          "2012-05",
          "2012-06",
          "2012-07",
          "2012-08",
          "2012-09",
          "2012-10",
          "2012-11",
          "2012-12",
          "2013-01",
          "2013-02",
          "2013-03",
          "2013-04",
          "2013-05",
          "2013-06",
          "2013-07",
          "2013-08",
          "2013-09",
          "2013-10",
          "2013-11",
          "2013-12",
          "2014-01",
          "2014-02",
          "2014-03",
          "2014-04",
          "2014-05",
          "2014-06",
          "2014-07",
          "2014-08",
          "2014-09",
          "2014-10",
          "2014-11",
          "2014-12",
          "2015-01",
          "2015-02",
          "2015-03",
          "2015-04",
          "2015-05",
          "2015-06",
          "2015-07",
          "2015-08",
          "2015-09",
          "2015-10",
          "2015-11",
          "2015-12"
         ],
         "xaxis": "x",
         "y": [
          35,
          60,
          60,
          83,
          81,
          134,
          32,
          70,
          190,
          92,
          162,
          124,
          76,
          36,
          66,
          83,
          150,
          79,
          54,
          169,
          101,
          109,
          184,
          170,
          71,
          72,
          121,
          90,
          127,
          207,
          85,
          141,
          202,
          104,
          168,
          157,
          96,
          93,
          138,
          117,
          142,
          174,
          155,
          233,
          165,
          180,
          282,
          306
         ],
         "yaxis": "y"
        },
        {
         "hovertemplate": "Sub.Category=Art<br>Year.Month=%{x}<br>Quantity=%{y}<extra></extra>",
         "legendgroup": "Art",
         "line": {
          "color": "#00cc96",
          "dash": "solid"
         },
         "marker": {
          "symbol": "circle"
         },
         "mode": "lines",
         "name": "Art",
         "orientation": "v",
         "showlegend": true,
         "type": "scatter",
         "x": [
          "2012-01",
          "2012-02",
          "2012-03",
          "2012-04",
          "2012-05",
          "2012-06",
          "2012-07",
          "2012-08",
          "2012-09",
          "2012-10",
          "2012-11",
          "2012-12",
          "2013-01",
          "2013-02",
          "2013-03",
          "2013-04",
          "2013-05",
          "2013-06",
          "2013-07",
          "2013-08",
          "2013-09",
          "2013-10",
          "2013-11",
          "2013-12",
          "2014-01",
          "2014-02",
          "2014-03",
          "2014-04",
          "2014-05",
          "2014-06",
          "2014-07",
          "2014-08",
          "2014-09",
          "2014-10",
          "2014-11",
          "2014-12",
          "2015-01",
          "2015-02",
          "2015-03",
          "2015-04",
          "2015-05",
          "2015-06",
          "2015-07",
          "2015-08",
          "2015-09",
          "2015-10",
          "2015-11",
          "2015-12"
         ],
         "xaxis": "x",
         "y": [
          201,
          123,
          165,
          256,
          233,
          296,
          161,
          288,
          348,
          241,
          242,
          357,
          160,
          144,
          192,
          196,
          245,
          342,
          182,
          389,
          390,
          297,
          496,
          517,
          211,
          196,
          207,
          238,
          347,
          481,
          290,
          490,
          564,
          272,
          423,
          453,
          325,
          251,
          360,
          328,
          343,
          572,
          371,
          521,
          660,
          430,
          723,
          698
         ],
         "yaxis": "y"
        },
        {
         "hovertemplate": "Sub.Category=Binders<br>Year.Month=%{x}<br>Quantity=%{y}<extra></extra>",
         "legendgroup": "Binders",
         "line": {
          "color": "#ab63fa",
          "dash": "solid"
         },
         "marker": {
          "symbol": "circle"
         },
         "mode": "lines",
         "name": "Binders",
         "orientation": "v",
         "showlegend": true,
         "type": "scatter",
         "x": [
          "2012-01",
          "2012-02",
          "2012-03",
          "2012-04",
          "2012-05",
          "2012-06",
          "2012-07",
          "2012-08",
          "2012-09",
          "2012-10",
          "2012-11",
          "2012-12",
          "2013-01",
          "2013-02",
          "2013-03",
          "2013-04",
          "2013-05",
          "2013-06",
          "2013-07",
          "2013-08",
          "2013-09",
          "2013-10",
          "2013-11",
          "2013-12",
          "2014-01",
          "2014-02",
          "2014-03",
          "2014-04",
          "2014-05",
          "2014-06",
          "2014-07",
          "2014-08",
          "2014-09",
          "2014-10",
          "2014-11",
          "2014-12",
          "2015-01",
          "2015-02",
          "2015-03",
          "2015-04",
          "2015-05",
          "2015-06",
          "2015-07",
          "2015-08",
          "2015-09",
          "2015-10",
          "2015-11",
          "2015-12"
         ],
         "xaxis": "x",
         "y": [
          173,
          163,
          225,
          228,
          244,
          303,
          269,
          340,
          405,
          305,
          467,
          534,
          198,
          149,
          234,
          239,
          299,
          450,
          294,
          423,
          594,
          366,
          696,
          574,
          290,
          274,
          302,
          359,
          509,
          646,
          342,
          617,
          690,
          427,
          677,
          694,
          407,
          262,
          446,
          480,
          502,
          695,
          381,
          805,
          888,
          720,
          893,
          925
         ],
         "yaxis": "y"
        },
        {
         "hovertemplate": "Sub.Category=Bookcases<br>Year.Month=%{x}<br>Quantity=%{y}<extra></extra>",
         "legendgroup": "Bookcases",
         "line": {
          "color": "#FFA15A",
          "dash": "solid"
         },
         "marker": {
          "symbol": "circle"
         },
         "mode": "lines",
         "name": "Bookcases",
         "orientation": "v",
         "showlegend": true,
         "type": "scatter",
         "x": [
          "2012-01",
          "2012-02",
          "2012-03",
          "2012-04",
          "2012-05",
          "2012-06",
          "2012-07",
          "2012-08",
          "2012-09",
          "2012-10",
          "2012-11",
          "2012-12",
          "2013-01",
          "2013-02",
          "2013-03",
          "2013-04",
          "2013-05",
          "2013-06",
          "2013-07",
          "2013-08",
          "2013-09",
          "2013-10",
          "2013-11",
          "2013-12",
          "2014-01",
          "2014-02",
          "2014-03",
          "2014-04",
          "2014-05",
          "2014-06",
          "2014-07",
          "2014-08",
          "2014-09",
          "2014-10",
          "2014-11",
          "2014-12",
          "2015-01",
          "2015-02",
          "2015-03",
          "2015-04",
          "2015-05",
          "2015-06",
          "2015-07",
          "2015-08",
          "2015-09",
          "2015-10",
          "2015-11",
          "2015-12"
         ],
         "xaxis": "x",
         "y": [
          74,
          49,
          71,
          47,
          94,
          149,
          65,
          140,
          203,
          131,
          188,
          211,
          92,
          45,
          129,
          101,
          146,
          165,
          93,
          205,
          200,
          172,
          224,
          216,
          179,
          75,
          128,
          101,
          107,
          186,
          145,
          211,
          339,
          205,
          242,
          272,
          82,
          141,
          176,
          231,
          209,
          280,
          209,
          304,
          335,
          308,
          328,
          307
         ],
         "yaxis": "y"
        },
        {
         "hovertemplate": "Sub.Category=Chairs<br>Year.Month=%{x}<br>Quantity=%{y}<extra></extra>",
         "legendgroup": "Chairs",
         "line": {
          "color": "#19d3f3",
          "dash": "solid"
         },
         "marker": {
          "symbol": "circle"
         },
         "mode": "lines",
         "name": "Chairs",
         "orientation": "v",
         "showlegend": true,
         "type": "scatter",
         "x": [
          "2012-01",
          "2012-02",
          "2012-03",
          "2012-04",
          "2012-05",
          "2012-06",
          "2012-07",
          "2012-08",
          "2012-09",
          "2012-10",
          "2012-11",
          "2012-12",
          "2013-01",
          "2013-02",
          "2013-03",
          "2013-04",
          "2013-05",
          "2013-06",
          "2013-07",
          "2013-08",
          "2013-09",
          "2013-10",
          "2013-11",
          "2013-12",
          "2014-01",
          "2014-02",
          "2014-03",
          "2014-04",
          "2014-05",
          "2014-06",
          "2014-07",
          "2014-08",
          "2014-09",
          "2014-10",
          "2014-11",
          "2014-12",
          "2015-01",
          "2015-02",
          "2015-03",
          "2015-04",
          "2015-05",
          "2015-06",
          "2015-07",
          "2015-08",
          "2015-09",
          "2015-10",
          "2015-11",
          "2015-12"
         ],
         "xaxis": "x",
         "y": [
          74,
          94,
          125,
          128,
          130,
          238,
          108,
          221,
          246,
          261,
          307,
          363,
          103,
          119,
          132,
          157,
          164,
          242,
          211,
          174,
          282,
          235,
          437,
          259,
          165,
          152,
          247,
          229,
          297,
          334,
          257,
          331,
          387,
          322,
          395,
          376,
          218,
          176,
          270,
          206,
          333,
          368,
          198,
          290,
          490,
          430,
          481,
          574
         ],
         "yaxis": "y"
        },
        {
         "hovertemplate": "Sub.Category=Copiers<br>Year.Month=%{x}<br>Quantity=%{y}<extra></extra>",
         "legendgroup": "Copiers",
         "line": {
          "color": "#FF6692",
          "dash": "solid"
         },
         "marker": {
          "symbol": "circle"
         },
         "mode": "lines",
         "name": "Copiers",
         "orientation": "v",
         "showlegend": true,
         "type": "scatter",
         "x": [
          "2012-01",
          "2012-02",
          "2012-03",
          "2012-04",
          "2012-05",
          "2012-06",
          "2012-07",
          "2012-08",
          "2012-09",
          "2012-10",
          "2012-11",
          "2012-12",
          "2013-01",
          "2013-02",
          "2013-03",
          "2013-04",
          "2013-05",
          "2013-06",
          "2013-07",
          "2013-08",
          "2013-09",
          "2013-10",
          "2013-11",
          "2013-12",
          "2014-01",
          "2014-02",
          "2014-03",
          "2014-04",
          "2014-05",
          "2014-06",
          "2014-07",
          "2014-08",
          "2014-09",
          "2014-10",
          "2014-11",
          "2014-12",
          "2015-01",
          "2015-02",
          "2015-03",
          "2015-04",
          "2015-05",
          "2015-06",
          "2015-07",
          "2015-08",
          "2015-09",
          "2015-10",
          "2015-11",
          "2015-12"
         ],
         "xaxis": "x",
         "y": [
          51,
          62,
          66,
          46,
          77,
          103,
          73,
          116,
          116,
          134,
          144,
          150,
          69,
          41,
          102,
          159,
          138,
          140,
          85,
          187,
          183,
          154,
          168,
          217,
          100,
          104,
          108,
          107,
          194,
          257,
          159,
          195,
          200,
          165,
          226,
          216,
          149,
          128,
          195,
          138,
          149,
          242,
          139,
          228,
          352,
          316,
          305,
          301
         ],
         "yaxis": "y"
        },
        {
         "hovertemplate": "Sub.Category=Envelopes<br>Year.Month=%{x}<br>Quantity=%{y}<extra></extra>",
         "legendgroup": "Envelopes",
         "line": {
          "color": "#B6E880",
          "dash": "solid"
         },
         "marker": {
          "symbol": "circle"
         },
         "mode": "lines",
         "name": "Envelopes",
         "orientation": "v",
         "showlegend": true,
         "type": "scatter",
         "x": [
          "2012-01",
          "2012-02",
          "2012-03",
          "2012-04",
          "2012-05",
          "2012-06",
          "2012-07",
          "2012-08",
          "2012-09",
          "2012-10",
          "2012-11",
          "2012-12",
          "2013-01",
          "2013-02",
          "2013-03",
          "2013-04",
          "2013-05",
          "2013-06",
          "2013-07",
          "2013-08",
          "2013-09",
          "2013-10",
          "2013-11",
          "2013-12",
          "2014-01",
          "2014-02",
          "2014-03",
          "2014-04",
          "2014-05",
          "2014-06",
          "2014-07",
          "2014-08",
          "2014-09",
          "2014-10",
          "2014-11",
          "2014-12",
          "2015-01",
          "2015-02",
          "2015-03",
          "2015-04",
          "2015-05",
          "2015-06",
          "2015-07",
          "2015-08",
          "2015-09",
          "2015-10",
          "2015-11",
          "2015-12"
         ],
         "xaxis": "x",
         "y": [
          79,
          48,
          57,
          103,
          82,
          101,
          89,
          158,
          152,
          121,
          213,
          145,
          64,
          75,
          103,
          117,
          147,
          207,
          165,
          124,
          240,
          183,
          230,
          213,
          121,
          102,
          171,
          114,
          157,
          233,
          116,
          295,
          322,
          168,
          250,
          254,
          149,
          84,
          219,
          153,
          231,
          278,
          127,
          213,
          280,
          290,
          326,
          341
         ],
         "yaxis": "y"
        },
        {
         "hovertemplate": "Sub.Category=Fasteners<br>Year.Month=%{x}<br>Quantity=%{y}<extra></extra>",
         "legendgroup": "Fasteners",
         "line": {
          "color": "#FF97FF",
          "dash": "solid"
         },
         "marker": {
          "symbol": "circle"
         },
         "mode": "lines",
         "name": "Fasteners",
         "orientation": "v",
         "showlegend": true,
         "type": "scatter",
         "x": [
          "2012-01",
          "2012-02",
          "2012-03",
          "2012-04",
          "2012-05",
          "2012-06",
          "2012-07",
          "2012-08",
          "2012-09",
          "2012-10",
          "2012-11",
          "2012-12",
          "2013-01",
          "2013-02",
          "2013-03",
          "2013-04",
          "2013-05",
          "2013-06",
          "2013-07",
          "2013-08",
          "2013-09",
          "2013-10",
          "2013-11",
          "2013-12",
          "2014-01",
          "2014-02",
          "2014-03",
          "2014-04",
          "2014-05",
          "2014-06",
          "2014-07",
          "2014-08",
          "2014-09",
          "2014-10",
          "2014-11",
          "2014-12",
          "2015-01",
          "2015-02",
          "2015-03",
          "2015-04",
          "2015-05",
          "2015-06",
          "2015-07",
          "2015-08",
          "2015-09",
          "2015-10",
          "2015-11",
          "2015-12"
         ],
         "xaxis": "x",
         "y": [
          74,
          89,
          116,
          87,
          102,
          144,
          91,
          130,
          219,
          142,
          152,
          171,
          80,
          78,
          124,
          141,
          165,
          217,
          105,
          213,
          147,
          246,
          286,
          224,
          79,
          91,
          92,
          136,
          206,
          229,
          143,
          304,
          266,
          229,
          315,
          317,
          161,
          140,
          187,
          215,
          197,
          372,
          164,
          248,
          333,
          304,
          435,
          345
         ],
         "yaxis": "y"
        },
        {
         "hovertemplate": "Sub.Category=Furnishings<br>Year.Month=%{x}<br>Quantity=%{y}<extra></extra>",
         "legendgroup": "Furnishings",
         "line": {
          "color": "#FECB52",
          "dash": "solid"
         },
         "marker": {
          "symbol": "circle"
         },
         "mode": "lines",
         "name": "Furnishings",
         "orientation": "v",
         "showlegend": true,
         "type": "scatter",
         "x": [
          "2012-01",
          "2012-02",
          "2012-03",
          "2012-04",
          "2012-05",
          "2012-06",
          "2012-07",
          "2012-08",
          "2012-09",
          "2012-10",
          "2012-11",
          "2012-12",
          "2013-01",
          "2013-02",
          "2013-03",
          "2013-04",
          "2013-05",
          "2013-06",
          "2013-07",
          "2013-08",
          "2013-09",
          "2013-10",
          "2013-11",
          "2013-12",
          "2014-01",
          "2014-02",
          "2014-03",
          "2014-04",
          "2014-05",
          "2014-06",
          "2014-07",
          "2014-08",
          "2014-09",
          "2014-10",
          "2014-11",
          "2014-12",
          "2015-01",
          "2015-02",
          "2015-03",
          "2015-04",
          "2015-05",
          "2015-06",
          "2015-07",
          "2015-08",
          "2015-09",
          "2015-10",
          "2015-11",
          "2015-12"
         ],
         "xaxis": "x",
         "y": [
          76,
          109,
          95,
          125,
          128,
          204,
          117,
          161,
          239,
          189,
          237,
          289,
          171,
          102,
          141,
          116,
          150,
          245,
          142,
          214,
          265,
          182,
          381,
          227,
          137,
          167,
          164,
          166,
          274,
          339,
          224,
          240,
          382,
          302,
          368,
          419,
          205,
          135,
          224,
          237,
          244,
          336,
          255,
          294,
          452,
          292,
          498,
          504
         ],
         "yaxis": "y"
        },
        {
         "hovertemplate": "Sub.Category=Labels<br>Year.Month=%{x}<br>Quantity=%{y}<extra></extra>",
         "legendgroup": "Labels",
         "line": {
          "color": "#636efa",
          "dash": "solid"
         },
         "marker": {
          "symbol": "circle"
         },
         "mode": "lines",
         "name": "Labels",
         "orientation": "v",
         "showlegend": true,
         "type": "scatter",
         "x": [
          "2012-01",
          "2012-02",
          "2012-03",
          "2012-04",
          "2012-05",
          "2012-06",
          "2012-07",
          "2012-08",
          "2012-09",
          "2012-10",
          "2012-11",
          "2012-12",
          "2013-01",
          "2013-02",
          "2013-03",
          "2013-04",
          "2013-05",
          "2013-06",
          "2013-07",
          "2013-08",
          "2013-09",
          "2013-10",
          "2013-11",
          "2013-12",
          "2014-01",
          "2014-02",
          "2014-03",
          "2014-04",
          "2014-05",
          "2014-06",
          "2014-07",
          "2014-08",
          "2014-09",
          "2014-10",
          "2014-11",
          "2014-12",
          "2015-01",
          "2015-02",
          "2015-03",
          "2015-04",
          "2015-05",
          "2015-06",
          "2015-07",
          "2015-08",
          "2015-09",
          "2015-10",
          "2015-11",
          "2015-12"
         ],
         "xaxis": "x",
         "y": [
          77,
          52,
          128,
          87,
          75,
          143,
          103,
          151,
          221,
          169,
          247,
          234,
          66,
          78,
          88,
          105,
          239,
          165,
          61,
          193,
          200,
          201,
          276,
          217,
          138,
          85,
          128,
          79,
          164,
          380,
          150,
          281,
          318,
          216,
          270,
          221,
          164,
          89,
          171,
          216,
          230,
          383,
          199,
          381,
          370,
          348,
          378,
          366
         ],
         "yaxis": "y"
        },
        {
         "hovertemplate": "Sub.Category=Machines<br>Year.Month=%{x}<br>Quantity=%{y}<extra></extra>",
         "legendgroup": "Machines",
         "line": {
          "color": "#EF553B",
          "dash": "solid"
         },
         "marker": {
          "symbol": "circle"
         },
         "mode": "lines",
         "name": "Machines",
         "orientation": "v",
         "showlegend": true,
         "type": "scatter",
         "x": [
          "2012-01",
          "2012-02",
          "2012-03",
          "2012-04",
          "2012-05",
          "2012-06",
          "2012-07",
          "2012-08",
          "2012-09",
          "2012-10",
          "2012-11",
          "2012-12",
          "2013-01",
          "2013-02",
          "2013-03",
          "2013-04",
          "2013-05",
          "2013-06",
          "2013-07",
          "2013-08",
          "2013-09",
          "2013-10",
          "2013-11",
          "2013-12",
          "2014-01",
          "2014-02",
          "2014-03",
          "2014-04",
          "2014-05",
          "2014-06",
          "2014-07",
          "2014-08",
          "2014-09",
          "2014-10",
          "2014-11",
          "2014-12",
          "2015-01",
          "2015-02",
          "2015-03",
          "2015-04",
          "2015-05",
          "2015-06",
          "2015-07",
          "2015-08",
          "2015-09",
          "2015-10",
          "2015-11",
          "2015-12"
         ],
         "xaxis": "x",
         "y": [
          48,
          68,
          62,
          30,
          63,
          82,
          51,
          79,
          95,
          86,
          131,
          142,
          77,
          39,
          62,
          46,
          80,
          108,
          54,
          101,
          132,
          104,
          143,
          143,
          42,
          40,
          69,
          51,
          106,
          178,
          61,
          128,
          80,
          132,
          102,
          157,
          121,
          70,
          82,
          99,
          84,
          182,
          110,
          179,
          168,
          213,
          223,
          203
         ],
         "yaxis": "y"
        },
        {
         "hovertemplate": "Sub.Category=Paper<br>Year.Month=%{x}<br>Quantity=%{y}<extra></extra>",
         "legendgroup": "Paper",
         "line": {
          "color": "#00cc96",
          "dash": "solid"
         },
         "marker": {
          "symbol": "circle"
         },
         "mode": "lines",
         "name": "Paper",
         "orientation": "v",
         "showlegend": true,
         "type": "scatter",
         "x": [
          "2012-01",
          "2012-02",
          "2012-03",
          "2012-04",
          "2012-05",
          "2012-06",
          "2012-07",
          "2012-08",
          "2012-09",
          "2012-10",
          "2012-11",
          "2012-12",
          "2013-01",
          "2013-02",
          "2013-03",
          "2013-04",
          "2013-05",
          "2013-06",
          "2013-07",
          "2013-08",
          "2013-09",
          "2013-10",
          "2013-11",
          "2013-12",
          "2014-01",
          "2014-02",
          "2014-03",
          "2014-04",
          "2014-05",
          "2014-06",
          "2014-07",
          "2014-08",
          "2014-09",
          "2014-10",
          "2014-11",
          "2014-12",
          "2015-01",
          "2015-02",
          "2015-03",
          "2015-04",
          "2015-05",
          "2015-06",
          "2015-07",
          "2015-08",
          "2015-09",
          "2015-10",
          "2015-11",
          "2015-12"
         ],
         "xaxis": "x",
         "y": [
          123,
          80,
          127,
          138,
          142,
          178,
          116,
          285,
          236,
          189,
          358,
          292,
          146,
          92,
          209,
          78,
          249,
          239,
          188,
          258,
          298,
          244,
          349,
          359,
          167,
          129,
          174,
          205,
          363,
          455,
          268,
          360,
          437,
          277,
          385,
          430,
          186,
          97,
          221,
          217,
          336,
          404,
          227,
          379,
          488,
          439,
          512,
          543
         ],
         "yaxis": "y"
        },
        {
         "hovertemplate": "Sub.Category=Phones<br>Year.Month=%{x}<br>Quantity=%{y}<extra></extra>",
         "legendgroup": "Phones",
         "line": {
          "color": "#ab63fa",
          "dash": "solid"
         },
         "marker": {
          "symbol": "circle"
         },
         "mode": "lines",
         "name": "Phones",
         "orientation": "v",
         "showlegend": true,
         "type": "scatter",
         "x": [
          "2012-01",
          "2012-02",
          "2012-03",
          "2012-04",
          "2012-05",
          "2012-06",
          "2012-07",
          "2012-08",
          "2012-09",
          "2012-10",
          "2012-11",
          "2012-12",
          "2013-01",
          "2013-02",
          "2013-03",
          "2013-04",
          "2013-05",
          "2013-06",
          "2013-07",
          "2013-08",
          "2013-09",
          "2013-10",
          "2013-11",
          "2013-12",
          "2014-01",
          "2014-02",
          "2014-03",
          "2014-04",
          "2014-05",
          "2014-06",
          "2014-07",
          "2014-08",
          "2014-09",
          "2014-10",
          "2014-11",
          "2014-12",
          "2015-01",
          "2015-02",
          "2015-03",
          "2015-04",
          "2015-05",
          "2015-06",
          "2015-07",
          "2015-08",
          "2015-09",
          "2015-10",
          "2015-11",
          "2015-12"
         ],
         "xaxis": "x",
         "y": [
          73,
          125,
          120,
          178,
          189,
          207,
          126,
          226,
          150,
          212,
          302,
          336,
          121,
          92,
          172,
          188,
          204,
          234,
          164,
          248,
          327,
          289,
          255,
          251,
          155,
          113,
          174,
          161,
          211,
          374,
          248,
          316,
          418,
          240,
          376,
          359,
          188,
          185,
          215,
          227,
          265,
          396,
          271,
          407,
          341,
          411,
          561,
          469
         ],
         "yaxis": "y"
        },
        {
         "hovertemplate": "Sub.Category=Storage<br>Year.Month=%{x}<br>Quantity=%{y}<extra></extra>",
         "legendgroup": "Storage",
         "line": {
          "color": "#FFA15A",
          "dash": "solid"
         },
         "marker": {
          "symbol": "circle"
         },
         "mode": "lines",
         "name": "Storage",
         "orientation": "v",
         "showlegend": true,
         "type": "scatter",
         "x": [
          "2012-01",
          "2012-02",
          "2012-03",
          "2012-04",
          "2012-05",
          "2012-06",
          "2012-07",
          "2012-08",
          "2012-09",
          "2012-10",
          "2012-11",
          "2012-12",
          "2013-01",
          "2013-02",
          "2013-03",
          "2013-04",
          "2013-05",
          "2013-06",
          "2013-07",
          "2013-08",
          "2013-09",
          "2013-10",
          "2013-11",
          "2013-12",
          "2014-01",
          "2014-02",
          "2014-03",
          "2014-04",
          "2014-05",
          "2014-06",
          "2014-07",
          "2014-08",
          "2014-09",
          "2014-10",
          "2014-11",
          "2014-12",
          "2015-01",
          "2015-02",
          "2015-03",
          "2015-04",
          "2015-05",
          "2015-06",
          "2015-07",
          "2015-08",
          "2015-09",
          "2015-10",
          "2015-11",
          "2015-12"
         ],
         "xaxis": "x",
         "y": [
          167,
          127,
          157,
          179,
          214,
          248,
          193,
          275,
          404,
          370,
          319,
          382,
          209,
          126,
          248,
          249,
          232,
          351,
          261,
          435,
          342,
          284,
          435,
          394,
          267,
          222,
          242,
          275,
          334,
          421,
          345,
          403,
          534,
          300,
          605,
          609,
          323,
          260,
          355,
          331,
          410,
          589,
          325,
          567,
          629,
          512,
          801,
          624
         ],
         "yaxis": "y"
        },
        {
         "hovertemplate": "Sub.Category=Supplies<br>Year.Month=%{x}<br>Quantity=%{y}<extra></extra>",
         "legendgroup": "Supplies",
         "line": {
          "color": "#19d3f3",
          "dash": "solid"
         },
         "marker": {
          "symbol": "circle"
         },
         "mode": "lines",
         "name": "Supplies",
         "orientation": "v",
         "showlegend": true,
         "type": "scatter",
         "x": [
          "2012-01",
          "2012-02",
          "2012-03",
          "2012-04",
          "2012-05",
          "2012-06",
          "2012-07",
          "2012-08",
          "2012-09",
          "2012-10",
          "2012-11",
          "2012-12",
          "2013-01",
          "2013-02",
          "2013-03",
          "2013-04",
          "2013-05",
          "2013-06",
          "2013-07",
          "2013-08",
          "2013-09",
          "2013-10",
          "2013-11",
          "2013-12",
          "2014-01",
          "2014-02",
          "2014-03",
          "2014-04",
          "2014-05",
          "2014-06",
          "2014-07",
          "2014-08",
          "2014-09",
          "2014-10",
          "2014-11",
          "2014-12",
          "2015-01",
          "2015-02",
          "2015-03",
          "2015-04",
          "2015-05",
          "2015-06",
          "2015-07",
          "2015-08",
          "2015-09",
          "2015-10",
          "2015-11",
          "2015-12"
         ],
         "xaxis": "x",
         "y": [
          68,
          58,
          58,
          72,
          95,
          199,
          88,
          125,
          152,
          144,
          181,
          208,
          109,
          61,
          52,
          90,
          146,
          186,
          92,
          166,
          207,
          184,
          238,
          216,
          108,
          108,
          139,
          156,
          152,
          210,
          190,
          257,
          257,
          221,
          249,
          226,
          112,
          146,
          201,
          151,
          280,
          301,
          196,
          332,
          323,
          261,
          306,
          405
         ],
         "yaxis": "y"
        },
        {
         "hovertemplate": "Sub.Category=Tables<br>Year.Month=%{x}<br>Quantity=%{y}<extra></extra>",
         "legendgroup": "Tables",
         "line": {
          "color": "#FF6692",
          "dash": "solid"
         },
         "marker": {
          "symbol": "circle"
         },
         "mode": "lines",
         "name": "Tables",
         "orientation": "v",
         "showlegend": true,
         "type": "scatter",
         "x": [
          "2012-01",
          "2012-02",
          "2012-03",
          "2012-04",
          "2012-05",
          "2012-06",
          "2012-07",
          "2012-08",
          "2012-09",
          "2012-10",
          "2012-11",
          "2012-12",
          "2013-01",
          "2013-02",
          "2013-03",
          "2013-04",
          "2013-05",
          "2013-06",
          "2013-07",
          "2013-08",
          "2013-09",
          "2013-10",
          "2013-11",
          "2013-12",
          "2014-01",
          "2014-02",
          "2014-03",
          "2014-04",
          "2014-05",
          "2014-06",
          "2014-07",
          "2014-08",
          "2014-09",
          "2014-10",
          "2014-11",
          "2014-12",
          "2015-01",
          "2015-02",
          "2015-03",
          "2015-04",
          "2015-05",
          "2015-06",
          "2015-07",
          "2015-08",
          "2015-09",
          "2015-10",
          "2015-11",
          "2015-12"
         ],
         "xaxis": "x",
         "y": [
          22,
          26,
          28,
          26,
          57,
          89,
          23,
          47,
          69,
          56,
          67,
          100,
          34,
          20,
          55,
          48,
          21,
          66,
          20,
          54,
          56,
          68,
          93,
          92,
          63,
          59,
          43,
          33,
          59,
          101,
          28,
          101,
          61,
          37,
          79,
          155,
          55,
          25,
          70,
          54,
          71,
          92,
          62,
          72,
          105,
          133,
          146,
          142
         ],
         "yaxis": "y"
        }
       ],
       "layout": {
        "legend": {
         "title": {
          "text": "Sub.Category"
         },
         "tracegroupgap": 0
        },
        "template": {
         "data": {
          "bar": [
           {
            "error_x": {
             "color": "#2a3f5f"
            },
            "error_y": {
             "color": "#2a3f5f"
            },
            "marker": {
             "line": {
              "color": "#E5ECF6",
              "width": 0.5
             },
             "pattern": {
              "fillmode": "overlay",
              "size": 10,
              "solidity": 0.2
             }
            },
            "type": "bar"
           }
          ],
          "barpolar": [
           {
            "marker": {
             "line": {
              "color": "#E5ECF6",
              "width": 0.5
             },
             "pattern": {
              "fillmode": "overlay",
              "size": 10,
              "solidity": 0.2
             }
            },
            "type": "barpolar"
           }
          ],
          "carpet": [
           {
            "aaxis": {
             "endlinecolor": "#2a3f5f",
             "gridcolor": "white",
             "linecolor": "white",
             "minorgridcolor": "white",
             "startlinecolor": "#2a3f5f"
            },
            "baxis": {
             "endlinecolor": "#2a3f5f",
             "gridcolor": "white",
             "linecolor": "white",
             "minorgridcolor": "white",
             "startlinecolor": "#2a3f5f"
            },
            "type": "carpet"
           }
          ],
          "choropleth": [
           {
            "colorbar": {
             "outlinewidth": 0,
             "ticks": ""
            },
            "type": "choropleth"
           }
          ],
          "contour": [
           {
            "colorbar": {
             "outlinewidth": 0,
             "ticks": ""
            },
            "colorscale": [
             [
              0,
              "#0d0887"
             ],
             [
              0.1111111111111111,
              "#46039f"
             ],
             [
              0.2222222222222222,
              "#7201a8"
             ],
             [
              0.3333333333333333,
              "#9c179e"
             ],
             [
              0.4444444444444444,
              "#bd3786"
             ],
             [
              0.5555555555555556,
              "#d8576b"
             ],
             [
              0.6666666666666666,
              "#ed7953"
             ],
             [
              0.7777777777777778,
              "#fb9f3a"
             ],
             [
              0.8888888888888888,
              "#fdca26"
             ],
             [
              1,
              "#f0f921"
             ]
            ],
            "type": "contour"
           }
          ],
          "contourcarpet": [
           {
            "colorbar": {
             "outlinewidth": 0,
             "ticks": ""
            },
            "type": "contourcarpet"
           }
          ],
          "heatmap": [
           {
            "colorbar": {
             "outlinewidth": 0,
             "ticks": ""
            },
            "colorscale": [
             [
              0,
              "#0d0887"
             ],
             [
              0.1111111111111111,
              "#46039f"
             ],
             [
              0.2222222222222222,
              "#7201a8"
             ],
             [
              0.3333333333333333,
              "#9c179e"
             ],
             [
              0.4444444444444444,
              "#bd3786"
             ],
             [
              0.5555555555555556,
              "#d8576b"
             ],
             [
              0.6666666666666666,
              "#ed7953"
             ],
             [
              0.7777777777777778,
              "#fb9f3a"
             ],
             [
              0.8888888888888888,
              "#fdca26"
             ],
             [
              1,
              "#f0f921"
             ]
            ],
            "type": "heatmap"
           }
          ],
          "heatmapgl": [
           {
            "colorbar": {
             "outlinewidth": 0,
             "ticks": ""
            },
            "colorscale": [
             [
              0,
              "#0d0887"
             ],
             [
              0.1111111111111111,
              "#46039f"
             ],
             [
              0.2222222222222222,
              "#7201a8"
             ],
             [
              0.3333333333333333,
              "#9c179e"
             ],
             [
              0.4444444444444444,
              "#bd3786"
             ],
             [
              0.5555555555555556,
              "#d8576b"
             ],
             [
              0.6666666666666666,
              "#ed7953"
             ],
             [
              0.7777777777777778,
              "#fb9f3a"
             ],
             [
              0.8888888888888888,
              "#fdca26"
             ],
             [
              1,
              "#f0f921"
             ]
            ],
            "type": "heatmapgl"
           }
          ],
          "histogram": [
           {
            "marker": {
             "pattern": {
              "fillmode": "overlay",
              "size": 10,
              "solidity": 0.2
             }
            },
            "type": "histogram"
           }
          ],
          "histogram2d": [
           {
            "colorbar": {
             "outlinewidth": 0,
             "ticks": ""
            },
            "colorscale": [
             [
              0,
              "#0d0887"
             ],
             [
              0.1111111111111111,
              "#46039f"
             ],
             [
              0.2222222222222222,
              "#7201a8"
             ],
             [
              0.3333333333333333,
              "#9c179e"
             ],
             [
              0.4444444444444444,
              "#bd3786"
             ],
             [
              0.5555555555555556,
              "#d8576b"
             ],
             [
              0.6666666666666666,
              "#ed7953"
             ],
             [
              0.7777777777777778,
              "#fb9f3a"
             ],
             [
              0.8888888888888888,
              "#fdca26"
             ],
             [
              1,
              "#f0f921"
             ]
            ],
            "type": "histogram2d"
           }
          ],
          "histogram2dcontour": [
           {
            "colorbar": {
             "outlinewidth": 0,
             "ticks": ""
            },
            "colorscale": [
             [
              0,
              "#0d0887"
             ],
             [
              0.1111111111111111,
              "#46039f"
             ],
             [
              0.2222222222222222,
              "#7201a8"
             ],
             [
              0.3333333333333333,
              "#9c179e"
             ],
             [
              0.4444444444444444,
              "#bd3786"
             ],
             [
              0.5555555555555556,
              "#d8576b"
             ],
             [
              0.6666666666666666,
              "#ed7953"
             ],
             [
              0.7777777777777778,
              "#fb9f3a"
             ],
             [
              0.8888888888888888,
              "#fdca26"
             ],
             [
              1,
              "#f0f921"
             ]
            ],
            "type": "histogram2dcontour"
           }
          ],
          "mesh3d": [
           {
            "colorbar": {
             "outlinewidth": 0,
             "ticks": ""
            },
            "type": "mesh3d"
           }
          ],
          "parcoords": [
           {
            "line": {
             "colorbar": {
              "outlinewidth": 0,
              "ticks": ""
             }
            },
            "type": "parcoords"
           }
          ],
          "pie": [
           {
            "automargin": true,
            "type": "pie"
           }
          ],
          "scatter": [
           {
            "marker": {
             "colorbar": {
              "outlinewidth": 0,
              "ticks": ""
             }
            },
            "type": "scatter"
           }
          ],
          "scatter3d": [
           {
            "line": {
             "colorbar": {
              "outlinewidth": 0,
              "ticks": ""
             }
            },
            "marker": {
             "colorbar": {
              "outlinewidth": 0,
              "ticks": ""
             }
            },
            "type": "scatter3d"
           }
          ],
          "scattercarpet": [
           {
            "marker": {
             "colorbar": {
              "outlinewidth": 0,
              "ticks": ""
             }
            },
            "type": "scattercarpet"
           }
          ],
          "scattergeo": [
           {
            "marker": {
             "colorbar": {
              "outlinewidth": 0,
              "ticks": ""
             }
            },
            "type": "scattergeo"
           }
          ],
          "scattergl": [
           {
            "marker": {
             "colorbar": {
              "outlinewidth": 0,
              "ticks": ""
             }
            },
            "type": "scattergl"
           }
          ],
          "scattermapbox": [
           {
            "marker": {
             "colorbar": {
              "outlinewidth": 0,
              "ticks": ""
             }
            },
            "type": "scattermapbox"
           }
          ],
          "scatterpolar": [
           {
            "marker": {
             "colorbar": {
              "outlinewidth": 0,
              "ticks": ""
             }
            },
            "type": "scatterpolar"
           }
          ],
          "scatterpolargl": [
           {
            "marker": {
             "colorbar": {
              "outlinewidth": 0,
              "ticks": ""
             }
            },
            "type": "scatterpolargl"
           }
          ],
          "scatterternary": [
           {
            "marker": {
             "colorbar": {
              "outlinewidth": 0,
              "ticks": ""
             }
            },
            "type": "scatterternary"
           }
          ],
          "surface": [
           {
            "colorbar": {
             "outlinewidth": 0,
             "ticks": ""
            },
            "colorscale": [
             [
              0,
              "#0d0887"
             ],
             [
              0.1111111111111111,
              "#46039f"
             ],
             [
              0.2222222222222222,
              "#7201a8"
             ],
             [
              0.3333333333333333,
              "#9c179e"
             ],
             [
              0.4444444444444444,
              "#bd3786"
             ],
             [
              0.5555555555555556,
              "#d8576b"
             ],
             [
              0.6666666666666666,
              "#ed7953"
             ],
             [
              0.7777777777777778,
              "#fb9f3a"
             ],
             [
              0.8888888888888888,
              "#fdca26"
             ],
             [
              1,
              "#f0f921"
             ]
            ],
            "type": "surface"
           }
          ],
          "table": [
           {
            "cells": {
             "fill": {
              "color": "#EBF0F8"
             },
             "line": {
              "color": "white"
             }
            },
            "header": {
             "fill": {
              "color": "#C8D4E3"
             },
             "line": {
              "color": "white"
             }
            },
            "type": "table"
           }
          ]
         },
         "layout": {
          "annotationdefaults": {
           "arrowcolor": "#2a3f5f",
           "arrowhead": 0,
           "arrowwidth": 1
          },
          "autotypenumbers": "strict",
          "coloraxis": {
           "colorbar": {
            "outlinewidth": 0,
            "ticks": ""
           }
          },
          "colorscale": {
           "diverging": [
            [
             0,
             "#8e0152"
            ],
            [
             0.1,
             "#c51b7d"
            ],
            [
             0.2,
             "#de77ae"
            ],
            [
             0.3,
             "#f1b6da"
            ],
            [
             0.4,
             "#fde0ef"
            ],
            [
             0.5,
             "#f7f7f7"
            ],
            [
             0.6,
             "#e6f5d0"
            ],
            [
             0.7,
             "#b8e186"
            ],
            [
             0.8,
             "#7fbc41"
            ],
            [
             0.9,
             "#4d9221"
            ],
            [
             1,
             "#276419"
            ]
           ],
           "sequential": [
            [
             0,
             "#0d0887"
            ],
            [
             0.1111111111111111,
             "#46039f"
            ],
            [
             0.2222222222222222,
             "#7201a8"
            ],
            [
             0.3333333333333333,
             "#9c179e"
            ],
            [
             0.4444444444444444,
             "#bd3786"
            ],
            [
             0.5555555555555556,
             "#d8576b"
            ],
            [
             0.6666666666666666,
             "#ed7953"
            ],
            [
             0.7777777777777778,
             "#fb9f3a"
            ],
            [
             0.8888888888888888,
             "#fdca26"
            ],
            [
             1,
             "#f0f921"
            ]
           ],
           "sequentialminus": [
            [
             0,
             "#0d0887"
            ],
            [
             0.1111111111111111,
             "#46039f"
            ],
            [
             0.2222222222222222,
             "#7201a8"
            ],
            [
             0.3333333333333333,
             "#9c179e"
            ],
            [
             0.4444444444444444,
             "#bd3786"
            ],
            [
             0.5555555555555556,
             "#d8576b"
            ],
            [
             0.6666666666666666,
             "#ed7953"
            ],
            [
             0.7777777777777778,
             "#fb9f3a"
            ],
            [
             0.8888888888888888,
             "#fdca26"
            ],
            [
             1,
             "#f0f921"
            ]
           ]
          },
          "colorway": [
           "#636efa",
           "#EF553B",
           "#00cc96",
           "#ab63fa",
           "#FFA15A",
           "#19d3f3",
           "#FF6692",
           "#B6E880",
           "#FF97FF",
           "#FECB52"
          ],
          "font": {
           "color": "#2a3f5f"
          },
          "geo": {
           "bgcolor": "white",
           "lakecolor": "white",
           "landcolor": "#E5ECF6",
           "showlakes": true,
           "showland": true,
           "subunitcolor": "white"
          },
          "hoverlabel": {
           "align": "left"
          },
          "hovermode": "closest",
          "mapbox": {
           "style": "light"
          },
          "paper_bgcolor": "white",
          "plot_bgcolor": "#E5ECF6",
          "polar": {
           "angularaxis": {
            "gridcolor": "white",
            "linecolor": "white",
            "ticks": ""
           },
           "bgcolor": "#E5ECF6",
           "radialaxis": {
            "gridcolor": "white",
            "linecolor": "white",
            "ticks": ""
           }
          },
          "scene": {
           "xaxis": {
            "backgroundcolor": "#E5ECF6",
            "gridcolor": "white",
            "gridwidth": 2,
            "linecolor": "white",
            "showbackground": true,
            "ticks": "",
            "zerolinecolor": "white"
           },
           "yaxis": {
            "backgroundcolor": "#E5ECF6",
            "gridcolor": "white",
            "gridwidth": 2,
            "linecolor": "white",
            "showbackground": true,
            "ticks": "",
            "zerolinecolor": "white"
           },
           "zaxis": {
            "backgroundcolor": "#E5ECF6",
            "gridcolor": "white",
            "gridwidth": 2,
            "linecolor": "white",
            "showbackground": true,
            "ticks": "",
            "zerolinecolor": "white"
           }
          },
          "shapedefaults": {
           "line": {
            "color": "#2a3f5f"
           }
          },
          "ternary": {
           "aaxis": {
            "gridcolor": "white",
            "linecolor": "white",
            "ticks": ""
           },
           "baxis": {
            "gridcolor": "white",
            "linecolor": "white",
            "ticks": ""
           },
           "bgcolor": "#E5ECF6",
           "caxis": {
            "gridcolor": "white",
            "linecolor": "white",
            "ticks": ""
           }
          },
          "title": {
           "x": 0.05
          },
          "xaxis": {
           "automargin": true,
           "gridcolor": "white",
           "linecolor": "white",
           "ticks": "",
           "title": {
            "standoff": 15
           },
           "zerolinecolor": "white",
           "zerolinewidth": 2
          },
          "yaxis": {
           "automargin": true,
           "gridcolor": "white",
           "linecolor": "white",
           "ticks": "",
           "title": {
            "standoff": 15
           },
           "zerolinecolor": "white",
           "zerolinewidth": 2
          }
         }
        },
        "title": {
         "text": "Yearly Trends by Category"
        },
        "xaxis": {
         "anchor": "y",
         "domain": [
          0,
          1
         ],
         "title": {
          "text": "Year.Month"
         }
        },
        "yaxis": {
         "anchor": "x",
         "domain": [
          0,
          1
         ],
         "title": {
          "text": "Quantity"
         }
        }
       }
      },
      "text/html": [
       "<div>                            <div id=\"d1f5d0f4-2d92-4465-be17-9b841b57eb30\" class=\"plotly-graph-div\" style=\"height:525px; width:100%;\"></div>            <script type=\"text/javascript\">                require([\"plotly\"], function(Plotly) {                    window.PLOTLYENV=window.PLOTLYENV || {};                                    if (document.getElementById(\"d1f5d0f4-2d92-4465-be17-9b841b57eb30\")) {                    Plotly.newPlot(                        \"d1f5d0f4-2d92-4465-be17-9b841b57eb30\",                        [{\"hovertemplate\":\"Sub.Category=Accessories<br>Year.Month=%{x}<br>Quantity=%{y}<extra></extra>\",\"legendgroup\":\"Accessories\",\"line\":{\"color\":\"#636efa\",\"dash\":\"solid\"},\"marker\":{\"symbol\":\"circle\"},\"mode\":\"lines\",\"name\":\"Accessories\",\"orientation\":\"v\",\"showlegend\":true,\"type\":\"scatter\",\"x\":[\"2012-01\",\"2012-02\",\"2012-03\",\"2012-04\",\"2012-05\",\"2012-06\",\"2012-07\",\"2012-08\",\"2012-09\",\"2012-10\",\"2012-11\",\"2012-12\",\"2013-01\",\"2013-02\",\"2013-03\",\"2013-04\",\"2013-05\",\"2013-06\",\"2013-07\",\"2013-08\",\"2013-09\",\"2013-10\",\"2013-11\",\"2013-12\",\"2014-01\",\"2014-02\",\"2014-03\",\"2014-04\",\"2014-05\",\"2014-06\",\"2014-07\",\"2014-08\",\"2014-09\",\"2014-10\",\"2014-11\",\"2014-12\",\"2015-01\",\"2015-02\",\"2015-03\",\"2015-04\",\"2015-05\",\"2015-06\",\"2015-07\",\"2015-08\",\"2015-09\",\"2015-10\",\"2015-11\",\"2015-12\"],\"xaxis\":\"x\",\"y\":[48,68,85,121,161,184,131,208,199,139,207,288,99,147,128,137,146,235,150,265,241,245,302,325,120,113,177,188,201,296,201,264,336,266,426,379,181,200,192,194,274,345,248,371,458,289,508,460],\"yaxis\":\"y\"},{\"hovertemplate\":\"Sub.Category=Appliances<br>Year.Month=%{x}<br>Quantity=%{y}<extra></extra>\",\"legendgroup\":\"Appliances\",\"line\":{\"color\":\"#EF553B\",\"dash\":\"solid\"},\"marker\":{\"symbol\":\"circle\"},\"mode\":\"lines\",\"name\":\"Appliances\",\"orientation\":\"v\",\"showlegend\":true,\"type\":\"scatter\",\"x\":[\"2012-01\",\"2012-02\",\"2012-03\",\"2012-04\",\"2012-05\",\"2012-06\",\"2012-07\",\"2012-08\",\"2012-09\",\"2012-10\",\"2012-11\",\"2012-12\",\"2013-01\",\"2013-02\",\"2013-03\",\"2013-04\",\"2013-05\",\"2013-06\",\"2013-07\",\"2013-08\",\"2013-09\",\"2013-10\",\"2013-11\",\"2013-12\",\"2014-01\",\"2014-02\",\"2014-03\",\"2014-04\",\"2014-05\",\"2014-06\",\"2014-07\",\"2014-08\",\"2014-09\",\"2014-10\",\"2014-11\",\"2014-12\",\"2015-01\",\"2015-02\",\"2015-03\",\"2015-04\",\"2015-05\",\"2015-06\",\"2015-07\",\"2015-08\",\"2015-09\",\"2015-10\",\"2015-11\",\"2015-12\"],\"xaxis\":\"x\",\"y\":[35,60,60,83,81,134,32,70,190,92,162,124,76,36,66,83,150,79,54,169,101,109,184,170,71,72,121,90,127,207,85,141,202,104,168,157,96,93,138,117,142,174,155,233,165,180,282,306],\"yaxis\":\"y\"},{\"hovertemplate\":\"Sub.Category=Art<br>Year.Month=%{x}<br>Quantity=%{y}<extra></extra>\",\"legendgroup\":\"Art\",\"line\":{\"color\":\"#00cc96\",\"dash\":\"solid\"},\"marker\":{\"symbol\":\"circle\"},\"mode\":\"lines\",\"name\":\"Art\",\"orientation\":\"v\",\"showlegend\":true,\"type\":\"scatter\",\"x\":[\"2012-01\",\"2012-02\",\"2012-03\",\"2012-04\",\"2012-05\",\"2012-06\",\"2012-07\",\"2012-08\",\"2012-09\",\"2012-10\",\"2012-11\",\"2012-12\",\"2013-01\",\"2013-02\",\"2013-03\",\"2013-04\",\"2013-05\",\"2013-06\",\"2013-07\",\"2013-08\",\"2013-09\",\"2013-10\",\"2013-11\",\"2013-12\",\"2014-01\",\"2014-02\",\"2014-03\",\"2014-04\",\"2014-05\",\"2014-06\",\"2014-07\",\"2014-08\",\"2014-09\",\"2014-10\",\"2014-11\",\"2014-12\",\"2015-01\",\"2015-02\",\"2015-03\",\"2015-04\",\"2015-05\",\"2015-06\",\"2015-07\",\"2015-08\",\"2015-09\",\"2015-10\",\"2015-11\",\"2015-12\"],\"xaxis\":\"x\",\"y\":[201,123,165,256,233,296,161,288,348,241,242,357,160,144,192,196,245,342,182,389,390,297,496,517,211,196,207,238,347,481,290,490,564,272,423,453,325,251,360,328,343,572,371,521,660,430,723,698],\"yaxis\":\"y\"},{\"hovertemplate\":\"Sub.Category=Binders<br>Year.Month=%{x}<br>Quantity=%{y}<extra></extra>\",\"legendgroup\":\"Binders\",\"line\":{\"color\":\"#ab63fa\",\"dash\":\"solid\"},\"marker\":{\"symbol\":\"circle\"},\"mode\":\"lines\",\"name\":\"Binders\",\"orientation\":\"v\",\"showlegend\":true,\"type\":\"scatter\",\"x\":[\"2012-01\",\"2012-02\",\"2012-03\",\"2012-04\",\"2012-05\",\"2012-06\",\"2012-07\",\"2012-08\",\"2012-09\",\"2012-10\",\"2012-11\",\"2012-12\",\"2013-01\",\"2013-02\",\"2013-03\",\"2013-04\",\"2013-05\",\"2013-06\",\"2013-07\",\"2013-08\",\"2013-09\",\"2013-10\",\"2013-11\",\"2013-12\",\"2014-01\",\"2014-02\",\"2014-03\",\"2014-04\",\"2014-05\",\"2014-06\",\"2014-07\",\"2014-08\",\"2014-09\",\"2014-10\",\"2014-11\",\"2014-12\",\"2015-01\",\"2015-02\",\"2015-03\",\"2015-04\",\"2015-05\",\"2015-06\",\"2015-07\",\"2015-08\",\"2015-09\",\"2015-10\",\"2015-11\",\"2015-12\"],\"xaxis\":\"x\",\"y\":[173,163,225,228,244,303,269,340,405,305,467,534,198,149,234,239,299,450,294,423,594,366,696,574,290,274,302,359,509,646,342,617,690,427,677,694,407,262,446,480,502,695,381,805,888,720,893,925],\"yaxis\":\"y\"},{\"hovertemplate\":\"Sub.Category=Bookcases<br>Year.Month=%{x}<br>Quantity=%{y}<extra></extra>\",\"legendgroup\":\"Bookcases\",\"line\":{\"color\":\"#FFA15A\",\"dash\":\"solid\"},\"marker\":{\"symbol\":\"circle\"},\"mode\":\"lines\",\"name\":\"Bookcases\",\"orientation\":\"v\",\"showlegend\":true,\"type\":\"scatter\",\"x\":[\"2012-01\",\"2012-02\",\"2012-03\",\"2012-04\",\"2012-05\",\"2012-06\",\"2012-07\",\"2012-08\",\"2012-09\",\"2012-10\",\"2012-11\",\"2012-12\",\"2013-01\",\"2013-02\",\"2013-03\",\"2013-04\",\"2013-05\",\"2013-06\",\"2013-07\",\"2013-08\",\"2013-09\",\"2013-10\",\"2013-11\",\"2013-12\",\"2014-01\",\"2014-02\",\"2014-03\",\"2014-04\",\"2014-05\",\"2014-06\",\"2014-07\",\"2014-08\",\"2014-09\",\"2014-10\",\"2014-11\",\"2014-12\",\"2015-01\",\"2015-02\",\"2015-03\",\"2015-04\",\"2015-05\",\"2015-06\",\"2015-07\",\"2015-08\",\"2015-09\",\"2015-10\",\"2015-11\",\"2015-12\"],\"xaxis\":\"x\",\"y\":[74,49,71,47,94,149,65,140,203,131,188,211,92,45,129,101,146,165,93,205,200,172,224,216,179,75,128,101,107,186,145,211,339,205,242,272,82,141,176,231,209,280,209,304,335,308,328,307],\"yaxis\":\"y\"},{\"hovertemplate\":\"Sub.Category=Chairs<br>Year.Month=%{x}<br>Quantity=%{y}<extra></extra>\",\"legendgroup\":\"Chairs\",\"line\":{\"color\":\"#19d3f3\",\"dash\":\"solid\"},\"marker\":{\"symbol\":\"circle\"},\"mode\":\"lines\",\"name\":\"Chairs\",\"orientation\":\"v\",\"showlegend\":true,\"type\":\"scatter\",\"x\":[\"2012-01\",\"2012-02\",\"2012-03\",\"2012-04\",\"2012-05\",\"2012-06\",\"2012-07\",\"2012-08\",\"2012-09\",\"2012-10\",\"2012-11\",\"2012-12\",\"2013-01\",\"2013-02\",\"2013-03\",\"2013-04\",\"2013-05\",\"2013-06\",\"2013-07\",\"2013-08\",\"2013-09\",\"2013-10\",\"2013-11\",\"2013-12\",\"2014-01\",\"2014-02\",\"2014-03\",\"2014-04\",\"2014-05\",\"2014-06\",\"2014-07\",\"2014-08\",\"2014-09\",\"2014-10\",\"2014-11\",\"2014-12\",\"2015-01\",\"2015-02\",\"2015-03\",\"2015-04\",\"2015-05\",\"2015-06\",\"2015-07\",\"2015-08\",\"2015-09\",\"2015-10\",\"2015-11\",\"2015-12\"],\"xaxis\":\"x\",\"y\":[74,94,125,128,130,238,108,221,246,261,307,363,103,119,132,157,164,242,211,174,282,235,437,259,165,152,247,229,297,334,257,331,387,322,395,376,218,176,270,206,333,368,198,290,490,430,481,574],\"yaxis\":\"y\"},{\"hovertemplate\":\"Sub.Category=Copiers<br>Year.Month=%{x}<br>Quantity=%{y}<extra></extra>\",\"legendgroup\":\"Copiers\",\"line\":{\"color\":\"#FF6692\",\"dash\":\"solid\"},\"marker\":{\"symbol\":\"circle\"},\"mode\":\"lines\",\"name\":\"Copiers\",\"orientation\":\"v\",\"showlegend\":true,\"type\":\"scatter\",\"x\":[\"2012-01\",\"2012-02\",\"2012-03\",\"2012-04\",\"2012-05\",\"2012-06\",\"2012-07\",\"2012-08\",\"2012-09\",\"2012-10\",\"2012-11\",\"2012-12\",\"2013-01\",\"2013-02\",\"2013-03\",\"2013-04\",\"2013-05\",\"2013-06\",\"2013-07\",\"2013-08\",\"2013-09\",\"2013-10\",\"2013-11\",\"2013-12\",\"2014-01\",\"2014-02\",\"2014-03\",\"2014-04\",\"2014-05\",\"2014-06\",\"2014-07\",\"2014-08\",\"2014-09\",\"2014-10\",\"2014-11\",\"2014-12\",\"2015-01\",\"2015-02\",\"2015-03\",\"2015-04\",\"2015-05\",\"2015-06\",\"2015-07\",\"2015-08\",\"2015-09\",\"2015-10\",\"2015-11\",\"2015-12\"],\"xaxis\":\"x\",\"y\":[51,62,66,46,77,103,73,116,116,134,144,150,69,41,102,159,138,140,85,187,183,154,168,217,100,104,108,107,194,257,159,195,200,165,226,216,149,128,195,138,149,242,139,228,352,316,305,301],\"yaxis\":\"y\"},{\"hovertemplate\":\"Sub.Category=Envelopes<br>Year.Month=%{x}<br>Quantity=%{y}<extra></extra>\",\"legendgroup\":\"Envelopes\",\"line\":{\"color\":\"#B6E880\",\"dash\":\"solid\"},\"marker\":{\"symbol\":\"circle\"},\"mode\":\"lines\",\"name\":\"Envelopes\",\"orientation\":\"v\",\"showlegend\":true,\"type\":\"scatter\",\"x\":[\"2012-01\",\"2012-02\",\"2012-03\",\"2012-04\",\"2012-05\",\"2012-06\",\"2012-07\",\"2012-08\",\"2012-09\",\"2012-10\",\"2012-11\",\"2012-12\",\"2013-01\",\"2013-02\",\"2013-03\",\"2013-04\",\"2013-05\",\"2013-06\",\"2013-07\",\"2013-08\",\"2013-09\",\"2013-10\",\"2013-11\",\"2013-12\",\"2014-01\",\"2014-02\",\"2014-03\",\"2014-04\",\"2014-05\",\"2014-06\",\"2014-07\",\"2014-08\",\"2014-09\",\"2014-10\",\"2014-11\",\"2014-12\",\"2015-01\",\"2015-02\",\"2015-03\",\"2015-04\",\"2015-05\",\"2015-06\",\"2015-07\",\"2015-08\",\"2015-09\",\"2015-10\",\"2015-11\",\"2015-12\"],\"xaxis\":\"x\",\"y\":[79,48,57,103,82,101,89,158,152,121,213,145,64,75,103,117,147,207,165,124,240,183,230,213,121,102,171,114,157,233,116,295,322,168,250,254,149,84,219,153,231,278,127,213,280,290,326,341],\"yaxis\":\"y\"},{\"hovertemplate\":\"Sub.Category=Fasteners<br>Year.Month=%{x}<br>Quantity=%{y}<extra></extra>\",\"legendgroup\":\"Fasteners\",\"line\":{\"color\":\"#FF97FF\",\"dash\":\"solid\"},\"marker\":{\"symbol\":\"circle\"},\"mode\":\"lines\",\"name\":\"Fasteners\",\"orientation\":\"v\",\"showlegend\":true,\"type\":\"scatter\",\"x\":[\"2012-01\",\"2012-02\",\"2012-03\",\"2012-04\",\"2012-05\",\"2012-06\",\"2012-07\",\"2012-08\",\"2012-09\",\"2012-10\",\"2012-11\",\"2012-12\",\"2013-01\",\"2013-02\",\"2013-03\",\"2013-04\",\"2013-05\",\"2013-06\",\"2013-07\",\"2013-08\",\"2013-09\",\"2013-10\",\"2013-11\",\"2013-12\",\"2014-01\",\"2014-02\",\"2014-03\",\"2014-04\",\"2014-05\",\"2014-06\",\"2014-07\",\"2014-08\",\"2014-09\",\"2014-10\",\"2014-11\",\"2014-12\",\"2015-01\",\"2015-02\",\"2015-03\",\"2015-04\",\"2015-05\",\"2015-06\",\"2015-07\",\"2015-08\",\"2015-09\",\"2015-10\",\"2015-11\",\"2015-12\"],\"xaxis\":\"x\",\"y\":[74,89,116,87,102,144,91,130,219,142,152,171,80,78,124,141,165,217,105,213,147,246,286,224,79,91,92,136,206,229,143,304,266,229,315,317,161,140,187,215,197,372,164,248,333,304,435,345],\"yaxis\":\"y\"},{\"hovertemplate\":\"Sub.Category=Furnishings<br>Year.Month=%{x}<br>Quantity=%{y}<extra></extra>\",\"legendgroup\":\"Furnishings\",\"line\":{\"color\":\"#FECB52\",\"dash\":\"solid\"},\"marker\":{\"symbol\":\"circle\"},\"mode\":\"lines\",\"name\":\"Furnishings\",\"orientation\":\"v\",\"showlegend\":true,\"type\":\"scatter\",\"x\":[\"2012-01\",\"2012-02\",\"2012-03\",\"2012-04\",\"2012-05\",\"2012-06\",\"2012-07\",\"2012-08\",\"2012-09\",\"2012-10\",\"2012-11\",\"2012-12\",\"2013-01\",\"2013-02\",\"2013-03\",\"2013-04\",\"2013-05\",\"2013-06\",\"2013-07\",\"2013-08\",\"2013-09\",\"2013-10\",\"2013-11\",\"2013-12\",\"2014-01\",\"2014-02\",\"2014-03\",\"2014-04\",\"2014-05\",\"2014-06\",\"2014-07\",\"2014-08\",\"2014-09\",\"2014-10\",\"2014-11\",\"2014-12\",\"2015-01\",\"2015-02\",\"2015-03\",\"2015-04\",\"2015-05\",\"2015-06\",\"2015-07\",\"2015-08\",\"2015-09\",\"2015-10\",\"2015-11\",\"2015-12\"],\"xaxis\":\"x\",\"y\":[76,109,95,125,128,204,117,161,239,189,237,289,171,102,141,116,150,245,142,214,265,182,381,227,137,167,164,166,274,339,224,240,382,302,368,419,205,135,224,237,244,336,255,294,452,292,498,504],\"yaxis\":\"y\"},{\"hovertemplate\":\"Sub.Category=Labels<br>Year.Month=%{x}<br>Quantity=%{y}<extra></extra>\",\"legendgroup\":\"Labels\",\"line\":{\"color\":\"#636efa\",\"dash\":\"solid\"},\"marker\":{\"symbol\":\"circle\"},\"mode\":\"lines\",\"name\":\"Labels\",\"orientation\":\"v\",\"showlegend\":true,\"type\":\"scatter\",\"x\":[\"2012-01\",\"2012-02\",\"2012-03\",\"2012-04\",\"2012-05\",\"2012-06\",\"2012-07\",\"2012-08\",\"2012-09\",\"2012-10\",\"2012-11\",\"2012-12\",\"2013-01\",\"2013-02\",\"2013-03\",\"2013-04\",\"2013-05\",\"2013-06\",\"2013-07\",\"2013-08\",\"2013-09\",\"2013-10\",\"2013-11\",\"2013-12\",\"2014-01\",\"2014-02\",\"2014-03\",\"2014-04\",\"2014-05\",\"2014-06\",\"2014-07\",\"2014-08\",\"2014-09\",\"2014-10\",\"2014-11\",\"2014-12\",\"2015-01\",\"2015-02\",\"2015-03\",\"2015-04\",\"2015-05\",\"2015-06\",\"2015-07\",\"2015-08\",\"2015-09\",\"2015-10\",\"2015-11\",\"2015-12\"],\"xaxis\":\"x\",\"y\":[77,52,128,87,75,143,103,151,221,169,247,234,66,78,88,105,239,165,61,193,200,201,276,217,138,85,128,79,164,380,150,281,318,216,270,221,164,89,171,216,230,383,199,381,370,348,378,366],\"yaxis\":\"y\"},{\"hovertemplate\":\"Sub.Category=Machines<br>Year.Month=%{x}<br>Quantity=%{y}<extra></extra>\",\"legendgroup\":\"Machines\",\"line\":{\"color\":\"#EF553B\",\"dash\":\"solid\"},\"marker\":{\"symbol\":\"circle\"},\"mode\":\"lines\",\"name\":\"Machines\",\"orientation\":\"v\",\"showlegend\":true,\"type\":\"scatter\",\"x\":[\"2012-01\",\"2012-02\",\"2012-03\",\"2012-04\",\"2012-05\",\"2012-06\",\"2012-07\",\"2012-08\",\"2012-09\",\"2012-10\",\"2012-11\",\"2012-12\",\"2013-01\",\"2013-02\",\"2013-03\",\"2013-04\",\"2013-05\",\"2013-06\",\"2013-07\",\"2013-08\",\"2013-09\",\"2013-10\",\"2013-11\",\"2013-12\",\"2014-01\",\"2014-02\",\"2014-03\",\"2014-04\",\"2014-05\",\"2014-06\",\"2014-07\",\"2014-08\",\"2014-09\",\"2014-10\",\"2014-11\",\"2014-12\",\"2015-01\",\"2015-02\",\"2015-03\",\"2015-04\",\"2015-05\",\"2015-06\",\"2015-07\",\"2015-08\",\"2015-09\",\"2015-10\",\"2015-11\",\"2015-12\"],\"xaxis\":\"x\",\"y\":[48,68,62,30,63,82,51,79,95,86,131,142,77,39,62,46,80,108,54,101,132,104,143,143,42,40,69,51,106,178,61,128,80,132,102,157,121,70,82,99,84,182,110,179,168,213,223,203],\"yaxis\":\"y\"},{\"hovertemplate\":\"Sub.Category=Paper<br>Year.Month=%{x}<br>Quantity=%{y}<extra></extra>\",\"legendgroup\":\"Paper\",\"line\":{\"color\":\"#00cc96\",\"dash\":\"solid\"},\"marker\":{\"symbol\":\"circle\"},\"mode\":\"lines\",\"name\":\"Paper\",\"orientation\":\"v\",\"showlegend\":true,\"type\":\"scatter\",\"x\":[\"2012-01\",\"2012-02\",\"2012-03\",\"2012-04\",\"2012-05\",\"2012-06\",\"2012-07\",\"2012-08\",\"2012-09\",\"2012-10\",\"2012-11\",\"2012-12\",\"2013-01\",\"2013-02\",\"2013-03\",\"2013-04\",\"2013-05\",\"2013-06\",\"2013-07\",\"2013-08\",\"2013-09\",\"2013-10\",\"2013-11\",\"2013-12\",\"2014-01\",\"2014-02\",\"2014-03\",\"2014-04\",\"2014-05\",\"2014-06\",\"2014-07\",\"2014-08\",\"2014-09\",\"2014-10\",\"2014-11\",\"2014-12\",\"2015-01\",\"2015-02\",\"2015-03\",\"2015-04\",\"2015-05\",\"2015-06\",\"2015-07\",\"2015-08\",\"2015-09\",\"2015-10\",\"2015-11\",\"2015-12\"],\"xaxis\":\"x\",\"y\":[123,80,127,138,142,178,116,285,236,189,358,292,146,92,209,78,249,239,188,258,298,244,349,359,167,129,174,205,363,455,268,360,437,277,385,430,186,97,221,217,336,404,227,379,488,439,512,543],\"yaxis\":\"y\"},{\"hovertemplate\":\"Sub.Category=Phones<br>Year.Month=%{x}<br>Quantity=%{y}<extra></extra>\",\"legendgroup\":\"Phones\",\"line\":{\"color\":\"#ab63fa\",\"dash\":\"solid\"},\"marker\":{\"symbol\":\"circle\"},\"mode\":\"lines\",\"name\":\"Phones\",\"orientation\":\"v\",\"showlegend\":true,\"type\":\"scatter\",\"x\":[\"2012-01\",\"2012-02\",\"2012-03\",\"2012-04\",\"2012-05\",\"2012-06\",\"2012-07\",\"2012-08\",\"2012-09\",\"2012-10\",\"2012-11\",\"2012-12\",\"2013-01\",\"2013-02\",\"2013-03\",\"2013-04\",\"2013-05\",\"2013-06\",\"2013-07\",\"2013-08\",\"2013-09\",\"2013-10\",\"2013-11\",\"2013-12\",\"2014-01\",\"2014-02\",\"2014-03\",\"2014-04\",\"2014-05\",\"2014-06\",\"2014-07\",\"2014-08\",\"2014-09\",\"2014-10\",\"2014-11\",\"2014-12\",\"2015-01\",\"2015-02\",\"2015-03\",\"2015-04\",\"2015-05\",\"2015-06\",\"2015-07\",\"2015-08\",\"2015-09\",\"2015-10\",\"2015-11\",\"2015-12\"],\"xaxis\":\"x\",\"y\":[73,125,120,178,189,207,126,226,150,212,302,336,121,92,172,188,204,234,164,248,327,289,255,251,155,113,174,161,211,374,248,316,418,240,376,359,188,185,215,227,265,396,271,407,341,411,561,469],\"yaxis\":\"y\"},{\"hovertemplate\":\"Sub.Category=Storage<br>Year.Month=%{x}<br>Quantity=%{y}<extra></extra>\",\"legendgroup\":\"Storage\",\"line\":{\"color\":\"#FFA15A\",\"dash\":\"solid\"},\"marker\":{\"symbol\":\"circle\"},\"mode\":\"lines\",\"name\":\"Storage\",\"orientation\":\"v\",\"showlegend\":true,\"type\":\"scatter\",\"x\":[\"2012-01\",\"2012-02\",\"2012-03\",\"2012-04\",\"2012-05\",\"2012-06\",\"2012-07\",\"2012-08\",\"2012-09\",\"2012-10\",\"2012-11\",\"2012-12\",\"2013-01\",\"2013-02\",\"2013-03\",\"2013-04\",\"2013-05\",\"2013-06\",\"2013-07\",\"2013-08\",\"2013-09\",\"2013-10\",\"2013-11\",\"2013-12\",\"2014-01\",\"2014-02\",\"2014-03\",\"2014-04\",\"2014-05\",\"2014-06\",\"2014-07\",\"2014-08\",\"2014-09\",\"2014-10\",\"2014-11\",\"2014-12\",\"2015-01\",\"2015-02\",\"2015-03\",\"2015-04\",\"2015-05\",\"2015-06\",\"2015-07\",\"2015-08\",\"2015-09\",\"2015-10\",\"2015-11\",\"2015-12\"],\"xaxis\":\"x\",\"y\":[167,127,157,179,214,248,193,275,404,370,319,382,209,126,248,249,232,351,261,435,342,284,435,394,267,222,242,275,334,421,345,403,534,300,605,609,323,260,355,331,410,589,325,567,629,512,801,624],\"yaxis\":\"y\"},{\"hovertemplate\":\"Sub.Category=Supplies<br>Year.Month=%{x}<br>Quantity=%{y}<extra></extra>\",\"legendgroup\":\"Supplies\",\"line\":{\"color\":\"#19d3f3\",\"dash\":\"solid\"},\"marker\":{\"symbol\":\"circle\"},\"mode\":\"lines\",\"name\":\"Supplies\",\"orientation\":\"v\",\"showlegend\":true,\"type\":\"scatter\",\"x\":[\"2012-01\",\"2012-02\",\"2012-03\",\"2012-04\",\"2012-05\",\"2012-06\",\"2012-07\",\"2012-08\",\"2012-09\",\"2012-10\",\"2012-11\",\"2012-12\",\"2013-01\",\"2013-02\",\"2013-03\",\"2013-04\",\"2013-05\",\"2013-06\",\"2013-07\",\"2013-08\",\"2013-09\",\"2013-10\",\"2013-11\",\"2013-12\",\"2014-01\",\"2014-02\",\"2014-03\",\"2014-04\",\"2014-05\",\"2014-06\",\"2014-07\",\"2014-08\",\"2014-09\",\"2014-10\",\"2014-11\",\"2014-12\",\"2015-01\",\"2015-02\",\"2015-03\",\"2015-04\",\"2015-05\",\"2015-06\",\"2015-07\",\"2015-08\",\"2015-09\",\"2015-10\",\"2015-11\",\"2015-12\"],\"xaxis\":\"x\",\"y\":[68,58,58,72,95,199,88,125,152,144,181,208,109,61,52,90,146,186,92,166,207,184,238,216,108,108,139,156,152,210,190,257,257,221,249,226,112,146,201,151,280,301,196,332,323,261,306,405],\"yaxis\":\"y\"},{\"hovertemplate\":\"Sub.Category=Tables<br>Year.Month=%{x}<br>Quantity=%{y}<extra></extra>\",\"legendgroup\":\"Tables\",\"line\":{\"color\":\"#FF6692\",\"dash\":\"solid\"},\"marker\":{\"symbol\":\"circle\"},\"mode\":\"lines\",\"name\":\"Tables\",\"orientation\":\"v\",\"showlegend\":true,\"type\":\"scatter\",\"x\":[\"2012-01\",\"2012-02\",\"2012-03\",\"2012-04\",\"2012-05\",\"2012-06\",\"2012-07\",\"2012-08\",\"2012-09\",\"2012-10\",\"2012-11\",\"2012-12\",\"2013-01\",\"2013-02\",\"2013-03\",\"2013-04\",\"2013-05\",\"2013-06\",\"2013-07\",\"2013-08\",\"2013-09\",\"2013-10\",\"2013-11\",\"2013-12\",\"2014-01\",\"2014-02\",\"2014-03\",\"2014-04\",\"2014-05\",\"2014-06\",\"2014-07\",\"2014-08\",\"2014-09\",\"2014-10\",\"2014-11\",\"2014-12\",\"2015-01\",\"2015-02\",\"2015-03\",\"2015-04\",\"2015-05\",\"2015-06\",\"2015-07\",\"2015-08\",\"2015-09\",\"2015-10\",\"2015-11\",\"2015-12\"],\"xaxis\":\"x\",\"y\":[22,26,28,26,57,89,23,47,69,56,67,100,34,20,55,48,21,66,20,54,56,68,93,92,63,59,43,33,59,101,28,101,61,37,79,155,55,25,70,54,71,92,62,72,105,133,146,142],\"yaxis\":\"y\"}],                        {\"legend\":{\"title\":{\"text\":\"Sub.Category\"},\"tracegroupgap\":0},\"template\":{\"data\":{\"bar\":[{\"error_x\":{\"color\":\"#2a3f5f\"},\"error_y\":{\"color\":\"#2a3f5f\"},\"marker\":{\"line\":{\"color\":\"#E5ECF6\",\"width\":0.5},\"pattern\":{\"fillmode\":\"overlay\",\"size\":10,\"solidity\":0.2}},\"type\":\"bar\"}],\"barpolar\":[{\"marker\":{\"line\":{\"color\":\"#E5ECF6\",\"width\":0.5},\"pattern\":{\"fillmode\":\"overlay\",\"size\":10,\"solidity\":0.2}},\"type\":\"barpolar\"}],\"carpet\":[{\"aaxis\":{\"endlinecolor\":\"#2a3f5f\",\"gridcolor\":\"white\",\"linecolor\":\"white\",\"minorgridcolor\":\"white\",\"startlinecolor\":\"#2a3f5f\"},\"baxis\":{\"endlinecolor\":\"#2a3f5f\",\"gridcolor\":\"white\",\"linecolor\":\"white\",\"minorgridcolor\":\"white\",\"startlinecolor\":\"#2a3f5f\"},\"type\":\"carpet\"}],\"choropleth\":[{\"colorbar\":{\"outlinewidth\":0,\"ticks\":\"\"},\"type\":\"choropleth\"}],\"contour\":[{\"colorbar\":{\"outlinewidth\":0,\"ticks\":\"\"},\"colorscale\":[[0.0,\"#0d0887\"],[0.1111111111111111,\"#46039f\"],[0.2222222222222222,\"#7201a8\"],[0.3333333333333333,\"#9c179e\"],[0.4444444444444444,\"#bd3786\"],[0.5555555555555556,\"#d8576b\"],[0.6666666666666666,\"#ed7953\"],[0.7777777777777778,\"#fb9f3a\"],[0.8888888888888888,\"#fdca26\"],[1.0,\"#f0f921\"]],\"type\":\"contour\"}],\"contourcarpet\":[{\"colorbar\":{\"outlinewidth\":0,\"ticks\":\"\"},\"type\":\"contourcarpet\"}],\"heatmap\":[{\"colorbar\":{\"outlinewidth\":0,\"ticks\":\"\"},\"colorscale\":[[0.0,\"#0d0887\"],[0.1111111111111111,\"#46039f\"],[0.2222222222222222,\"#7201a8\"],[0.3333333333333333,\"#9c179e\"],[0.4444444444444444,\"#bd3786\"],[0.5555555555555556,\"#d8576b\"],[0.6666666666666666,\"#ed7953\"],[0.7777777777777778,\"#fb9f3a\"],[0.8888888888888888,\"#fdca26\"],[1.0,\"#f0f921\"]],\"type\":\"heatmap\"}],\"heatmapgl\":[{\"colorbar\":{\"outlinewidth\":0,\"ticks\":\"\"},\"colorscale\":[[0.0,\"#0d0887\"],[0.1111111111111111,\"#46039f\"],[0.2222222222222222,\"#7201a8\"],[0.3333333333333333,\"#9c179e\"],[0.4444444444444444,\"#bd3786\"],[0.5555555555555556,\"#d8576b\"],[0.6666666666666666,\"#ed7953\"],[0.7777777777777778,\"#fb9f3a\"],[0.8888888888888888,\"#fdca26\"],[1.0,\"#f0f921\"]],\"type\":\"heatmapgl\"}],\"histogram\":[{\"marker\":{\"pattern\":{\"fillmode\":\"overlay\",\"size\":10,\"solidity\":0.2}},\"type\":\"histogram\"}],\"histogram2d\":[{\"colorbar\":{\"outlinewidth\":0,\"ticks\":\"\"},\"colorscale\":[[0.0,\"#0d0887\"],[0.1111111111111111,\"#46039f\"],[0.2222222222222222,\"#7201a8\"],[0.3333333333333333,\"#9c179e\"],[0.4444444444444444,\"#bd3786\"],[0.5555555555555556,\"#d8576b\"],[0.6666666666666666,\"#ed7953\"],[0.7777777777777778,\"#fb9f3a\"],[0.8888888888888888,\"#fdca26\"],[1.0,\"#f0f921\"]],\"type\":\"histogram2d\"}],\"histogram2dcontour\":[{\"colorbar\":{\"outlinewidth\":0,\"ticks\":\"\"},\"colorscale\":[[0.0,\"#0d0887\"],[0.1111111111111111,\"#46039f\"],[0.2222222222222222,\"#7201a8\"],[0.3333333333333333,\"#9c179e\"],[0.4444444444444444,\"#bd3786\"],[0.5555555555555556,\"#d8576b\"],[0.6666666666666666,\"#ed7953\"],[0.7777777777777778,\"#fb9f3a\"],[0.8888888888888888,\"#fdca26\"],[1.0,\"#f0f921\"]],\"type\":\"histogram2dcontour\"}],\"mesh3d\":[{\"colorbar\":{\"outlinewidth\":0,\"ticks\":\"\"},\"type\":\"mesh3d\"}],\"parcoords\":[{\"line\":{\"colorbar\":{\"outlinewidth\":0,\"ticks\":\"\"}},\"type\":\"parcoords\"}],\"pie\":[{\"automargin\":true,\"type\":\"pie\"}],\"scatter\":[{\"marker\":{\"colorbar\":{\"outlinewidth\":0,\"ticks\":\"\"}},\"type\":\"scatter\"}],\"scatter3d\":[{\"line\":{\"colorbar\":{\"outlinewidth\":0,\"ticks\":\"\"}},\"marker\":{\"colorbar\":{\"outlinewidth\":0,\"ticks\":\"\"}},\"type\":\"scatter3d\"}],\"scattercarpet\":[{\"marker\":{\"colorbar\":{\"outlinewidth\":0,\"ticks\":\"\"}},\"type\":\"scattercarpet\"}],\"scattergeo\":[{\"marker\":{\"colorbar\":{\"outlinewidth\":0,\"ticks\":\"\"}},\"type\":\"scattergeo\"}],\"scattergl\":[{\"marker\":{\"colorbar\":{\"outlinewidth\":0,\"ticks\":\"\"}},\"type\":\"scattergl\"}],\"scattermapbox\":[{\"marker\":{\"colorbar\":{\"outlinewidth\":0,\"ticks\":\"\"}},\"type\":\"scattermapbox\"}],\"scatterpolar\":[{\"marker\":{\"colorbar\":{\"outlinewidth\":0,\"ticks\":\"\"}},\"type\":\"scatterpolar\"}],\"scatterpolargl\":[{\"marker\":{\"colorbar\":{\"outlinewidth\":0,\"ticks\":\"\"}},\"type\":\"scatterpolargl\"}],\"scatterternary\":[{\"marker\":{\"colorbar\":{\"outlinewidth\":0,\"ticks\":\"\"}},\"type\":\"scatterternary\"}],\"surface\":[{\"colorbar\":{\"outlinewidth\":0,\"ticks\":\"\"},\"colorscale\":[[0.0,\"#0d0887\"],[0.1111111111111111,\"#46039f\"],[0.2222222222222222,\"#7201a8\"],[0.3333333333333333,\"#9c179e\"],[0.4444444444444444,\"#bd3786\"],[0.5555555555555556,\"#d8576b\"],[0.6666666666666666,\"#ed7953\"],[0.7777777777777778,\"#fb9f3a\"],[0.8888888888888888,\"#fdca26\"],[1.0,\"#f0f921\"]],\"type\":\"surface\"}],\"table\":[{\"cells\":{\"fill\":{\"color\":\"#EBF0F8\"},\"line\":{\"color\":\"white\"}},\"header\":{\"fill\":{\"color\":\"#C8D4E3\"},\"line\":{\"color\":\"white\"}},\"type\":\"table\"}]},\"layout\":{\"annotationdefaults\":{\"arrowcolor\":\"#2a3f5f\",\"arrowhead\":0,\"arrowwidth\":1},\"autotypenumbers\":\"strict\",\"coloraxis\":{\"colorbar\":{\"outlinewidth\":0,\"ticks\":\"\"}},\"colorscale\":{\"diverging\":[[0,\"#8e0152\"],[0.1,\"#c51b7d\"],[0.2,\"#de77ae\"],[0.3,\"#f1b6da\"],[0.4,\"#fde0ef\"],[0.5,\"#f7f7f7\"],[0.6,\"#e6f5d0\"],[0.7,\"#b8e186\"],[0.8,\"#7fbc41\"],[0.9,\"#4d9221\"],[1,\"#276419\"]],\"sequential\":[[0.0,\"#0d0887\"],[0.1111111111111111,\"#46039f\"],[0.2222222222222222,\"#7201a8\"],[0.3333333333333333,\"#9c179e\"],[0.4444444444444444,\"#bd3786\"],[0.5555555555555556,\"#d8576b\"],[0.6666666666666666,\"#ed7953\"],[0.7777777777777778,\"#fb9f3a\"],[0.8888888888888888,\"#fdca26\"],[1.0,\"#f0f921\"]],\"sequentialminus\":[[0.0,\"#0d0887\"],[0.1111111111111111,\"#46039f\"],[0.2222222222222222,\"#7201a8\"],[0.3333333333333333,\"#9c179e\"],[0.4444444444444444,\"#bd3786\"],[0.5555555555555556,\"#d8576b\"],[0.6666666666666666,\"#ed7953\"],[0.7777777777777778,\"#fb9f3a\"],[0.8888888888888888,\"#fdca26\"],[1.0,\"#f0f921\"]]},\"colorway\":[\"#636efa\",\"#EF553B\",\"#00cc96\",\"#ab63fa\",\"#FFA15A\",\"#19d3f3\",\"#FF6692\",\"#B6E880\",\"#FF97FF\",\"#FECB52\"],\"font\":{\"color\":\"#2a3f5f\"},\"geo\":{\"bgcolor\":\"white\",\"lakecolor\":\"white\",\"landcolor\":\"#E5ECF6\",\"showlakes\":true,\"showland\":true,\"subunitcolor\":\"white\"},\"hoverlabel\":{\"align\":\"left\"},\"hovermode\":\"closest\",\"mapbox\":{\"style\":\"light\"},\"paper_bgcolor\":\"white\",\"plot_bgcolor\":\"#E5ECF6\",\"polar\":{\"angularaxis\":{\"gridcolor\":\"white\",\"linecolor\":\"white\",\"ticks\":\"\"},\"bgcolor\":\"#E5ECF6\",\"radialaxis\":{\"gridcolor\":\"white\",\"linecolor\":\"white\",\"ticks\":\"\"}},\"scene\":{\"xaxis\":{\"backgroundcolor\":\"#E5ECF6\",\"gridcolor\":\"white\",\"gridwidth\":2,\"linecolor\":\"white\",\"showbackground\":true,\"ticks\":\"\",\"zerolinecolor\":\"white\"},\"yaxis\":{\"backgroundcolor\":\"#E5ECF6\",\"gridcolor\":\"white\",\"gridwidth\":2,\"linecolor\":\"white\",\"showbackground\":true,\"ticks\":\"\",\"zerolinecolor\":\"white\"},\"zaxis\":{\"backgroundcolor\":\"#E5ECF6\",\"gridcolor\":\"white\",\"gridwidth\":2,\"linecolor\":\"white\",\"showbackground\":true,\"ticks\":\"\",\"zerolinecolor\":\"white\"}},\"shapedefaults\":{\"line\":{\"color\":\"#2a3f5f\"}},\"ternary\":{\"aaxis\":{\"gridcolor\":\"white\",\"linecolor\":\"white\",\"ticks\":\"\"},\"baxis\":{\"gridcolor\":\"white\",\"linecolor\":\"white\",\"ticks\":\"\"},\"bgcolor\":\"#E5ECF6\",\"caxis\":{\"gridcolor\":\"white\",\"linecolor\":\"white\",\"ticks\":\"\"}},\"title\":{\"x\":0.05},\"xaxis\":{\"automargin\":true,\"gridcolor\":\"white\",\"linecolor\":\"white\",\"ticks\":\"\",\"title\":{\"standoff\":15},\"zerolinecolor\":\"white\",\"zerolinewidth\":2},\"yaxis\":{\"automargin\":true,\"gridcolor\":\"white\",\"linecolor\":\"white\",\"ticks\":\"\",\"title\":{\"standoff\":15},\"zerolinecolor\":\"white\",\"zerolinewidth\":2}}},\"title\":{\"text\":\"Yearly Trends by Category\"},\"xaxis\":{\"anchor\":\"y\",\"domain\":[0.0,1.0],\"title\":{\"text\":\"Year.Month\"}},\"yaxis\":{\"anchor\":\"x\",\"domain\":[0.0,1.0],\"title\":{\"text\":\"Quantity\"}}},                        {\"responsive\": true}                    ).then(function(){\n",
       "                            \n",
       "var gd = document.getElementById('d1f5d0f4-2d92-4465-be17-9b841b57eb30');\n",
       "var x = new MutationObserver(function (mutations, observer) {{\n",
       "        var display = window.getComputedStyle(gd).display;\n",
       "        if (!display || display === 'none') {{\n",
       "            console.log([gd, 'removed!']);\n",
       "            Plotly.purge(gd);\n",
       "            observer.disconnect();\n",
       "        }}\n",
       "}});\n",
       "\n",
       "// Listen for the removal of the full notebook cells\n",
       "var notebookContainer = gd.closest('#notebook-container');\n",
       "if (notebookContainer) {{\n",
       "    x.observe(notebookContainer, {childList: true});\n",
       "}}\n",
       "\n",
       "// Listen for the clearing of the current output cell\n",
       "var outputEl = gd.closest('.output');\n",
       "if (outputEl) {{\n",
       "    x.observe(outputEl, {childList: true});\n",
       "}}\n",
       "\n",
       "                        })                };                });            </script>        </div>"
      ]
     },
     "metadata": {},
     "output_type": "display_data"
    }
   ],
   "source": [
    "orders['Order.Date'] = pd.to_datetime(orders['Order.Date'])\n",
    "orders['Ship.Date'] = pd.to_datetime(orders['Ship.Date'])\n",
    "orders['Year.Month'] = orders['Order.Date'].dt.strftime('%Y-%m')\n",
    "yearly_trends = orders.groupby(['Year.Month','Sub.Category']).agg('sum')\n",
    "yearly_trends = yearly_trends.reset_index()\n",
    "fig = px.line(yearly_trends, x = 'Year.Month',\n",
    "              y = 'Quantity',\n",
    "              color='Sub.Category',\n",
    "             title = 'Yearly Trends by Category')\n",
    "fig.show()"
   ]
  },
  {
   "cell_type": "code",
   "execution_count": 318,
   "id": "352cde72",
   "metadata": {},
   "outputs": [
    {
     "data": {
      "text/plain": [
       "0        2014-11\n",
       "1        2014-02\n",
       "2        2014-10\n",
       "3        2014-01\n",
       "4        2014-11\n",
       "          ...   \n",
       "51285    2015-06\n",
       "51286    2014-05\n",
       "51287    2012-08\n",
       "51288    2013-02\n",
       "51289    2013-05\n",
       "Name: Year.Month, Length: 51290, dtype: object"
      ]
     },
     "execution_count": 318,
     "metadata": {},
     "output_type": "execute_result"
    }
   ],
   "source": [
    "orders['Year.Month']"
   ]
  },
  {
   "cell_type": "code",
   "execution_count": 156,
   "id": "6eb6ea71",
   "metadata": {
    "scrolled": true
   },
   "outputs": [],
   "source": [
    "orders['OrderMonth'] = pd.DatetimeIndex(orders['Order.Date']).month\n",
    "orders['OrderYear'] = pd.DatetimeIndex(orders['Order.Date']).year"
   ]
  },
  {
   "cell_type": "code",
   "execution_count": 157,
   "id": "8badc8ec",
   "metadata": {
    "scrolled": true
   },
   "outputs": [
    {
     "data": {
      "text/html": [
       "<div>\n",
       "<style scoped>\n",
       "    .dataframe tbody tr th:only-of-type {\n",
       "        vertical-align: middle;\n",
       "    }\n",
       "\n",
       "    .dataframe tbody tr th {\n",
       "        vertical-align: top;\n",
       "    }\n",
       "\n",
       "    .dataframe thead th {\n",
       "        text-align: right;\n",
       "    }\n",
       "</style>\n",
       "<table border=\"1\" class=\"dataframe\">\n",
       "  <thead>\n",
       "    <tr style=\"text-align: right;\">\n",
       "      <th></th>\n",
       "      <th>Row.ID</th>\n",
       "      <th>Order.ID</th>\n",
       "      <th>Order.Date</th>\n",
       "      <th>Ship.Date</th>\n",
       "      <th>Ship.Mode</th>\n",
       "      <th>Customer.ID</th>\n",
       "      <th>Customer.Name</th>\n",
       "      <th>Segment</th>\n",
       "      <th>Postal.Code</th>\n",
       "      <th>City</th>\n",
       "      <th>...</th>\n",
       "      <th>Sub.Category</th>\n",
       "      <th>Product.Name</th>\n",
       "      <th>Sales</th>\n",
       "      <th>Quantity</th>\n",
       "      <th>Discount</th>\n",
       "      <th>Profit</th>\n",
       "      <th>Shipping.Cost</th>\n",
       "      <th>Order.Priority</th>\n",
       "      <th>OrderMonth</th>\n",
       "      <th>OrderYear</th>\n",
       "    </tr>\n",
       "  </thead>\n",
       "  <tbody>\n",
       "    <tr>\n",
       "      <th>0</th>\n",
       "      <td>40098</td>\n",
       "      <td>CA-2014-AB10015140-41954</td>\n",
       "      <td>11/11/14</td>\n",
       "      <td>11/13/14</td>\n",
       "      <td>First Class</td>\n",
       "      <td>AB-100151402</td>\n",
       "      <td>Aaron Bergman</td>\n",
       "      <td>Consumer</td>\n",
       "      <td>73120.0</td>\n",
       "      <td>Oklahoma City</td>\n",
       "      <td>...</td>\n",
       "      <td>Phones</td>\n",
       "      <td>Samsung Convoy 3</td>\n",
       "      <td>221.98</td>\n",
       "      <td>2</td>\n",
       "      <td>0.0</td>\n",
       "      <td>62.15</td>\n",
       "      <td>40.770</td>\n",
       "      <td>High</td>\n",
       "      <td>11</td>\n",
       "      <td>2014</td>\n",
       "    </tr>\n",
       "    <tr>\n",
       "      <th>1</th>\n",
       "      <td>26341</td>\n",
       "      <td>IN-2014-JR162107-41675</td>\n",
       "      <td>2/5/14</td>\n",
       "      <td>2/7/14</td>\n",
       "      <td>Second Class</td>\n",
       "      <td>JR-162107</td>\n",
       "      <td>Justin Ritter</td>\n",
       "      <td>Corporate</td>\n",
       "      <td>NaN</td>\n",
       "      <td>Wollongong</td>\n",
       "      <td>...</td>\n",
       "      <td>Chairs</td>\n",
       "      <td>Novimex Executive Leather Armchair, Black</td>\n",
       "      <td>3709.40</td>\n",
       "      <td>9</td>\n",
       "      <td>0.1</td>\n",
       "      <td>-288.77</td>\n",
       "      <td>923.630</td>\n",
       "      <td>Critical</td>\n",
       "      <td>2</td>\n",
       "      <td>2014</td>\n",
       "    </tr>\n",
       "    <tr>\n",
       "      <th>2</th>\n",
       "      <td>25330</td>\n",
       "      <td>IN-2014-CR127307-41929</td>\n",
       "      <td>10/17/14</td>\n",
       "      <td>10/18/14</td>\n",
       "      <td>First Class</td>\n",
       "      <td>CR-127307</td>\n",
       "      <td>Craig Reiter</td>\n",
       "      <td>Consumer</td>\n",
       "      <td>NaN</td>\n",
       "      <td>Brisbane</td>\n",
       "      <td>...</td>\n",
       "      <td>Phones</td>\n",
       "      <td>Nokia Smart Phone, with Caller ID</td>\n",
       "      <td>5175.17</td>\n",
       "      <td>9</td>\n",
       "      <td>0.1</td>\n",
       "      <td>919.97</td>\n",
       "      <td>915.490</td>\n",
       "      <td>Medium</td>\n",
       "      <td>10</td>\n",
       "      <td>2014</td>\n",
       "    </tr>\n",
       "    <tr>\n",
       "      <th>3</th>\n",
       "      <td>13524</td>\n",
       "      <td>ES-2014-KM1637548-41667</td>\n",
       "      <td>1/28/14</td>\n",
       "      <td>1/30/14</td>\n",
       "      <td>First Class</td>\n",
       "      <td>KM-1637548</td>\n",
       "      <td>Katherine Murray</td>\n",
       "      <td>Home Office</td>\n",
       "      <td>NaN</td>\n",
       "      <td>Berlin</td>\n",
       "      <td>...</td>\n",
       "      <td>Phones</td>\n",
       "      <td>Motorola Smart Phone, Cordless</td>\n",
       "      <td>2892.51</td>\n",
       "      <td>5</td>\n",
       "      <td>0.1</td>\n",
       "      <td>-96.54</td>\n",
       "      <td>910.160</td>\n",
       "      <td>Medium</td>\n",
       "      <td>1</td>\n",
       "      <td>2014</td>\n",
       "    </tr>\n",
       "    <tr>\n",
       "      <th>4</th>\n",
       "      <td>47221</td>\n",
       "      <td>SG-2014-RH9495111-41948</td>\n",
       "      <td>11/5/14</td>\n",
       "      <td>11/6/14</td>\n",
       "      <td>Same Day</td>\n",
       "      <td>RH-9495111</td>\n",
       "      <td>Rick Hansen</td>\n",
       "      <td>Consumer</td>\n",
       "      <td>NaN</td>\n",
       "      <td>Dakar</td>\n",
       "      <td>...</td>\n",
       "      <td>Copiers</td>\n",
       "      <td>Sharp Wireless Fax, High-Speed</td>\n",
       "      <td>2832.96</td>\n",
       "      <td>8</td>\n",
       "      <td>0.0</td>\n",
       "      <td>311.52</td>\n",
       "      <td>903.040</td>\n",
       "      <td>Critical</td>\n",
       "      <td>11</td>\n",
       "      <td>2014</td>\n",
       "    </tr>\n",
       "    <tr>\n",
       "      <th>...</th>\n",
       "      <td>...</td>\n",
       "      <td>...</td>\n",
       "      <td>...</td>\n",
       "      <td>...</td>\n",
       "      <td>...</td>\n",
       "      <td>...</td>\n",
       "      <td>...</td>\n",
       "      <td>...</td>\n",
       "      <td>...</td>\n",
       "      <td>...</td>\n",
       "      <td>...</td>\n",
       "      <td>...</td>\n",
       "      <td>...</td>\n",
       "      <td>...</td>\n",
       "      <td>...</td>\n",
       "      <td>...</td>\n",
       "      <td>...</td>\n",
       "      <td>...</td>\n",
       "      <td>...</td>\n",
       "      <td>...</td>\n",
       "      <td>...</td>\n",
       "    </tr>\n",
       "    <tr>\n",
       "      <th>51285</th>\n",
       "      <td>29002</td>\n",
       "      <td>IN-2015-KE1642066-42174</td>\n",
       "      <td>6/19/15</td>\n",
       "      <td>6/19/15</td>\n",
       "      <td>Same Day</td>\n",
       "      <td>KE-1642066</td>\n",
       "      <td>Katrina Edelman</td>\n",
       "      <td>Corporate</td>\n",
       "      <td>NaN</td>\n",
       "      <td>Kure</td>\n",
       "      <td>...</td>\n",
       "      <td>Fasteners</td>\n",
       "      <td>Advantus Thumb Tacks, 12 Pack</td>\n",
       "      <td>65.10</td>\n",
       "      <td>5</td>\n",
       "      <td>0.0</td>\n",
       "      <td>4.50</td>\n",
       "      <td>1.010</td>\n",
       "      <td>Medium</td>\n",
       "      <td>6</td>\n",
       "      <td>2015</td>\n",
       "    </tr>\n",
       "    <tr>\n",
       "      <th>51286</th>\n",
       "      <td>34337</td>\n",
       "      <td>US-2014-ZD21925140-41765</td>\n",
       "      <td>5/6/14</td>\n",
       "      <td>5/10/14</td>\n",
       "      <td>Standard Class</td>\n",
       "      <td>ZD-219251408</td>\n",
       "      <td>Zuschuss Donatelli</td>\n",
       "      <td>Consumer</td>\n",
       "      <td>37421.0</td>\n",
       "      <td>Chattanooga</td>\n",
       "      <td>...</td>\n",
       "      <td>Furnishings</td>\n",
       "      <td>Eldon Image Series Desk Accessories, Burgundy</td>\n",
       "      <td>16.72</td>\n",
       "      <td>5</td>\n",
       "      <td>0.2</td>\n",
       "      <td>3.34</td>\n",
       "      <td>1.930</td>\n",
       "      <td>High</td>\n",
       "      <td>5</td>\n",
       "      <td>2014</td>\n",
       "    </tr>\n",
       "    <tr>\n",
       "      <th>51287</th>\n",
       "      <td>31315</td>\n",
       "      <td>CA-2012-ZD21925140-41147</td>\n",
       "      <td>8/26/12</td>\n",
       "      <td>8/31/12</td>\n",
       "      <td>Second Class</td>\n",
       "      <td>ZD-219251404</td>\n",
       "      <td>Zuschuss Donatelli</td>\n",
       "      <td>Consumer</td>\n",
       "      <td>94109.0</td>\n",
       "      <td>San Francisco</td>\n",
       "      <td>...</td>\n",
       "      <td>Art</td>\n",
       "      <td>Newell 341</td>\n",
       "      <td>8.56</td>\n",
       "      <td>2</td>\n",
       "      <td>0.0</td>\n",
       "      <td>2.48</td>\n",
       "      <td>1.580</td>\n",
       "      <td>High</td>\n",
       "      <td>8</td>\n",
       "      <td>2012</td>\n",
       "    </tr>\n",
       "    <tr>\n",
       "      <th>51288</th>\n",
       "      <td>9596</td>\n",
       "      <td>MX-2013-RB1979518-41322</td>\n",
       "      <td>2/17/13</td>\n",
       "      <td>2/21/13</td>\n",
       "      <td>Standard Class</td>\n",
       "      <td>RB-1979518</td>\n",
       "      <td>Ross Baird</td>\n",
       "      <td>Home Office</td>\n",
       "      <td>NaN</td>\n",
       "      <td>Valinhos</td>\n",
       "      <td>...</td>\n",
       "      <td>Binders</td>\n",
       "      <td>Acco Index Tab, Economy</td>\n",
       "      <td>13.44</td>\n",
       "      <td>2</td>\n",
       "      <td>0.0</td>\n",
       "      <td>2.40</td>\n",
       "      <td>1.003</td>\n",
       "      <td>Medium</td>\n",
       "      <td>2</td>\n",
       "      <td>2013</td>\n",
       "    </tr>\n",
       "    <tr>\n",
       "      <th>51289</th>\n",
       "      <td>6147</td>\n",
       "      <td>MX-2013-MC1810093-41416</td>\n",
       "      <td>5/22/13</td>\n",
       "      <td>5/26/13</td>\n",
       "      <td>Second Class</td>\n",
       "      <td>MC-1810093</td>\n",
       "      <td>Mick Crebagga</td>\n",
       "      <td>Consumer</td>\n",
       "      <td>NaN</td>\n",
       "      <td>Tipitapa</td>\n",
       "      <td>...</td>\n",
       "      <td>Paper</td>\n",
       "      <td>Eaton Computer Printout Paper, 8.5 x 11</td>\n",
       "      <td>61.38</td>\n",
       "      <td>3</td>\n",
       "      <td>0.0</td>\n",
       "      <td>1.80</td>\n",
       "      <td>1.002</td>\n",
       "      <td>High</td>\n",
       "      <td>5</td>\n",
       "      <td>2013</td>\n",
       "    </tr>\n",
       "  </tbody>\n",
       "</table>\n",
       "<p>51290 rows × 26 columns</p>\n",
       "</div>"
      ],
      "text/plain": [
       "       Row.ID                  Order.ID Order.Date Ship.Date       Ship.Mode  \\\n",
       "0       40098  CA-2014-AB10015140-41954   11/11/14  11/13/14     First Class   \n",
       "1       26341    IN-2014-JR162107-41675     2/5/14    2/7/14    Second Class   \n",
       "2       25330    IN-2014-CR127307-41929   10/17/14  10/18/14     First Class   \n",
       "3       13524   ES-2014-KM1637548-41667    1/28/14   1/30/14     First Class   \n",
       "4       47221   SG-2014-RH9495111-41948    11/5/14   11/6/14        Same Day   \n",
       "...       ...                       ...        ...       ...             ...   \n",
       "51285   29002   IN-2015-KE1642066-42174    6/19/15   6/19/15        Same Day   \n",
       "51286   34337  US-2014-ZD21925140-41765     5/6/14   5/10/14  Standard Class   \n",
       "51287   31315  CA-2012-ZD21925140-41147    8/26/12   8/31/12    Second Class   \n",
       "51288    9596   MX-2013-RB1979518-41322    2/17/13   2/21/13  Standard Class   \n",
       "51289    6147   MX-2013-MC1810093-41416    5/22/13   5/26/13    Second Class   \n",
       "\n",
       "        Customer.ID       Customer.Name      Segment  Postal.Code  \\\n",
       "0      AB-100151402       Aaron Bergman     Consumer      73120.0   \n",
       "1         JR-162107       Justin Ritter    Corporate          NaN   \n",
       "2         CR-127307        Craig Reiter     Consumer          NaN   \n",
       "3        KM-1637548    Katherine Murray  Home Office          NaN   \n",
       "4        RH-9495111         Rick Hansen     Consumer          NaN   \n",
       "...             ...                 ...          ...          ...   \n",
       "51285    KE-1642066     Katrina Edelman    Corporate          NaN   \n",
       "51286  ZD-219251408  Zuschuss Donatelli     Consumer      37421.0   \n",
       "51287  ZD-219251404  Zuschuss Donatelli     Consumer      94109.0   \n",
       "51288    RB-1979518          Ross Baird  Home Office          NaN   \n",
       "51289    MC-1810093       Mick Crebagga     Consumer          NaN   \n",
       "\n",
       "                City  ... Sub.Category  \\\n",
       "0      Oklahoma City  ...       Phones   \n",
       "1         Wollongong  ...       Chairs   \n",
       "2           Brisbane  ...       Phones   \n",
       "3             Berlin  ...       Phones   \n",
       "4              Dakar  ...      Copiers   \n",
       "...              ...  ...          ...   \n",
       "51285           Kure  ...    Fasteners   \n",
       "51286    Chattanooga  ...  Furnishings   \n",
       "51287  San Francisco  ...          Art   \n",
       "51288       Valinhos  ...      Binders   \n",
       "51289       Tipitapa  ...        Paper   \n",
       "\n",
       "                                        Product.Name    Sales Quantity  \\\n",
       "0                                   Samsung Convoy 3   221.98        2   \n",
       "1          Novimex Executive Leather Armchair, Black  3709.40        9   \n",
       "2                  Nokia Smart Phone, with Caller ID  5175.17        9   \n",
       "3                     Motorola Smart Phone, Cordless  2892.51        5   \n",
       "4                     Sharp Wireless Fax, High-Speed  2832.96        8   \n",
       "...                                              ...      ...      ...   \n",
       "51285                  Advantus Thumb Tacks, 12 Pack    65.10        5   \n",
       "51286  Eldon Image Series Desk Accessories, Burgundy    16.72        5   \n",
       "51287                                     Newell 341     8.56        2   \n",
       "51288                        Acco Index Tab, Economy    13.44        2   \n",
       "51289        Eaton Computer Printout Paper, 8.5 x 11    61.38        3   \n",
       "\n",
       "      Discount  Profit Shipping.Cost Order.Priority  OrderMonth  OrderYear  \n",
       "0          0.0   62.15        40.770           High          11       2014  \n",
       "1          0.1 -288.77       923.630       Critical           2       2014  \n",
       "2          0.1  919.97       915.490         Medium          10       2014  \n",
       "3          0.1  -96.54       910.160         Medium           1       2014  \n",
       "4          0.0  311.52       903.040       Critical          11       2014  \n",
       "...        ...     ...           ...            ...         ...        ...  \n",
       "51285      0.0    4.50         1.010         Medium           6       2015  \n",
       "51286      0.2    3.34         1.930           High           5       2014  \n",
       "51287      0.0    2.48         1.580           High           8       2012  \n",
       "51288      0.0    2.40         1.003         Medium           2       2013  \n",
       "51289      0.0    1.80         1.002           High           5       2013  \n",
       "\n",
       "[51290 rows x 26 columns]"
      ]
     },
     "execution_count": 157,
     "metadata": {},
     "output_type": "execute_result"
    }
   ],
   "source": [
    "orders"
   ]
  },
  {
   "cell_type": "code",
   "execution_count": 56,
   "id": "dddda513",
   "metadata": {},
   "outputs": [],
   "source": [
    "orders_by_month = orders.OrderMonth.value_counts()"
   ]
  },
  {
   "cell_type": "code",
   "execution_count": 81,
   "id": "3921810b",
   "metadata": {
    "scrolled": true
   },
   "outputs": [],
   "source": [
    "X = orders.groupby(['OrderMonth'])['OrderMonth'].agg(['count'])"
   ]
  },
  {
   "cell_type": "code",
   "execution_count": 108,
   "id": "376a959f",
   "metadata": {},
   "outputs": [
    {
     "data": {
      "text/plain": [
       "array([[2611],\n",
       "       [2209],\n",
       "       [3007],\n",
       "       [3032],\n",
       "       [3787],\n",
       "       [5302],\n",
       "       [3195],\n",
       "       [5065],\n",
       "       [5958],\n",
       "       [4556],\n",
       "       [6311],\n",
       "       [6257]])"
      ]
     },
     "execution_count": 108,
     "metadata": {},
     "output_type": "execute_result"
    }
   ],
   "source": [
    "y = X[['count']].values\n",
    "y"
   ]
  },
  {
   "cell_type": "code",
   "execution_count": 111,
   "id": "781bde98",
   "metadata": {},
   "outputs": [
    {
     "data": {
      "text/plain": [
       "<IntegerArray>\n",
       "[1, 2, 3, 4, 5, 6, 7, 8, 9, 10, 11, 12]\n",
       "Length: 12, dtype: Int64"
      ]
     },
     "execution_count": 111,
     "metadata": {},
     "output_type": "execute_result"
    }
   ],
   "source": [
    "x = range(1,13)\n",
    "pd.array(x)\n"
   ]
  },
  {
   "cell_type": "code",
   "execution_count": 114,
   "id": "bce4e6ca",
   "metadata": {
    "scrolled": true
   },
   "outputs": [
    {
     "data": {
      "image/png": "[encoded data removed]",
      "text/plain": [
       "<Figure size 432x288 with 1 Axes>"
      ]
     },
     "metadata": {
      "needs_background": "light"
     },
     "output_type": "display_data"
    }
   ],
   "source": [
    "plt.scatter(x, y)\n",
    "plt.xlabel('month')\n",
    "plt.ylabel('num. orders')\n",
    "plt.show()"
   ]
  },
  {
   "cell_type": "code",
   "execution_count": 131,
   "id": "1dcccfb7",
   "metadata": {},
   "outputs": [],
   "source": [
    "month_category = orders.groupby(['OrderMonth', 'Category']).agg('count')\n",
    "month_category = month_category.reset_index()"
   ]
  },
  {
   "cell_type": "code",
   "execution_count": 132,
   "id": "313cb446",
   "metadata": {
    "scrolled": true
   },
   "outputs": [
    {
     "data": {
      "text/html": [
       "<div>\n",
       "<style scoped>\n",
       "    .dataframe tbody tr th:only-of-type {\n",
       "        vertical-align: middle;\n",
       "    }\n",
       "\n",
       "    .dataframe tbody tr th {\n",
       "        vertical-align: top;\n",
       "    }\n",
       "\n",
       "    .dataframe thead th {\n",
       "        text-align: right;\n",
       "    }\n",
       "</style>\n",
       "<table border=\"1\" class=\"dataframe\">\n",
       "  <thead>\n",
       "    <tr style=\"text-align: right;\">\n",
       "      <th></th>\n",
       "      <th>OrderMonth</th>\n",
       "      <th>Category</th>\n",
       "      <th>Row.ID</th>\n",
       "      <th>Order.ID</th>\n",
       "      <th>Order.Date</th>\n",
       "      <th>Ship.Date</th>\n",
       "      <th>Ship.Mode</th>\n",
       "      <th>Customer.ID</th>\n",
       "      <th>Customer.Name</th>\n",
       "      <th>Segment</th>\n",
       "      <th>...</th>\n",
       "      <th>Market</th>\n",
       "      <th>Product.ID</th>\n",
       "      <th>Sub.Category</th>\n",
       "      <th>Product.Name</th>\n",
       "      <th>Sales</th>\n",
       "      <th>Quantity</th>\n",
       "      <th>Discount</th>\n",
       "      <th>Profit</th>\n",
       "      <th>Shipping.Cost</th>\n",
       "      <th>Order.Priority</th>\n",
       "    </tr>\n",
       "  </thead>\n",
       "  <tbody>\n",
       "    <tr>\n",
       "      <th>0</th>\n",
       "      <td>1</td>\n",
       "      <td>Furniture</td>\n",
       "      <td>491</td>\n",
       "      <td>491</td>\n",
       "      <td>491</td>\n",
       "      <td>491</td>\n",
       "      <td>491</td>\n",
       "      <td>491</td>\n",
       "      <td>491</td>\n",
       "      <td>491</td>\n",
       "      <td>...</td>\n",
       "      <td>491</td>\n",
       "      <td>491</td>\n",
       "      <td>491</td>\n",
       "      <td>491</td>\n",
       "      <td>491</td>\n",
       "      <td>491</td>\n",
       "      <td>491</td>\n",
       "      <td>491</td>\n",
       "      <td>491</td>\n",
       "      <td>491</td>\n",
       "    </tr>\n",
       "    <tr>\n",
       "      <th>1</th>\n",
       "      <td>1</td>\n",
       "      <td>Office Supplies</td>\n",
       "      <td>1616</td>\n",
       "      <td>1616</td>\n",
       "      <td>1616</td>\n",
       "      <td>1616</td>\n",
       "      <td>1616</td>\n",
       "      <td>1616</td>\n",
       "      <td>1616</td>\n",
       "      <td>1616</td>\n",
       "      <td>...</td>\n",
       "      <td>1616</td>\n",
       "      <td>1616</td>\n",
       "      <td>1616</td>\n",
       "      <td>1616</td>\n",
       "      <td>1616</td>\n",
       "      <td>1616</td>\n",
       "      <td>1616</td>\n",
       "      <td>1616</td>\n",
       "      <td>1616</td>\n",
       "      <td>1616</td>\n",
       "    </tr>\n",
       "    <tr>\n",
       "      <th>2</th>\n",
       "      <td>1</td>\n",
       "      <td>Technology</td>\n",
       "      <td>504</td>\n",
       "      <td>504</td>\n",
       "      <td>504</td>\n",
       "      <td>504</td>\n",
       "      <td>504</td>\n",
       "      <td>504</td>\n",
       "      <td>504</td>\n",
       "      <td>504</td>\n",
       "      <td>...</td>\n",
       "      <td>504</td>\n",
       "      <td>504</td>\n",
       "      <td>504</td>\n",
       "      <td>504</td>\n",
       "      <td>504</td>\n",
       "      <td>504</td>\n",
       "      <td>504</td>\n",
       "      <td>504</td>\n",
       "      <td>504</td>\n",
       "      <td>504</td>\n",
       "    </tr>\n",
       "    <tr>\n",
       "      <th>3</th>\n",
       "      <td>2</td>\n",
       "      <td>Furniture</td>\n",
       "      <td>424</td>\n",
       "      <td>424</td>\n",
       "      <td>424</td>\n",
       "      <td>424</td>\n",
       "      <td>424</td>\n",
       "      <td>424</td>\n",
       "      <td>424</td>\n",
       "      <td>424</td>\n",
       "      <td>...</td>\n",
       "      <td>424</td>\n",
       "      <td>424</td>\n",
       "      <td>424</td>\n",
       "      <td>424</td>\n",
       "      <td>424</td>\n",
       "      <td>424</td>\n",
       "      <td>424</td>\n",
       "      <td>424</td>\n",
       "      <td>424</td>\n",
       "      <td>424</td>\n",
       "    </tr>\n",
       "    <tr>\n",
       "      <th>4</th>\n",
       "      <td>2</td>\n",
       "      <td>Office Supplies</td>\n",
       "      <td>1319</td>\n",
       "      <td>1319</td>\n",
       "      <td>1319</td>\n",
       "      <td>1319</td>\n",
       "      <td>1319</td>\n",
       "      <td>1319</td>\n",
       "      <td>1319</td>\n",
       "      <td>1319</td>\n",
       "      <td>...</td>\n",
       "      <td>1319</td>\n",
       "      <td>1319</td>\n",
       "      <td>1319</td>\n",
       "      <td>1319</td>\n",
       "      <td>1319</td>\n",
       "      <td>1319</td>\n",
       "      <td>1319</td>\n",
       "      <td>1319</td>\n",
       "      <td>1319</td>\n",
       "      <td>1319</td>\n",
       "    </tr>\n",
       "    <tr>\n",
       "      <th>5</th>\n",
       "      <td>2</td>\n",
       "      <td>Technology</td>\n",
       "      <td>466</td>\n",
       "      <td>466</td>\n",
       "      <td>466</td>\n",
       "      <td>466</td>\n",
       "      <td>466</td>\n",
       "      <td>466</td>\n",
       "      <td>466</td>\n",
       "      <td>466</td>\n",
       "      <td>...</td>\n",
       "      <td>466</td>\n",
       "      <td>466</td>\n",
       "      <td>466</td>\n",
       "      <td>466</td>\n",
       "      <td>466</td>\n",
       "      <td>466</td>\n",
       "      <td>466</td>\n",
       "      <td>466</td>\n",
       "      <td>466</td>\n",
       "      <td>466</td>\n",
       "    </tr>\n",
       "    <tr>\n",
       "      <th>6</th>\n",
       "      <td>3</td>\n",
       "      <td>Furniture</td>\n",
       "      <td>574</td>\n",
       "      <td>574</td>\n",
       "      <td>574</td>\n",
       "      <td>574</td>\n",
       "      <td>574</td>\n",
       "      <td>574</td>\n",
       "      <td>574</td>\n",
       "      <td>574</td>\n",
       "      <td>...</td>\n",
       "      <td>574</td>\n",
       "      <td>574</td>\n",
       "      <td>574</td>\n",
       "      <td>574</td>\n",
       "      <td>574</td>\n",
       "      <td>574</td>\n",
       "      <td>574</td>\n",
       "      <td>574</td>\n",
       "      <td>574</td>\n",
       "      <td>574</td>\n",
       "    </tr>\n",
       "    <tr>\n",
       "      <th>7</th>\n",
       "      <td>3</td>\n",
       "      <td>Office Supplies</td>\n",
       "      <td>1843</td>\n",
       "      <td>1843</td>\n",
       "      <td>1843</td>\n",
       "      <td>1843</td>\n",
       "      <td>1843</td>\n",
       "      <td>1843</td>\n",
       "      <td>1843</td>\n",
       "      <td>1843</td>\n",
       "      <td>...</td>\n",
       "      <td>1843</td>\n",
       "      <td>1843</td>\n",
       "      <td>1843</td>\n",
       "      <td>1843</td>\n",
       "      <td>1843</td>\n",
       "      <td>1843</td>\n",
       "      <td>1843</td>\n",
       "      <td>1843</td>\n",
       "      <td>1843</td>\n",
       "      <td>1843</td>\n",
       "    </tr>\n",
       "    <tr>\n",
       "      <th>8</th>\n",
       "      <td>3</td>\n",
       "      <td>Technology</td>\n",
       "      <td>590</td>\n",
       "      <td>590</td>\n",
       "      <td>590</td>\n",
       "      <td>590</td>\n",
       "      <td>590</td>\n",
       "      <td>590</td>\n",
       "      <td>590</td>\n",
       "      <td>590</td>\n",
       "      <td>...</td>\n",
       "      <td>590</td>\n",
       "      <td>590</td>\n",
       "      <td>590</td>\n",
       "      <td>590</td>\n",
       "      <td>590</td>\n",
       "      <td>590</td>\n",
       "      <td>590</td>\n",
       "      <td>590</td>\n",
       "      <td>590</td>\n",
       "      <td>590</td>\n",
       "    </tr>\n",
       "    <tr>\n",
       "      <th>9</th>\n",
       "      <td>4</td>\n",
       "      <td>Furniture</td>\n",
       "      <td>569</td>\n",
       "      <td>569</td>\n",
       "      <td>569</td>\n",
       "      <td>569</td>\n",
       "      <td>569</td>\n",
       "      <td>569</td>\n",
       "      <td>569</td>\n",
       "      <td>569</td>\n",
       "      <td>...</td>\n",
       "      <td>569</td>\n",
       "      <td>569</td>\n",
       "      <td>569</td>\n",
       "      <td>569</td>\n",
       "      <td>569</td>\n",
       "      <td>569</td>\n",
       "      <td>569</td>\n",
       "      <td>569</td>\n",
       "      <td>569</td>\n",
       "      <td>569</td>\n",
       "    </tr>\n",
       "    <tr>\n",
       "      <th>10</th>\n",
       "      <td>4</td>\n",
       "      <td>Office Supplies</td>\n",
       "      <td>1859</td>\n",
       "      <td>1859</td>\n",
       "      <td>1859</td>\n",
       "      <td>1859</td>\n",
       "      <td>1859</td>\n",
       "      <td>1859</td>\n",
       "      <td>1859</td>\n",
       "      <td>1859</td>\n",
       "      <td>...</td>\n",
       "      <td>1859</td>\n",
       "      <td>1859</td>\n",
       "      <td>1859</td>\n",
       "      <td>1859</td>\n",
       "      <td>1859</td>\n",
       "      <td>1859</td>\n",
       "      <td>1859</td>\n",
       "      <td>1859</td>\n",
       "      <td>1859</td>\n",
       "      <td>1859</td>\n",
       "    </tr>\n",
       "    <tr>\n",
       "      <th>11</th>\n",
       "      <td>4</td>\n",
       "      <td>Technology</td>\n",
       "      <td>604</td>\n",
       "      <td>604</td>\n",
       "      <td>604</td>\n",
       "      <td>604</td>\n",
       "      <td>604</td>\n",
       "      <td>604</td>\n",
       "      <td>604</td>\n",
       "      <td>604</td>\n",
       "      <td>...</td>\n",
       "      <td>604</td>\n",
       "      <td>604</td>\n",
       "      <td>604</td>\n",
       "      <td>604</td>\n",
       "      <td>604</td>\n",
       "      <td>604</td>\n",
       "      <td>604</td>\n",
       "      <td>604</td>\n",
       "      <td>604</td>\n",
       "      <td>604</td>\n",
       "    </tr>\n",
       "    <tr>\n",
       "      <th>12</th>\n",
       "      <td>5</td>\n",
       "      <td>Furniture</td>\n",
       "      <td>713</td>\n",
       "      <td>713</td>\n",
       "      <td>713</td>\n",
       "      <td>713</td>\n",
       "      <td>713</td>\n",
       "      <td>713</td>\n",
       "      <td>713</td>\n",
       "      <td>713</td>\n",
       "      <td>...</td>\n",
       "      <td>713</td>\n",
       "      <td>713</td>\n",
       "      <td>713</td>\n",
       "      <td>713</td>\n",
       "      <td>713</td>\n",
       "      <td>713</td>\n",
       "      <td>713</td>\n",
       "      <td>713</td>\n",
       "      <td>713</td>\n",
       "      <td>713</td>\n",
       "    </tr>\n",
       "    <tr>\n",
       "      <th>13</th>\n",
       "      <td>5</td>\n",
       "      <td>Office Supplies</td>\n",
       "      <td>2352</td>\n",
       "      <td>2352</td>\n",
       "      <td>2352</td>\n",
       "      <td>2352</td>\n",
       "      <td>2352</td>\n",
       "      <td>2352</td>\n",
       "      <td>2352</td>\n",
       "      <td>2352</td>\n",
       "      <td>...</td>\n",
       "      <td>2352</td>\n",
       "      <td>2352</td>\n",
       "      <td>2352</td>\n",
       "      <td>2352</td>\n",
       "      <td>2352</td>\n",
       "      <td>2352</td>\n",
       "      <td>2352</td>\n",
       "      <td>2352</td>\n",
       "      <td>2352</td>\n",
       "      <td>2352</td>\n",
       "    </tr>\n",
       "    <tr>\n",
       "      <th>14</th>\n",
       "      <td>5</td>\n",
       "      <td>Technology</td>\n",
       "      <td>722</td>\n",
       "      <td>722</td>\n",
       "      <td>722</td>\n",
       "      <td>722</td>\n",
       "      <td>722</td>\n",
       "      <td>722</td>\n",
       "      <td>722</td>\n",
       "      <td>722</td>\n",
       "      <td>...</td>\n",
       "      <td>722</td>\n",
       "      <td>722</td>\n",
       "      <td>722</td>\n",
       "      <td>722</td>\n",
       "      <td>722</td>\n",
       "      <td>722</td>\n",
       "      <td>722</td>\n",
       "      <td>722</td>\n",
       "      <td>722</td>\n",
       "      <td>722</td>\n",
       "    </tr>\n",
       "    <tr>\n",
       "      <th>15</th>\n",
       "      <td>6</td>\n",
       "      <td>Furniture</td>\n",
       "      <td>997</td>\n",
       "      <td>997</td>\n",
       "      <td>997</td>\n",
       "      <td>997</td>\n",
       "      <td>997</td>\n",
       "      <td>997</td>\n",
       "      <td>997</td>\n",
       "      <td>997</td>\n",
       "      <td>...</td>\n",
       "      <td>997</td>\n",
       "      <td>997</td>\n",
       "      <td>997</td>\n",
       "      <td>997</td>\n",
       "      <td>997</td>\n",
       "      <td>997</td>\n",
       "      <td>997</td>\n",
       "      <td>997</td>\n",
       "      <td>997</td>\n",
       "      <td>997</td>\n",
       "    </tr>\n",
       "    <tr>\n",
       "      <th>16</th>\n",
       "      <td>6</td>\n",
       "      <td>Office Supplies</td>\n",
       "      <td>3258</td>\n",
       "      <td>3258</td>\n",
       "      <td>3258</td>\n",
       "      <td>3258</td>\n",
       "      <td>3258</td>\n",
       "      <td>3258</td>\n",
       "      <td>3258</td>\n",
       "      <td>3258</td>\n",
       "      <td>...</td>\n",
       "      <td>3258</td>\n",
       "      <td>3258</td>\n",
       "      <td>3258</td>\n",
       "      <td>3258</td>\n",
       "      <td>3258</td>\n",
       "      <td>3258</td>\n",
       "      <td>3258</td>\n",
       "      <td>3258</td>\n",
       "      <td>3258</td>\n",
       "      <td>3258</td>\n",
       "    </tr>\n",
       "    <tr>\n",
       "      <th>17</th>\n",
       "      <td>6</td>\n",
       "      <td>Technology</td>\n",
       "      <td>1047</td>\n",
       "      <td>1047</td>\n",
       "      <td>1047</td>\n",
       "      <td>1047</td>\n",
       "      <td>1047</td>\n",
       "      <td>1047</td>\n",
       "      <td>1047</td>\n",
       "      <td>1047</td>\n",
       "      <td>...</td>\n",
       "      <td>1047</td>\n",
       "      <td>1047</td>\n",
       "      <td>1047</td>\n",
       "      <td>1047</td>\n",
       "      <td>1047</td>\n",
       "      <td>1047</td>\n",
       "      <td>1047</td>\n",
       "      <td>1047</td>\n",
       "      <td>1047</td>\n",
       "      <td>1047</td>\n",
       "    </tr>\n",
       "    <tr>\n",
       "      <th>18</th>\n",
       "      <td>7</td>\n",
       "      <td>Furniture</td>\n",
       "      <td>618</td>\n",
       "      <td>618</td>\n",
       "      <td>618</td>\n",
       "      <td>618</td>\n",
       "      <td>618</td>\n",
       "      <td>618</td>\n",
       "      <td>618</td>\n",
       "      <td>618</td>\n",
       "      <td>...</td>\n",
       "      <td>618</td>\n",
       "      <td>618</td>\n",
       "      <td>618</td>\n",
       "      <td>618</td>\n",
       "      <td>618</td>\n",
       "      <td>618</td>\n",
       "      <td>618</td>\n",
       "      <td>618</td>\n",
       "      <td>618</td>\n",
       "      <td>618</td>\n",
       "    </tr>\n",
       "    <tr>\n",
       "      <th>19</th>\n",
       "      <td>7</td>\n",
       "      <td>Office Supplies</td>\n",
       "      <td>1938</td>\n",
       "      <td>1938</td>\n",
       "      <td>1938</td>\n",
       "      <td>1938</td>\n",
       "      <td>1938</td>\n",
       "      <td>1938</td>\n",
       "      <td>1938</td>\n",
       "      <td>1938</td>\n",
       "      <td>...</td>\n",
       "      <td>1938</td>\n",
       "      <td>1938</td>\n",
       "      <td>1938</td>\n",
       "      <td>1938</td>\n",
       "      <td>1938</td>\n",
       "      <td>1938</td>\n",
       "      <td>1938</td>\n",
       "      <td>1938</td>\n",
       "      <td>1938</td>\n",
       "      <td>1938</td>\n",
       "    </tr>\n",
       "    <tr>\n",
       "      <th>20</th>\n",
       "      <td>7</td>\n",
       "      <td>Technology</td>\n",
       "      <td>639</td>\n",
       "      <td>639</td>\n",
       "      <td>639</td>\n",
       "      <td>639</td>\n",
       "      <td>639</td>\n",
       "      <td>639</td>\n",
       "      <td>639</td>\n",
       "      <td>639</td>\n",
       "      <td>...</td>\n",
       "      <td>639</td>\n",
       "      <td>639</td>\n",
       "      <td>639</td>\n",
       "      <td>639</td>\n",
       "      <td>639</td>\n",
       "      <td>639</td>\n",
       "      <td>639</td>\n",
       "      <td>639</td>\n",
       "      <td>639</td>\n",
       "      <td>639</td>\n",
       "    </tr>\n",
       "    <tr>\n",
       "      <th>21</th>\n",
       "      <td>8</td>\n",
       "      <td>Furniture</td>\n",
       "      <td>873</td>\n",
       "      <td>873</td>\n",
       "      <td>873</td>\n",
       "      <td>873</td>\n",
       "      <td>873</td>\n",
       "      <td>873</td>\n",
       "      <td>873</td>\n",
       "      <td>873</td>\n",
       "      <td>...</td>\n",
       "      <td>873</td>\n",
       "      <td>873</td>\n",
       "      <td>873</td>\n",
       "      <td>873</td>\n",
       "      <td>873</td>\n",
       "      <td>873</td>\n",
       "      <td>873</td>\n",
       "      <td>873</td>\n",
       "      <td>873</td>\n",
       "      <td>873</td>\n",
       "    </tr>\n",
       "    <tr>\n",
       "      <th>22</th>\n",
       "      <td>8</td>\n",
       "      <td>Office Supplies</td>\n",
       "      <td>3185</td>\n",
       "      <td>3185</td>\n",
       "      <td>3185</td>\n",
       "      <td>3185</td>\n",
       "      <td>3185</td>\n",
       "      <td>3185</td>\n",
       "      <td>3185</td>\n",
       "      <td>3185</td>\n",
       "      <td>...</td>\n",
       "      <td>3185</td>\n",
       "      <td>3185</td>\n",
       "      <td>3185</td>\n",
       "      <td>3185</td>\n",
       "      <td>3185</td>\n",
       "      <td>3185</td>\n",
       "      <td>3185</td>\n",
       "      <td>3185</td>\n",
       "      <td>3185</td>\n",
       "      <td>3185</td>\n",
       "    </tr>\n",
       "    <tr>\n",
       "      <th>23</th>\n",
       "      <td>8</td>\n",
       "      <td>Technology</td>\n",
       "      <td>1007</td>\n",
       "      <td>1007</td>\n",
       "      <td>1007</td>\n",
       "      <td>1007</td>\n",
       "      <td>1007</td>\n",
       "      <td>1007</td>\n",
       "      <td>1007</td>\n",
       "      <td>1007</td>\n",
       "      <td>...</td>\n",
       "      <td>1007</td>\n",
       "      <td>1007</td>\n",
       "      <td>1007</td>\n",
       "      <td>1007</td>\n",
       "      <td>1007</td>\n",
       "      <td>1007</td>\n",
       "      <td>1007</td>\n",
       "      <td>1007</td>\n",
       "      <td>1007</td>\n",
       "      <td>1007</td>\n",
       "    </tr>\n",
       "    <tr>\n",
       "      <th>24</th>\n",
       "      <td>9</td>\n",
       "      <td>Furniture</td>\n",
       "      <td>1177</td>\n",
       "      <td>1177</td>\n",
       "      <td>1177</td>\n",
       "      <td>1177</td>\n",
       "      <td>1177</td>\n",
       "      <td>1177</td>\n",
       "      <td>1177</td>\n",
       "      <td>1177</td>\n",
       "      <td>...</td>\n",
       "      <td>1177</td>\n",
       "      <td>1177</td>\n",
       "      <td>1177</td>\n",
       "      <td>1177</td>\n",
       "      <td>1177</td>\n",
       "      <td>1177</td>\n",
       "      <td>1177</td>\n",
       "      <td>1177</td>\n",
       "      <td>1177</td>\n",
       "      <td>1177</td>\n",
       "    </tr>\n",
       "    <tr>\n",
       "      <th>25</th>\n",
       "      <td>9</td>\n",
       "      <td>Office Supplies</td>\n",
       "      <td>3657</td>\n",
       "      <td>3657</td>\n",
       "      <td>3657</td>\n",
       "      <td>3657</td>\n",
       "      <td>3657</td>\n",
       "      <td>3657</td>\n",
       "      <td>3657</td>\n",
       "      <td>3657</td>\n",
       "      <td>...</td>\n",
       "      <td>3657</td>\n",
       "      <td>3657</td>\n",
       "      <td>3657</td>\n",
       "      <td>3657</td>\n",
       "      <td>3657</td>\n",
       "      <td>3657</td>\n",
       "      <td>3657</td>\n",
       "      <td>3657</td>\n",
       "      <td>3657</td>\n",
       "      <td>3657</td>\n",
       "    </tr>\n",
       "    <tr>\n",
       "      <th>26</th>\n",
       "      <td>9</td>\n",
       "      <td>Technology</td>\n",
       "      <td>1124</td>\n",
       "      <td>1124</td>\n",
       "      <td>1124</td>\n",
       "      <td>1124</td>\n",
       "      <td>1124</td>\n",
       "      <td>1124</td>\n",
       "      <td>1124</td>\n",
       "      <td>1124</td>\n",
       "      <td>...</td>\n",
       "      <td>1124</td>\n",
       "      <td>1124</td>\n",
       "      <td>1124</td>\n",
       "      <td>1124</td>\n",
       "      <td>1124</td>\n",
       "      <td>1124</td>\n",
       "      <td>1124</td>\n",
       "      <td>1124</td>\n",
       "      <td>1124</td>\n",
       "      <td>1124</td>\n",
       "    </tr>\n",
       "    <tr>\n",
       "      <th>27</th>\n",
       "      <td>10</td>\n",
       "      <td>Furniture</td>\n",
       "      <td>934</td>\n",
       "      <td>934</td>\n",
       "      <td>934</td>\n",
       "      <td>934</td>\n",
       "      <td>934</td>\n",
       "      <td>934</td>\n",
       "      <td>934</td>\n",
       "      <td>934</td>\n",
       "      <td>...</td>\n",
       "      <td>934</td>\n",
       "      <td>934</td>\n",
       "      <td>934</td>\n",
       "      <td>934</td>\n",
       "      <td>934</td>\n",
       "      <td>934</td>\n",
       "      <td>934</td>\n",
       "      <td>934</td>\n",
       "      <td>934</td>\n",
       "      <td>934</td>\n",
       "    </tr>\n",
       "    <tr>\n",
       "      <th>28</th>\n",
       "      <td>10</td>\n",
       "      <td>Office Supplies</td>\n",
       "      <td>2696</td>\n",
       "      <td>2696</td>\n",
       "      <td>2696</td>\n",
       "      <td>2696</td>\n",
       "      <td>2696</td>\n",
       "      <td>2696</td>\n",
       "      <td>2696</td>\n",
       "      <td>2696</td>\n",
       "      <td>...</td>\n",
       "      <td>2696</td>\n",
       "      <td>2696</td>\n",
       "      <td>2696</td>\n",
       "      <td>2696</td>\n",
       "      <td>2696</td>\n",
       "      <td>2696</td>\n",
       "      <td>2696</td>\n",
       "      <td>2696</td>\n",
       "      <td>2696</td>\n",
       "      <td>2696</td>\n",
       "    </tr>\n",
       "    <tr>\n",
       "      <th>29</th>\n",
       "      <td>10</td>\n",
       "      <td>Technology</td>\n",
       "      <td>926</td>\n",
       "      <td>926</td>\n",
       "      <td>926</td>\n",
       "      <td>926</td>\n",
       "      <td>926</td>\n",
       "      <td>926</td>\n",
       "      <td>926</td>\n",
       "      <td>926</td>\n",
       "      <td>...</td>\n",
       "      <td>926</td>\n",
       "      <td>926</td>\n",
       "      <td>926</td>\n",
       "      <td>926</td>\n",
       "      <td>926</td>\n",
       "      <td>926</td>\n",
       "      <td>926</td>\n",
       "      <td>926</td>\n",
       "      <td>926</td>\n",
       "      <td>926</td>\n",
       "    </tr>\n",
       "    <tr>\n",
       "      <th>30</th>\n",
       "      <td>11</td>\n",
       "      <td>Furniture</td>\n",
       "      <td>1236</td>\n",
       "      <td>1236</td>\n",
       "      <td>1236</td>\n",
       "      <td>1236</td>\n",
       "      <td>1236</td>\n",
       "      <td>1236</td>\n",
       "      <td>1236</td>\n",
       "      <td>1236</td>\n",
       "      <td>...</td>\n",
       "      <td>1236</td>\n",
       "      <td>1236</td>\n",
       "      <td>1236</td>\n",
       "      <td>1236</td>\n",
       "      <td>1236</td>\n",
       "      <td>1236</td>\n",
       "      <td>1236</td>\n",
       "      <td>1236</td>\n",
       "      <td>1236</td>\n",
       "      <td>1236</td>\n",
       "    </tr>\n",
       "    <tr>\n",
       "      <th>31</th>\n",
       "      <td>11</td>\n",
       "      <td>Office Supplies</td>\n",
       "      <td>3817</td>\n",
       "      <td>3817</td>\n",
       "      <td>3817</td>\n",
       "      <td>3817</td>\n",
       "      <td>3817</td>\n",
       "      <td>3817</td>\n",
       "      <td>3817</td>\n",
       "      <td>3817</td>\n",
       "      <td>...</td>\n",
       "      <td>3817</td>\n",
       "      <td>3817</td>\n",
       "      <td>3817</td>\n",
       "      <td>3817</td>\n",
       "      <td>3817</td>\n",
       "      <td>3817</td>\n",
       "      <td>3817</td>\n",
       "      <td>3817</td>\n",
       "      <td>3817</td>\n",
       "      <td>3817</td>\n",
       "    </tr>\n",
       "    <tr>\n",
       "      <th>32</th>\n",
       "      <td>11</td>\n",
       "      <td>Technology</td>\n",
       "      <td>1258</td>\n",
       "      <td>1258</td>\n",
       "      <td>1258</td>\n",
       "      <td>1258</td>\n",
       "      <td>1258</td>\n",
       "      <td>1258</td>\n",
       "      <td>1258</td>\n",
       "      <td>1258</td>\n",
       "      <td>...</td>\n",
       "      <td>1258</td>\n",
       "      <td>1258</td>\n",
       "      <td>1258</td>\n",
       "      <td>1258</td>\n",
       "      <td>1258</td>\n",
       "      <td>1258</td>\n",
       "      <td>1258</td>\n",
       "      <td>1258</td>\n",
       "      <td>1258</td>\n",
       "      <td>1258</td>\n",
       "    </tr>\n",
       "    <tr>\n",
       "      <th>33</th>\n",
       "      <td>12</td>\n",
       "      <td>Furniture</td>\n",
       "      <td>1254</td>\n",
       "      <td>1254</td>\n",
       "      <td>1254</td>\n",
       "      <td>1254</td>\n",
       "      <td>1254</td>\n",
       "      <td>1254</td>\n",
       "      <td>1254</td>\n",
       "      <td>1254</td>\n",
       "      <td>...</td>\n",
       "      <td>1254</td>\n",
       "      <td>1254</td>\n",
       "      <td>1254</td>\n",
       "      <td>1254</td>\n",
       "      <td>1254</td>\n",
       "      <td>1254</td>\n",
       "      <td>1254</td>\n",
       "      <td>1254</td>\n",
       "      <td>1254</td>\n",
       "      <td>1254</td>\n",
       "    </tr>\n",
       "    <tr>\n",
       "      <th>34</th>\n",
       "      <td>12</td>\n",
       "      <td>Office Supplies</td>\n",
       "      <td>3749</td>\n",
       "      <td>3749</td>\n",
       "      <td>3749</td>\n",
       "      <td>3749</td>\n",
       "      <td>3749</td>\n",
       "      <td>3749</td>\n",
       "      <td>3749</td>\n",
       "      <td>3749</td>\n",
       "      <td>...</td>\n",
       "      <td>3749</td>\n",
       "      <td>3749</td>\n",
       "      <td>3749</td>\n",
       "      <td>3749</td>\n",
       "      <td>3749</td>\n",
       "      <td>3749</td>\n",
       "      <td>3749</td>\n",
       "      <td>3749</td>\n",
       "      <td>3749</td>\n",
       "      <td>3749</td>\n",
       "    </tr>\n",
       "    <tr>\n",
       "      <th>35</th>\n",
       "      <td>12</td>\n",
       "      <td>Technology</td>\n",
       "      <td>1254</td>\n",
       "      <td>1254</td>\n",
       "      <td>1254</td>\n",
       "      <td>1254</td>\n",
       "      <td>1254</td>\n",
       "      <td>1254</td>\n",
       "      <td>1254</td>\n",
       "      <td>1254</td>\n",
       "      <td>...</td>\n",
       "      <td>1254</td>\n",
       "      <td>1254</td>\n",
       "      <td>1254</td>\n",
       "      <td>1254</td>\n",
       "      <td>1254</td>\n",
       "      <td>1254</td>\n",
       "      <td>1254</td>\n",
       "      <td>1254</td>\n",
       "      <td>1254</td>\n",
       "      <td>1254</td>\n",
       "    </tr>\n",
       "  </tbody>\n",
       "</table>\n",
       "<p>36 rows × 25 columns</p>\n",
       "</div>"
      ],
      "text/plain": [
       "    OrderMonth         Category  Row.ID  Order.ID  Order.Date  Ship.Date  \\\n",
       "0            1        Furniture     491       491         491        491   \n",
       "1            1  Office Supplies    1616      1616        1616       1616   \n",
       "2            1       Technology     504       504         504        504   \n",
       "3            2        Furniture     424       424         424        424   \n",
       "4            2  Office Supplies    1319      1319        1319       1319   \n",
       "5            2       Technology     466       466         466        466   \n",
       "6            3        Furniture     574       574         574        574   \n",
       "7            3  Office Supplies    1843      1843        1843       1843   \n",
       "8            3       Technology     590       590         590        590   \n",
       "9            4        Furniture     569       569         569        569   \n",
       "10           4  Office Supplies    1859      1859        1859       1859   \n",
       "11           4       Technology     604       604         604        604   \n",
       "12           5        Furniture     713       713         713        713   \n",
       "13           5  Office Supplies    2352      2352        2352       2352   \n",
       "14           5       Technology     722       722         722        722   \n",
       "15           6        Furniture     997       997         997        997   \n",
       "16           6  Office Supplies    3258      3258        3258       3258   \n",
       "17           6       Technology    1047      1047        1047       1047   \n",
       "18           7        Furniture     618       618         618        618   \n",
       "19           7  Office Supplies    1938      1938        1938       1938   \n",
       "20           7       Technology     639       639         639        639   \n",
       "21           8        Furniture     873       873         873        873   \n",
       "22           8  Office Supplies    3185      3185        3185       3185   \n",
       "23           8       Technology    1007      1007        1007       1007   \n",
       "24           9        Furniture    1177      1177        1177       1177   \n",
       "25           9  Office Supplies    3657      3657        3657       3657   \n",
       "26           9       Technology    1124      1124        1124       1124   \n",
       "27          10        Furniture     934       934         934        934   \n",
       "28          10  Office Supplies    2696      2696        2696       2696   \n",
       "29          10       Technology     926       926         926        926   \n",
       "30          11        Furniture    1236      1236        1236       1236   \n",
       "31          11  Office Supplies    3817      3817        3817       3817   \n",
       "32          11       Technology    1258      1258        1258       1258   \n",
       "33          12        Furniture    1254      1254        1254       1254   \n",
       "34          12  Office Supplies    3749      3749        3749       3749   \n",
       "35          12       Technology    1254      1254        1254       1254   \n",
       "\n",
       "    Ship.Mode  Customer.ID  Customer.Name  Segment  ...  Market  Product.ID  \\\n",
       "0         491          491            491      491  ...     491         491   \n",
       "1        1616         1616           1616     1616  ...    1616        1616   \n",
       "2         504          504            504      504  ...     504         504   \n",
       "3         424          424            424      424  ...     424         424   \n",
       "4        1319         1319           1319     1319  ...    1319        1319   \n",
       "5         466          466            466      466  ...     466         466   \n",
       "6         574          574            574      574  ...     574         574   \n",
       "7        1843         1843           1843     1843  ...    1843        1843   \n",
       "8         590          590            590      590  ...     590         590   \n",
       "9         569          569            569      569  ...     569         569   \n",
       "10       1859         1859           1859     1859  ...    1859        1859   \n",
       "11        604          604            604      604  ...     604         604   \n",
       "12        713          713            713      713  ...     713         713   \n",
       "13       2352         2352           2352     2352  ...    2352        2352   \n",
       "14        722          722            722      722  ...     722         722   \n",
       "15        997          997            997      997  ...     997         997   \n",
       "16       3258         3258           3258     3258  ...    3258        3258   \n",
       "17       1047         1047           1047     1047  ...    1047        1047   \n",
       "18        618          618            618      618  ...     618         618   \n",
       "19       1938         1938           1938     1938  ...    1938        1938   \n",
       "20        639          639            639      639  ...     639         639   \n",
       "21        873          873            873      873  ...     873         873   \n",
       "22       3185         3185           3185     3185  ...    3185        3185   \n",
       "23       1007         1007           1007     1007  ...    1007        1007   \n",
       "24       1177         1177           1177     1177  ...    1177        1177   \n",
       "25       3657         3657           3657     3657  ...    3657        3657   \n",
       "26       1124         1124           1124     1124  ...    1124        1124   \n",
       "27        934          934            934      934  ...     934         934   \n",
       "28       2696         2696           2696     2696  ...    2696        2696   \n",
       "29        926          926            926      926  ...     926         926   \n",
       "30       1236         1236           1236     1236  ...    1236        1236   \n",
       "31       3817         3817           3817     3817  ...    3817        3817   \n",
       "32       1258         1258           1258     1258  ...    1258        1258   \n",
       "33       1254         1254           1254     1254  ...    1254        1254   \n",
       "34       3749         3749           3749     3749  ...    3749        3749   \n",
       "35       1254         1254           1254     1254  ...    1254        1254   \n",
       "\n",
       "    Sub.Category  Product.Name  Sales  Quantity  Discount  Profit  \\\n",
       "0            491           491    491       491       491     491   \n",
       "1           1616          1616   1616      1616      1616    1616   \n",
       "2            504           504    504       504       504     504   \n",
       "3            424           424    424       424       424     424   \n",
       "4           1319          1319   1319      1319      1319    1319   \n",
       "5            466           466    466       466       466     466   \n",
       "6            574           574    574       574       574     574   \n",
       "7           1843          1843   1843      1843      1843    1843   \n",
       "8            590           590    590       590       590     590   \n",
       "9            569           569    569       569       569     569   \n",
       "10          1859          1859   1859      1859      1859    1859   \n",
       "11           604           604    604       604       604     604   \n",
       "12           713           713    713       713       713     713   \n",
       "13          2352          2352   2352      2352      2352    2352   \n",
       "14           722           722    722       722       722     722   \n",
       "15           997           997    997       997       997     997   \n",
       "16          3258          3258   3258      3258      3258    3258   \n",
       "17          1047          1047   1047      1047      1047    1047   \n",
       "18           618           618    618       618       618     618   \n",
       "19          1938          1938   1938      1938      1938    1938   \n",
       "20           639           639    639       639       639     639   \n",
       "21           873           873    873       873       873     873   \n",
       "22          3185          3185   3185      3185      3185    3185   \n",
       "23          1007          1007   1007      1007      1007    1007   \n",
       "24          1177          1177   1177      1177      1177    1177   \n",
       "25          3657          3657   3657      3657      3657    3657   \n",
       "26          1124          1124   1124      1124      1124    1124   \n",
       "27           934           934    934       934       934     934   \n",
       "28          2696          2696   2696      2696      2696    2696   \n",
       "29           926           926    926       926       926     926   \n",
       "30          1236          1236   1236      1236      1236    1236   \n",
       "31          3817          3817   3817      3817      3817    3817   \n",
       "32          1258          1258   1258      1258      1258    1258   \n",
       "33          1254          1254   1254      1254      1254    1254   \n",
       "34          3749          3749   3749      3749      3749    3749   \n",
       "35          1254          1254   1254      1254      1254    1254   \n",
       "\n",
       "    Shipping.Cost  Order.Priority  \n",
       "0             491             491  \n",
       "1            1616            1616  \n",
       "2             504             504  \n",
       "3             424             424  \n",
       "4            1319            1319  \n",
       "5             466             466  \n",
       "6             574             574  \n",
       "7            1843            1843  \n",
       "8             590             590  \n",
       "9             569             569  \n",
       "10           1859            1859  \n",
       "11            604             604  \n",
       "12            713             713  \n",
       "13           2352            2352  \n",
       "14            722             722  \n",
       "15            997             997  \n",
       "16           3258            3258  \n",
       "17           1047            1047  \n",
       "18            618             618  \n",
       "19           1938            1938  \n",
       "20            639             639  \n",
       "21            873             873  \n",
       "22           3185            3185  \n",
       "23           1007            1007  \n",
       "24           1177            1177  \n",
       "25           3657            3657  \n",
       "26           1124            1124  \n",
       "27            934             934  \n",
       "28           2696            2696  \n",
       "29            926             926  \n",
       "30           1236            1236  \n",
       "31           3817            3817  \n",
       "32           1258            1258  \n",
       "33           1254            1254  \n",
       "34           3749            3749  \n",
       "35           1254            1254  \n",
       "\n",
       "[36 rows x 25 columns]"
      ]
     },
     "execution_count": 132,
     "metadata": {},
     "output_type": "execute_result"
    }
   ],
   "source": [
    "month_category"
   ]
  },
  {
   "cell_type": "code",
   "execution_count": 133,
   "id": "7560b8ba",
   "metadata": {
    "scrolled": false
   },
   "outputs": [
    {
     "data": {
      "application/vnd.plotly.v1+json": {
       "config": {
        "plotlyServerURL": "https://plot.ly"
       },
       "data": [
        {
         "hovertemplate": "Category=Furniture<br>OrderMonth=%{x}<br>Quantity=%{y}<extra></extra>",
         "legendgroup": "Furniture",
         "line": {
          "color": "#636efa",
          "dash": "solid"
         },
         "marker": {
          "symbol": "circle"
         },
         "mode": "lines",
         "name": "Furniture",
         "orientation": "v",
         "showlegend": true,
         "type": "scatter",
         "x": [
          1,
          2,
          3,
          4,
          5,
          6,
          7,
          8,
          9,
          10,
          11,
          12
         ],
         "xaxis": "x",
         "y": [
          491,
          424,
          574,
          569,
          713,
          997,
          618,
          873,
          1177,
          934,
          1236,
          1254
         ],
         "yaxis": "y"
        },
        {
         "hovertemplate": "Category=Office Supplies<br>OrderMonth=%{x}<br>Quantity=%{y}<extra></extra>",
         "legendgroup": "Office Supplies",
         "line": {
          "color": "#EF553B",
          "dash": "solid"
         },
         "marker": {
          "symbol": "circle"
         },
         "mode": "lines",
         "name": "Office Supplies",
         "orientation": "v",
         "showlegend": true,
         "type": "scatter",
         "x": [
          1,
          2,
          3,
          4,
          5,
          6,
          7,
          8,
          9,
          10,
          11,
          12
         ],
         "xaxis": "x",
         "y": [
          1616,
          1319,
          1843,
          1859,
          2352,
          3258,
          1938,
          3185,
          3657,
          2696,
          3817,
          3749
         ],
         "yaxis": "y"
        },
        {
         "hovertemplate": "Category=Technology<br>OrderMonth=%{x}<br>Quantity=%{y}<extra></extra>",
         "legendgroup": "Technology",
         "line": {
          "color": "#00cc96",
          "dash": "solid"
         },
         "marker": {
          "symbol": "circle"
         },
         "mode": "lines",
         "name": "Technology",
         "orientation": "v",
         "showlegend": true,
         "type": "scatter",
         "x": [
          1,
          2,
          3,
          4,
          5,
          6,
          7,
          8,
          9,
          10,
          11,
          12
         ],
         "xaxis": "x",
         "y": [
          504,
          466,
          590,
          604,
          722,
          1047,
          639,
          1007,
          1124,
          926,
          1258,
          1254
         ],
         "yaxis": "y"
        }
       ],
       "layout": {
        "legend": {
         "title": {
          "text": "Category"
         },
         "tracegroupgap": 0
        },
        "margin": {
         "t": 60
        },
        "template": {
         "data": {
          "bar": [
           {
            "error_x": {
             "color": "#2a3f5f"
            },
            "error_y": {
             "color": "#2a3f5f"
            },
            "marker": {
             "line": {
              "color": "#E5ECF6",
              "width": 0.5
             },
             "pattern": {
              "fillmode": "overlay",
              "size": 10,
              "solidity": 0.2
             }
            },
            "type": "bar"
           }
          ],
          "barpolar": [
           {
            "marker": {
             "line": {
              "color": "#E5ECF6",
              "width": 0.5
             },
             "pattern": {
              "fillmode": "overlay",
              "size": 10,
              "solidity": 0.2
             }
            },
            "type": "barpolar"
           }
          ],
          "carpet": [
           {
            "aaxis": {
             "endlinecolor": "#2a3f5f",
             "gridcolor": "white",
             "linecolor": "white",
             "minorgridcolor": "white",
             "startlinecolor": "#2a3f5f"
            },
            "baxis": {
             "endlinecolor": "#2a3f5f",
             "gridcolor": "white",
             "linecolor": "white",
             "minorgridcolor": "white",
             "startlinecolor": "#2a3f5f"
            },
            "type": "carpet"
           }
          ],
          "choropleth": [
           {
            "colorbar": {
             "outlinewidth": 0,
             "ticks": ""
            },
            "type": "choropleth"
           }
          ],
          "contour": [
           {
            "colorbar": {
             "outlinewidth": 0,
             "ticks": ""
            },
            "colorscale": [
             [
              0,
              "#0d0887"
             ],
             [
              0.1111111111111111,
              "#46039f"
             ],
             [
              0.2222222222222222,
              "#7201a8"
             ],
             [
              0.3333333333333333,
              "#9c179e"
             ],
             [
              0.4444444444444444,
              "#bd3786"
             ],
             [
              0.5555555555555556,
              "#d8576b"
             ],
             [
              0.6666666666666666,
              "#ed7953"
             ],
             [
              0.7777777777777778,
              "#fb9f3a"
             ],
             [
              0.8888888888888888,
              "#fdca26"
             ],
             [
              1,
              "#f0f921"
             ]
            ],
            "type": "contour"
           }
          ],
          "contourcarpet": [
           {
            "colorbar": {
             "outlinewidth": 0,
             "ticks": ""
            },
            "type": "contourcarpet"
           }
          ],
          "heatmap": [
           {
            "colorbar": {
             "outlinewidth": 0,
             "ticks": ""
            },
            "colorscale": [
             [
              0,
              "#0d0887"
             ],
             [
              0.1111111111111111,
              "#46039f"
             ],
             [
              0.2222222222222222,
              "#7201a8"
             ],
             [
              0.3333333333333333,
              "#9c179e"
             ],
             [
              0.4444444444444444,
              "#bd3786"
             ],
             [
              0.5555555555555556,
              "#d8576b"
             ],
             [
              0.6666666666666666,
              "#ed7953"
             ],
             [
              0.7777777777777778,
              "#fb9f3a"
             ],
             [
              0.8888888888888888,
              "#fdca26"
             ],
             [
              1,
              "#f0f921"
             ]
            ],
            "type": "heatmap"
           }
          ],
          "heatmapgl": [
           {
            "colorbar": {
             "outlinewidth": 0,
             "ticks": ""
            },
            "colorscale": [
             [
              0,
              "#0d0887"
             ],
             [
              0.1111111111111111,
              "#46039f"
             ],
             [
              0.2222222222222222,
              "#7201a8"
             ],
             [
              0.3333333333333333,
              "#9c179e"
             ],
             [
              0.4444444444444444,
              "#bd3786"
             ],
             [
              0.5555555555555556,
              "#d8576b"
             ],
             [
              0.6666666666666666,
              "#ed7953"
             ],
             [
              0.7777777777777778,
              "#fb9f3a"
             ],
             [
              0.8888888888888888,
              "#fdca26"
             ],
             [
              1,
              "#f0f921"
             ]
            ],
            "type": "heatmapgl"
           }
          ],
          "histogram": [
           {
            "marker": {
             "pattern": {
              "fillmode": "overlay",
              "size": 10,
              "solidity": 0.2
             }
            },
            "type": "histogram"
           }
          ],
          "histogram2d": [
           {
            "colorbar": {
             "outlinewidth": 0,
             "ticks": ""
            },
            "colorscale": [
             [
              0,
              "#0d0887"
             ],
             [
              0.1111111111111111,
              "#46039f"
             ],
             [
              0.2222222222222222,
              "#7201a8"
             ],
             [
              0.3333333333333333,
              "#9c179e"
             ],
             [
              0.4444444444444444,
              "#bd3786"
             ],
             [
              0.5555555555555556,
              "#d8576b"
             ],
             [
              0.6666666666666666,
              "#ed7953"
             ],
             [
              0.7777777777777778,
              "#fb9f3a"
             ],
             [
              0.8888888888888888,
              "#fdca26"
             ],
             [
              1,
              "#f0f921"
             ]
            ],
            "type": "histogram2d"
           }
          ],
          "histogram2dcontour": [
           {
            "colorbar": {
             "outlinewidth": 0,
             "ticks": ""
            },
            "colorscale": [
             [
              0,
              "#0d0887"
             ],
             [
              0.1111111111111111,
              "#46039f"
             ],
             [
              0.2222222222222222,
              "#7201a8"
             ],
             [
              0.3333333333333333,
              "#9c179e"
             ],
             [
              0.4444444444444444,
              "#bd3786"
             ],
             [
              0.5555555555555556,
              "#d8576b"
             ],
             [
              0.6666666666666666,
              "#ed7953"
             ],
             [
              0.7777777777777778,
              "#fb9f3a"
             ],
             [
              0.8888888888888888,
              "#fdca26"
             ],
             [
              1,
              "#f0f921"
             ]
            ],
            "type": "histogram2dcontour"
           }
          ],
          "mesh3d": [
           {
            "colorbar": {
             "outlinewidth": 0,
             "ticks": ""
            },
            "type": "mesh3d"
           }
          ],
          "parcoords": [
           {
            "line": {
             "colorbar": {
              "outlinewidth": 0,
              "ticks": ""
             }
            },
            "type": "parcoords"
           }
          ],
          "pie": [
           {
            "automargin": true,
            "type": "pie"
           }
          ],
          "scatter": [
           {
            "marker": {
             "colorbar": {
              "outlinewidth": 0,
              "ticks": ""
             }
            },
            "type": "scatter"
           }
          ],
          "scatter3d": [
           {
            "line": {
             "colorbar": {
              "outlinewidth": 0,
              "ticks": ""
             }
            },
            "marker": {
             "colorbar": {
              "outlinewidth": 0,
              "ticks": ""
             }
            },
            "type": "scatter3d"
           }
          ],
          "scattercarpet": [
           {
            "marker": {
             "colorbar": {
              "outlinewidth": 0,
              "ticks": ""
             }
            },
            "type": "scattercarpet"
           }
          ],
          "scattergeo": [
           {
            "marker": {
             "colorbar": {
              "outlinewidth": 0,
              "ticks": ""
             }
            },
            "type": "scattergeo"
           }
          ],
          "scattergl": [
           {
            "marker": {
             "colorbar": {
              "outlinewidth": 0,
              "ticks": ""
             }
            },
            "type": "scattergl"
           }
          ],
          "scattermapbox": [
           {
            "marker": {
             "colorbar": {
              "outlinewidth": 0,
              "ticks": ""
             }
            },
            "type": "scattermapbox"
           }
          ],
          "scatterpolar": [
           {
            "marker": {
             "colorbar": {
              "outlinewidth": 0,
              "ticks": ""
             }
            },
            "type": "scatterpolar"
           }
          ],
          "scatterpolargl": [
           {
            "marker": {
             "colorbar": {
              "outlinewidth": 0,
              "ticks": ""
             }
            },
            "type": "scatterpolargl"
           }
          ],
          "scatterternary": [
           {
            "marker": {
             "colorbar": {
              "outlinewidth": 0,
              "ticks": ""
             }
            },
            "type": "scatterternary"
           }
          ],
          "surface": [
           {
            "colorbar": {
             "outlinewidth": 0,
             "ticks": ""
            },
            "colorscale": [
             [
              0,
              "#0d0887"
             ],
             [
              0.1111111111111111,
              "#46039f"
             ],
             [
              0.2222222222222222,
              "#7201a8"
             ],
             [
              0.3333333333333333,
              "#9c179e"
             ],
             [
              0.4444444444444444,
              "#bd3786"
             ],
             [
              0.5555555555555556,
              "#d8576b"
             ],
             [
              0.6666666666666666,
              "#ed7953"
             ],
             [
              0.7777777777777778,
              "#fb9f3a"
             ],
             [
              0.8888888888888888,
              "#fdca26"
             ],
             [
              1,
              "#f0f921"
             ]
            ],
            "type": "surface"
           }
          ],
          "table": [
           {
            "cells": {
             "fill": {
              "color": "#EBF0F8"
             },
             "line": {
              "color": "white"
             }
            },
            "header": {
             "fill": {
              "color": "#C8D4E3"
             },
             "line": {
              "color": "white"
             }
            },
            "type": "table"
           }
          ]
         },
         "layout": {
          "annotationdefaults": {
           "arrowcolor": "#2a3f5f",
           "arrowhead": 0,
           "arrowwidth": 1
          },
          "autotypenumbers": "strict",
          "coloraxis": {
           "colorbar": {
            "outlinewidth": 0,
            "ticks": ""
           }
          },
          "colorscale": {
           "diverging": [
            [
             0,
             "#8e0152"
            ],
            [
             0.1,
             "#c51b7d"
            ],
            [
             0.2,
             "#de77ae"
            ],
            [
             0.3,
             "#f1b6da"
            ],
            [
             0.4,
             "#fde0ef"
            ],
            [
             0.5,
             "#f7f7f7"
            ],
            [
             0.6,
             "#e6f5d0"
            ],
            [
             0.7,
             "#b8e186"
            ],
            [
             0.8,
             "#7fbc41"
            ],
            [
             0.9,
             "#4d9221"
            ],
            [
             1,
             "#276419"
            ]
           ],
           "sequential": [
            [
             0,
             "#0d0887"
            ],
            [
             0.1111111111111111,
             "#46039f"
            ],
            [
             0.2222222222222222,
             "#7201a8"
            ],
            [
             0.3333333333333333,
             "#9c179e"
            ],
            [
             0.4444444444444444,
             "#bd3786"
            ],
            [
             0.5555555555555556,
             "#d8576b"
            ],
            [
             0.6666666666666666,
             "#ed7953"
            ],
            [
             0.7777777777777778,
             "#fb9f3a"
            ],
            [
             0.8888888888888888,
             "#fdca26"
            ],
            [
             1,
             "#f0f921"
            ]
           ],
           "sequentialminus": [
            [
             0,
             "#0d0887"
            ],
            [
             0.1111111111111111,
             "#46039f"
            ],
            [
             0.2222222222222222,
             "#7201a8"
            ],
            [
             0.3333333333333333,
             "#9c179e"
            ],
            [
             0.4444444444444444,
             "#bd3786"
            ],
            [
             0.5555555555555556,
             "#d8576b"
            ],
            [
             0.6666666666666666,
             "#ed7953"
            ],
            [
             0.7777777777777778,
             "#fb9f3a"
            ],
            [
             0.8888888888888888,
             "#fdca26"
            ],
            [
             1,
             "#f0f921"
            ]
           ]
          },
          "colorway": [
           "#636efa",
           "#EF553B",
           "#00cc96",
           "#ab63fa",
           "#FFA15A",
           "#19d3f3",
           "#FF6692",
           "#B6E880",
           "#FF97FF",
           "#FECB52"
          ],
          "font": {
           "color": "#2a3f5f"
          },
          "geo": {
           "bgcolor": "white",
           "lakecolor": "white",
           "landcolor": "#E5ECF6",
           "showlakes": true,
           "showland": true,
           "subunitcolor": "white"
          },
          "hoverlabel": {
           "align": "left"
          },
          "hovermode": "closest",
          "mapbox": {
           "style": "light"
          },
          "paper_bgcolor": "white",
          "plot_bgcolor": "#E5ECF6",
          "polar": {
           "angularaxis": {
            "gridcolor": "white",
            "linecolor": "white",
            "ticks": ""
           },
           "bgcolor": "#E5ECF6",
           "radialaxis": {
            "gridcolor": "white",
            "linecolor": "white",
            "ticks": ""
           }
          },
          "scene": {
           "xaxis": {
            "backgroundcolor": "#E5ECF6",
            "gridcolor": "white",
            "gridwidth": 2,
            "linecolor": "white",
            "showbackground": true,
            "ticks": "",
            "zerolinecolor": "white"
           },
           "yaxis": {
            "backgroundcolor": "#E5ECF6",
            "gridcolor": "white",
            "gridwidth": 2,
            "linecolor": "white",
            "showbackground": true,
            "ticks": "",
            "zerolinecolor": "white"
           },
           "zaxis": {
            "backgroundcolor": "#E5ECF6",
            "gridcolor": "white",
            "gridwidth": 2,
            "linecolor": "white",
            "showbackground": true,
            "ticks": "",
            "zerolinecolor": "white"
           }
          },
          "shapedefaults": {
           "line": {
            "color": "#2a3f5f"
           }
          },
          "ternary": {
           "aaxis": {
            "gridcolor": "white",
            "linecolor": "white",
            "ticks": ""
           },
           "baxis": {
            "gridcolor": "white",
            "linecolor": "white",
            "ticks": ""
           },
           "bgcolor": "#E5ECF6",
           "caxis": {
            "gridcolor": "white",
            "linecolor": "white",
            "ticks": ""
           }
          },
          "title": {
           "x": 0.05
          },
          "xaxis": {
           "automargin": true,
           "gridcolor": "white",
           "linecolor": "white",
           "ticks": "",
           "title": {
            "standoff": 15
           },
           "zerolinecolor": "white",
           "zerolinewidth": 2
          },
          "yaxis": {
           "automargin": true,
           "gridcolor": "white",
           "linecolor": "white",
           "ticks": "",
           "title": {
            "standoff": 15
           },
           "zerolinecolor": "white",
           "zerolinewidth": 2
          }
         }
        },
        "xaxis": {
         "anchor": "y",
         "domain": [
          0,
          1
         ],
         "title": {
          "text": "OrderMonth"
         }
        },
        "yaxis": {
         "anchor": "x",
         "domain": [
          0,
          1
         ],
         "title": {
          "text": "Quantity"
         }
        }
       }
      },
      "text/html": [
       "<div>                            <div id=\"fee0f2cf-b1fe-49dc-ae9c-59b9caf6326d\" class=\"plotly-graph-div\" style=\"height:525px; width:100%;\"></div>            <script type=\"text/javascript\">                require([\"plotly\"], function(Plotly) {                    window.PLOTLYENV=window.PLOTLYENV || {};                                    if (document.getElementById(\"fee0f2cf-b1fe-49dc-ae9c-59b9caf6326d\")) {                    Plotly.newPlot(                        \"fee0f2cf-b1fe-49dc-ae9c-59b9caf6326d\",                        [{\"hovertemplate\":\"Category=Furniture<br>OrderMonth=%{x}<br>Quantity=%{y}<extra></extra>\",\"legendgroup\":\"Furniture\",\"line\":{\"color\":\"#636efa\",\"dash\":\"solid\"},\"marker\":{\"symbol\":\"circle\"},\"mode\":\"lines\",\"name\":\"Furniture\",\"orientation\":\"v\",\"showlegend\":true,\"type\":\"scatter\",\"x\":[1,2,3,4,5,6,7,8,9,10,11,12],\"xaxis\":\"x\",\"y\":[491,424,574,569,713,997,618,873,1177,934,1236,1254],\"yaxis\":\"y\"},{\"hovertemplate\":\"Category=Office Supplies<br>OrderMonth=%{x}<br>Quantity=%{y}<extra></extra>\",\"legendgroup\":\"Office Supplies\",\"line\":{\"color\":\"#EF553B\",\"dash\":\"solid\"},\"marker\":{\"symbol\":\"circle\"},\"mode\":\"lines\",\"name\":\"Office Supplies\",\"orientation\":\"v\",\"showlegend\":true,\"type\":\"scatter\",\"x\":[1,2,3,4,5,6,7,8,9,10,11,12],\"xaxis\":\"x\",\"y\":[1616,1319,1843,1859,2352,3258,1938,3185,3657,2696,3817,3749],\"yaxis\":\"y\"},{\"hovertemplate\":\"Category=Technology<br>OrderMonth=%{x}<br>Quantity=%{y}<extra></extra>\",\"legendgroup\":\"Technology\",\"line\":{\"color\":\"#00cc96\",\"dash\":\"solid\"},\"marker\":{\"symbol\":\"circle\"},\"mode\":\"lines\",\"name\":\"Technology\",\"orientation\":\"v\",\"showlegend\":true,\"type\":\"scatter\",\"x\":[1,2,3,4,5,6,7,8,9,10,11,12],\"xaxis\":\"x\",\"y\":[504,466,590,604,722,1047,639,1007,1124,926,1258,1254],\"yaxis\":\"y\"}],                        {\"legend\":{\"title\":{\"text\":\"Category\"},\"tracegroupgap\":0},\"margin\":{\"t\":60},\"template\":{\"data\":{\"bar\":[{\"error_x\":{\"color\":\"#2a3f5f\"},\"error_y\":{\"color\":\"#2a3f5f\"},\"marker\":{\"line\":{\"color\":\"#E5ECF6\",\"width\":0.5},\"pattern\":{\"fillmode\":\"overlay\",\"size\":10,\"solidity\":0.2}},\"type\":\"bar\"}],\"barpolar\":[{\"marker\":{\"line\":{\"color\":\"#E5ECF6\",\"width\":0.5},\"pattern\":{\"fillmode\":\"overlay\",\"size\":10,\"solidity\":0.2}},\"type\":\"barpolar\"}],\"carpet\":[{\"aaxis\":{\"endlinecolor\":\"#2a3f5f\",\"gridcolor\":\"white\",\"linecolor\":\"white\",\"minorgridcolor\":\"white\",\"startlinecolor\":\"#2a3f5f\"},\"baxis\":{\"endlinecolor\":\"#2a3f5f\",\"gridcolor\":\"white\",\"linecolor\":\"white\",\"minorgridcolor\":\"white\",\"startlinecolor\":\"#2a3f5f\"},\"type\":\"carpet\"}],\"choropleth\":[{\"colorbar\":{\"outlinewidth\":0,\"ticks\":\"\"},\"type\":\"choropleth\"}],\"contour\":[{\"colorbar\":{\"outlinewidth\":0,\"ticks\":\"\"},\"colorscale\":[[0.0,\"#0d0887\"],[0.1111111111111111,\"#46039f\"],[0.2222222222222222,\"#7201a8\"],[0.3333333333333333,\"#9c179e\"],[0.4444444444444444,\"#bd3786\"],[0.5555555555555556,\"#d8576b\"],[0.6666666666666666,\"#ed7953\"],[0.7777777777777778,\"#fb9f3a\"],[0.8888888888888888,\"#fdca26\"],[1.0,\"#f0f921\"]],\"type\":\"contour\"}],\"contourcarpet\":[{\"colorbar\":{\"outlinewidth\":0,\"ticks\":\"\"},\"type\":\"contourcarpet\"}],\"heatmap\":[{\"colorbar\":{\"outlinewidth\":0,\"ticks\":\"\"},\"colorscale\":[[0.0,\"#0d0887\"],[0.1111111111111111,\"#46039f\"],[0.2222222222222222,\"#7201a8\"],[0.3333333333333333,\"#9c179e\"],[0.4444444444444444,\"#bd3786\"],[0.5555555555555556,\"#d8576b\"],[0.6666666666666666,\"#ed7953\"],[0.7777777777777778,\"#fb9f3a\"],[0.8888888888888888,\"#fdca26\"],[1.0,\"#f0f921\"]],\"type\":\"heatmap\"}],\"heatmapgl\":[{\"colorbar\":{\"outlinewidth\":0,\"ticks\":\"\"},\"colorscale\":[[0.0,\"#0d0887\"],[0.1111111111111111,\"#46039f\"],[0.2222222222222222,\"#7201a8\"],[0.3333333333333333,\"#9c179e\"],[0.4444444444444444,\"#bd3786\"],[0.5555555555555556,\"#d8576b\"],[0.6666666666666666,\"#ed7953\"],[0.7777777777777778,\"#fb9f3a\"],[0.8888888888888888,\"#fdca26\"],[1.0,\"#f0f921\"]],\"type\":\"heatmapgl\"}],\"histogram\":[{\"marker\":{\"pattern\":{\"fillmode\":\"overlay\",\"size\":10,\"solidity\":0.2}},\"type\":\"histogram\"}],\"histogram2d\":[{\"colorbar\":{\"outlinewidth\":0,\"ticks\":\"\"},\"colorscale\":[[0.0,\"#0d0887\"],[0.1111111111111111,\"#46039f\"],[0.2222222222222222,\"#7201a8\"],[0.3333333333333333,\"#9c179e\"],[0.4444444444444444,\"#bd3786\"],[0.5555555555555556,\"#d8576b\"],[0.6666666666666666,\"#ed7953\"],[0.7777777777777778,\"#fb9f3a\"],[0.8888888888888888,\"#fdca26\"],[1.0,\"#f0f921\"]],\"type\":\"histogram2d\"}],\"histogram2dcontour\":[{\"colorbar\":{\"outlinewidth\":0,\"ticks\":\"\"},\"colorscale\":[[0.0,\"#0d0887\"],[0.1111111111111111,\"#46039f\"],[0.2222222222222222,\"#7201a8\"],[0.3333333333333333,\"#9c179e\"],[0.4444444444444444,\"#bd3786\"],[0.5555555555555556,\"#d8576b\"],[0.6666666666666666,\"#ed7953\"],[0.7777777777777778,\"#fb9f3a\"],[0.8888888888888888,\"#fdca26\"],[1.0,\"#f0f921\"]],\"type\":\"histogram2dcontour\"}],\"mesh3d\":[{\"colorbar\":{\"outlinewidth\":0,\"ticks\":\"\"},\"type\":\"mesh3d\"}],\"parcoords\":[{\"line\":{\"colorbar\":{\"outlinewidth\":0,\"ticks\":\"\"}},\"type\":\"parcoords\"}],\"pie\":[{\"automargin\":true,\"type\":\"pie\"}],\"scatter\":[{\"marker\":{\"colorbar\":{\"outlinewidth\":0,\"ticks\":\"\"}},\"type\":\"scatter\"}],\"scatter3d\":[{\"line\":{\"colorbar\":{\"outlinewidth\":0,\"ticks\":\"\"}},\"marker\":{\"colorbar\":{\"outlinewidth\":0,\"ticks\":\"\"}},\"type\":\"scatter3d\"}],\"scattercarpet\":[{\"marker\":{\"colorbar\":{\"outlinewidth\":0,\"ticks\":\"\"}},\"type\":\"scattercarpet\"}],\"scattergeo\":[{\"marker\":{\"colorbar\":{\"outlinewidth\":0,\"ticks\":\"\"}},\"type\":\"scattergeo\"}],\"scattergl\":[{\"marker\":{\"colorbar\":{\"outlinewidth\":0,\"ticks\":\"\"}},\"type\":\"scattergl\"}],\"scattermapbox\":[{\"marker\":{\"colorbar\":{\"outlinewidth\":0,\"ticks\":\"\"}},\"type\":\"scattermapbox\"}],\"scatterpolar\":[{\"marker\":{\"colorbar\":{\"outlinewidth\":0,\"ticks\":\"\"}},\"type\":\"scatterpolar\"}],\"scatterpolargl\":[{\"marker\":{\"colorbar\":{\"outlinewidth\":0,\"ticks\":\"\"}},\"type\":\"scatterpolargl\"}],\"scatterternary\":[{\"marker\":{\"colorbar\":{\"outlinewidth\":0,\"ticks\":\"\"}},\"type\":\"scatterternary\"}],\"surface\":[{\"colorbar\":{\"outlinewidth\":0,\"ticks\":\"\"},\"colorscale\":[[0.0,\"#0d0887\"],[0.1111111111111111,\"#46039f\"],[0.2222222222222222,\"#7201a8\"],[0.3333333333333333,\"#9c179e\"],[0.4444444444444444,\"#bd3786\"],[0.5555555555555556,\"#d8576b\"],[0.6666666666666666,\"#ed7953\"],[0.7777777777777778,\"#fb9f3a\"],[0.8888888888888888,\"#fdca26\"],[1.0,\"#f0f921\"]],\"type\":\"surface\"}],\"table\":[{\"cells\":{\"fill\":{\"color\":\"#EBF0F8\"},\"line\":{\"color\":\"white\"}},\"header\":{\"fill\":{\"color\":\"#C8D4E3\"},\"line\":{\"color\":\"white\"}},\"type\":\"table\"}]},\"layout\":{\"annotationdefaults\":{\"arrowcolor\":\"#2a3f5f\",\"arrowhead\":0,\"arrowwidth\":1},\"autotypenumbers\":\"strict\",\"coloraxis\":{\"colorbar\":{\"outlinewidth\":0,\"ticks\":\"\"}},\"colorscale\":{\"diverging\":[[0,\"#8e0152\"],[0.1,\"#c51b7d\"],[0.2,\"#de77ae\"],[0.3,\"#f1b6da\"],[0.4,\"#fde0ef\"],[0.5,\"#f7f7f7\"],[0.6,\"#e6f5d0\"],[0.7,\"#b8e186\"],[0.8,\"#7fbc41\"],[0.9,\"#4d9221\"],[1,\"#276419\"]],\"sequential\":[[0.0,\"#0d0887\"],[0.1111111111111111,\"#46039f\"],[0.2222222222222222,\"#7201a8\"],[0.3333333333333333,\"#9c179e\"],[0.4444444444444444,\"#bd3786\"],[0.5555555555555556,\"#d8576b\"],[0.6666666666666666,\"#ed7953\"],[0.7777777777777778,\"#fb9f3a\"],[0.8888888888888888,\"#fdca26\"],[1.0,\"#f0f921\"]],\"sequentialminus\":[[0.0,\"#0d0887\"],[0.1111111111111111,\"#46039f\"],[0.2222222222222222,\"#7201a8\"],[0.3333333333333333,\"#9c179e\"],[0.4444444444444444,\"#bd3786\"],[0.5555555555555556,\"#d8576b\"],[0.6666666666666666,\"#ed7953\"],[0.7777777777777778,\"#fb9f3a\"],[0.8888888888888888,\"#fdca26\"],[1.0,\"#f0f921\"]]},\"colorway\":[\"#636efa\",\"#EF553B\",\"#00cc96\",\"#ab63fa\",\"#FFA15A\",\"#19d3f3\",\"#FF6692\",\"#B6E880\",\"#FF97FF\",\"#FECB52\"],\"font\":{\"color\":\"#2a3f5f\"},\"geo\":{\"bgcolor\":\"white\",\"lakecolor\":\"white\",\"landcolor\":\"#E5ECF6\",\"showlakes\":true,\"showland\":true,\"subunitcolor\":\"white\"},\"hoverlabel\":{\"align\":\"left\"},\"hovermode\":\"closest\",\"mapbox\":{\"style\":\"light\"},\"paper_bgcolor\":\"white\",\"plot_bgcolor\":\"#E5ECF6\",\"polar\":{\"angularaxis\":{\"gridcolor\":\"white\",\"linecolor\":\"white\",\"ticks\":\"\"},\"bgcolor\":\"#E5ECF6\",\"radialaxis\":{\"gridcolor\":\"white\",\"linecolor\":\"white\",\"ticks\":\"\"}},\"scene\":{\"xaxis\":{\"backgroundcolor\":\"#E5ECF6\",\"gridcolor\":\"white\",\"gridwidth\":2,\"linecolor\":\"white\",\"showbackground\":true,\"ticks\":\"\",\"zerolinecolor\":\"white\"},\"yaxis\":{\"backgroundcolor\":\"#E5ECF6\",\"gridcolor\":\"white\",\"gridwidth\":2,\"linecolor\":\"white\",\"showbackground\":true,\"ticks\":\"\",\"zerolinecolor\":\"white\"},\"zaxis\":{\"backgroundcolor\":\"#E5ECF6\",\"gridcolor\":\"white\",\"gridwidth\":2,\"linecolor\":\"white\",\"showbackground\":true,\"ticks\":\"\",\"zerolinecolor\":\"white\"}},\"shapedefaults\":{\"line\":{\"color\":\"#2a3f5f\"}},\"ternary\":{\"aaxis\":{\"gridcolor\":\"white\",\"linecolor\":\"white\",\"ticks\":\"\"},\"baxis\":{\"gridcolor\":\"white\",\"linecolor\":\"white\",\"ticks\":\"\"},\"bgcolor\":\"#E5ECF6\",\"caxis\":{\"gridcolor\":\"white\",\"linecolor\":\"white\",\"ticks\":\"\"}},\"title\":{\"x\":0.05},\"xaxis\":{\"automargin\":true,\"gridcolor\":\"white\",\"linecolor\":\"white\",\"ticks\":\"\",\"title\":{\"standoff\":15},\"zerolinecolor\":\"white\",\"zerolinewidth\":2},\"yaxis\":{\"automargin\":true,\"gridcolor\":\"white\",\"linecolor\":\"white\",\"ticks\":\"\",\"title\":{\"standoff\":15},\"zerolinecolor\":\"white\",\"zerolinewidth\":2}}},\"xaxis\":{\"anchor\":\"y\",\"domain\":[0.0,1.0],\"title\":{\"text\":\"OrderMonth\"}},\"yaxis\":{\"anchor\":\"x\",\"domain\":[0.0,1.0],\"title\":{\"text\":\"Quantity\"}}},                        {\"responsive\": true}                    ).then(function(){\n",
       "                            \n",
       "var gd = document.getElementById('fee0f2cf-b1fe-49dc-ae9c-59b9caf6326d');\n",
       "var x = new MutationObserver(function (mutations, observer) {{\n",
       "        var display = window.getComputedStyle(gd).display;\n",
       "        if (!display || display === 'none') {{\n",
       "            console.log([gd, 'removed!']);\n",
       "            Plotly.purge(gd);\n",
       "            observer.disconnect();\n",
       "        }}\n",
       "}});\n",
       "\n",
       "// Listen for the removal of the full notebook cells\n",
       "var notebookContainer = gd.closest('#notebook-container');\n",
       "if (notebookContainer) {{\n",
       "    x.observe(notebookContainer, {childList: true});\n",
       "}}\n",
       "\n",
       "// Listen for the clearing of the current output cell\n",
       "var outputEl = gd.closest('.output');\n",
       "if (outputEl) {{\n",
       "    x.observe(outputEl, {childList: true});\n",
       "}}\n",
       "\n",
       "                        })                };                });            </script>        </div>"
      ]
     },
     "metadata": {},
     "output_type": "display_data"
    }
   ],
   "source": [
    "fig = px.line(month_category, \n",
    "             x = \"OrderMonth\",\n",
    "             y = \"Quantity\",\n",
    "             color = \"Category\")\n",
    "fig.show()"
   ]
  },
  {
   "cell_type": "markdown",
   "id": "f519aaff",
   "metadata": {},
   "source": [
    "### Problem 3: Why did customers make returns?\n",
    "- Your manager required you to give a brief report (**Plots + Interpretations**) on returned orders.\n",
    "\n",
    "\t1. How much profit did we lose due to returns each year?\n",
    "    - 2012:    17477.26\n",
    "    - 2013:     9269.89\n",
    "    - 2014:    17510.63\n",
    "    - 2015:    17112.97\n",
    "\n",
    "\t2. How many customer returned more than once? more than 5 times?\n",
    "    - More than once: 547\n",
    "    - More than five times: 46\n",
    "\n",
    "\t3. Which regions are more likely to return orders?\n",
    "    - Western US, Eastern Asia, Southern Europe\n",
    "\n",
    "\t4. Which categories (sub-categories) of products are more likely to be returned?\n",
    "    - The top three Categories to be returned, in order are Office Supplies, Technology and Furniture\n",
    "    - The top three sub-categories are Accessories, Appliances, and Art\n",
    "    \n",
    "\n",
    "- ***Hint:*** Merge the **Returns** dataframe with the **Orders** dataframe using `Order.ID`."
   ]
  },
  {
   "cell_type": "code",
   "execution_count": 206,
   "id": "ca3e3d06",
   "metadata": {
    "scrolled": false
   },
   "outputs": [
    {
     "data": {
      "text/html": [
       "<div>\n",
       "<style scoped>\n",
       "    .dataframe tbody tr th:only-of-type {\n",
       "        vertical-align: middle;\n",
       "    }\n",
       "\n",
       "    .dataframe tbody tr th {\n",
       "        vertical-align: top;\n",
       "    }\n",
       "\n",
       "    .dataframe thead th {\n",
       "        text-align: right;\n",
       "    }\n",
       "</style>\n",
       "<table border=\"1\" class=\"dataframe\">\n",
       "  <thead>\n",
       "    <tr style=\"text-align: right;\">\n",
       "      <th></th>\n",
       "      <th>Returned</th>\n",
       "      <th>Order ID</th>\n",
       "      <th>Region</th>\n",
       "    </tr>\n",
       "  </thead>\n",
       "  <tbody>\n",
       "    <tr>\n",
       "      <th>0</th>\n",
       "      <td>Yes</td>\n",
       "      <td>CA-2012-SA20830140-41210</td>\n",
       "      <td>Central US</td>\n",
       "    </tr>\n",
       "    <tr>\n",
       "      <th>1</th>\n",
       "      <td>Yes</td>\n",
       "      <td>IN-2012-PB19210127-41259</td>\n",
       "      <td>Eastern Asia</td>\n",
       "    </tr>\n",
       "    <tr>\n",
       "      <th>2</th>\n",
       "      <td>Yes</td>\n",
       "      <td>CA-2012-SC20095140-41174</td>\n",
       "      <td>Central US</td>\n",
       "    </tr>\n",
       "    <tr>\n",
       "      <th>3</th>\n",
       "      <td>Yes</td>\n",
       "      <td>IN-2015-JH158207-42140</td>\n",
       "      <td>Oceania</td>\n",
       "    </tr>\n",
       "    <tr>\n",
       "      <th>4</th>\n",
       "      <td>Yes</td>\n",
       "      <td>IN-2014-LC168857-41747</td>\n",
       "      <td>Oceania</td>\n",
       "    </tr>\n",
       "  </tbody>\n",
       "</table>\n",
       "</div>"
      ],
      "text/plain": [
       "  Returned                  Order ID        Region\n",
       "0      Yes  CA-2012-SA20830140-41210    Central US\n",
       "1      Yes  IN-2012-PB19210127-41259  Eastern Asia\n",
       "2      Yes  CA-2012-SC20095140-41174    Central US\n",
       "3      Yes    IN-2015-JH158207-42140       Oceania\n",
       "4      Yes    IN-2014-LC168857-41747       Oceania"
      ]
     },
     "execution_count": 206,
     "metadata": {},
     "output_type": "execute_result"
    }
   ],
   "source": [
    "returns = pd.read_csv('data/Returns.csv')\n",
    "returns.head()"
   ]
  },
  {
   "cell_type": "code",
   "execution_count": 158,
   "id": "c6543108",
   "metadata": {},
   "outputs": [],
   "source": [
    "joined = pd.merge(orders, returns, how=\"left\", left_on=\"Order.ID\", right_on=\"Order ID\")"
   ]
  },
  {
   "cell_type": "code",
   "execution_count": 159,
   "id": "8c3b9933",
   "metadata": {},
   "outputs": [],
   "source": [
    "joined['Returned'] = joined['Returned'].fillna('No')"
   ]
  },
  {
   "cell_type": "code",
   "execution_count": 160,
   "id": "e3e2c19c",
   "metadata": {
    "scrolled": true
   },
   "outputs": [
    {
     "data": {
      "text/plain": [
       "No     49070\n",
       "Yes     2220\n",
       "Name: Returned, dtype: int64"
      ]
     },
     "execution_count": 160,
     "metadata": {},
     "output_type": "execute_result"
    }
   ],
   "source": [
    "joined['Returned'].value_counts()"
   ]
  },
  {
   "cell_type": "code",
   "execution_count": 323,
   "id": "5dd611c0",
   "metadata": {},
   "outputs": [
    {
     "ename": "IndexError",
     "evalue": "index 0 is out of bounds for axis 0 with size 0",
     "output_type": "error",
     "traceback": [
      "\u001b[0;31m---------------------------------------------------------------------------\u001b[0m",
      "\u001b[0;31mIndexError\u001b[0m                                Traceback (most recent call last)",
      "\u001b[0;32m<ipython-input-323-c3b8518770a5>\u001b[0m in \u001b[0;36m<module>\u001b[0;34m\u001b[0m\n\u001b[1;32m      1\u001b[0m \u001b[0mget_ipython\u001b[0m\u001b[0;34m(\u001b[0m\u001b[0;34m)\u001b[0m\u001b[0;34m.\u001b[0m\u001b[0mrun_line_magic\u001b[0m\u001b[0;34m(\u001b[0m\u001b[0;34m'matplotlib'\u001b[0m\u001b[0;34m,\u001b[0m \u001b[0;34m'inline'\u001b[0m\u001b[0;34m)\u001b[0m\u001b[0;34m\u001b[0m\u001b[0;34m\u001b[0m\u001b[0m\n\u001b[0;32m----> 2\u001b[0;31m \u001b[0mjoined\u001b[0m\u001b[0;34m[\u001b[0m\u001b[0mjoined\u001b[0m\u001b[0;34m[\u001b[0m\u001b[0;34m'Returned'\u001b[0m\u001b[0;34m]\u001b[0m\u001b[0;34m==\u001b[0m\u001b[0;34m'Yes'\u001b[0m\u001b[0;34m]\u001b[0m\u001b[0;34m.\u001b[0m\u001b[0mgroupby\u001b[0m\u001b[0;34m(\u001b[0m\u001b[0;34m[\u001b[0m\u001b[0;34m'OrderYear'\u001b[0m\u001b[0;34m]\u001b[0m\u001b[0;34m)\u001b[0m\u001b[0;34m.\u001b[0m\u001b[0magg\u001b[0m\u001b[0;34m(\u001b[0m\u001b[0;34m'sum'\u001b[0m\u001b[0;34m)\u001b[0m\u001b[0;34m[\u001b[0m\u001b[0;34m'Profit'\u001b[0m\u001b[0;34m]\u001b[0m\u001b[0;34m.\u001b[0m\u001b[0mplot\u001b[0m\u001b[0;34m.\u001b[0m\u001b[0mbar\u001b[0m\u001b[0;34m(\u001b[0m\u001b[0;34m)\u001b[0m\u001b[0;34m\u001b[0m\u001b[0;34m\u001b[0m\u001b[0m\n\u001b[0m",
      "\u001b[0;32m~/opt/anaconda3/lib/python3.8/site-packages/pandas/plotting/_core.py\u001b[0m in \u001b[0;36mbar\u001b[0;34m(self, x, y, **kwargs)\u001b[0m\n\u001b[1;32m   1111\u001b[0m         \u001b[0mother\u001b[0m \u001b[0maxis\u001b[0m \u001b[0mrepresents\u001b[0m \u001b[0ma\u001b[0m \u001b[0mmeasured\u001b[0m \u001b[0mvalue\u001b[0m\u001b[0;34m.\u001b[0m\u001b[0;34m\u001b[0m\u001b[0;34m\u001b[0m\u001b[0m\n\u001b[1;32m   1112\u001b[0m         \"\"\"\n\u001b[0;32m-> 1113\u001b[0;31m         \u001b[0;32mreturn\u001b[0m \u001b[0mself\u001b[0m\u001b[0;34m(\u001b[0m\u001b[0mkind\u001b[0m\u001b[0;34m=\u001b[0m\u001b[0;34m\"bar\"\u001b[0m\u001b[0;34m,\u001b[0m \u001b[0mx\u001b[0m\u001b[0;34m=\u001b[0m\u001b[0mx\u001b[0m\u001b[0;34m,\u001b[0m \u001b[0my\u001b[0m\u001b[0;34m=\u001b[0m\u001b[0my\u001b[0m\u001b[0;34m,\u001b[0m \u001b[0;34m**\u001b[0m\u001b[0mkwargs\u001b[0m\u001b[0;34m)\u001b[0m\u001b[0;34m\u001b[0m\u001b[0;34m\u001b[0m\u001b[0m\n\u001b[0m\u001b[1;32m   1114\u001b[0m \u001b[0;34m\u001b[0m\u001b[0m\n\u001b[1;32m   1115\u001b[0m     @Appender(\n",
      "\u001b[0;32m~/opt/anaconda3/lib/python3.8/site-packages/pandas/plotting/_core.py\u001b[0m in \u001b[0;36m__call__\u001b[0;34m(self, *args, **kwargs)\u001b[0m\n\u001b[1;32m    953\u001b[0m                     \u001b[0mdata\u001b[0m\u001b[0;34m.\u001b[0m\u001b[0mcolumns\u001b[0m \u001b[0;34m=\u001b[0m \u001b[0mlabel_name\u001b[0m\u001b[0;34m\u001b[0m\u001b[0;34m\u001b[0m\u001b[0m\n\u001b[1;32m    954\u001b[0m \u001b[0;34m\u001b[0m\u001b[0m\n\u001b[0;32m--> 955\u001b[0;31m         \u001b[0;32mreturn\u001b[0m \u001b[0mplot_backend\u001b[0m\u001b[0;34m.\u001b[0m\u001b[0mplot\u001b[0m\u001b[0;34m(\u001b[0m\u001b[0mdata\u001b[0m\u001b[0;34m,\u001b[0m \u001b[0mkind\u001b[0m\u001b[0;34m=\u001b[0m\u001b[0mkind\u001b[0m\u001b[0;34m,\u001b[0m \u001b[0;34m**\u001b[0m\u001b[0mkwargs\u001b[0m\u001b[0;34m)\u001b[0m\u001b[0;34m\u001b[0m\u001b[0;34m\u001b[0m\u001b[0m\n\u001b[0m\u001b[1;32m    956\u001b[0m \u001b[0;34m\u001b[0m\u001b[0m\n\u001b[1;32m    957\u001b[0m     \u001b[0m__call__\u001b[0m\u001b[0;34m.\u001b[0m\u001b[0m__doc__\u001b[0m \u001b[0;34m=\u001b[0m \u001b[0m__doc__\u001b[0m\u001b[0;34m\u001b[0m\u001b[0;34m\u001b[0m\u001b[0m\n",
      "\u001b[0;32m~/opt/anaconda3/lib/python3.8/site-packages/pandas/plotting/_matplotlib/__init__.py\u001b[0m in \u001b[0;36mplot\u001b[0;34m(data, kind, **kwargs)\u001b[0m\n\u001b[1;32m     59\u001b[0m             \u001b[0mkwargs\u001b[0m\u001b[0;34m[\u001b[0m\u001b[0;34m\"ax\"\u001b[0m\u001b[0;34m]\u001b[0m \u001b[0;34m=\u001b[0m \u001b[0mgetattr\u001b[0m\u001b[0;34m(\u001b[0m\u001b[0max\u001b[0m\u001b[0;34m,\u001b[0m \u001b[0;34m\"left_ax\"\u001b[0m\u001b[0;34m,\u001b[0m \u001b[0max\u001b[0m\u001b[0;34m)\u001b[0m\u001b[0;34m\u001b[0m\u001b[0;34m\u001b[0m\u001b[0m\n\u001b[1;32m     60\u001b[0m     \u001b[0mplot_obj\u001b[0m \u001b[0;34m=\u001b[0m \u001b[0mPLOT_CLASSES\u001b[0m\u001b[0;34m[\u001b[0m\u001b[0mkind\u001b[0m\u001b[0;34m]\u001b[0m\u001b[0;34m(\u001b[0m\u001b[0mdata\u001b[0m\u001b[0;34m,\u001b[0m \u001b[0;34m**\u001b[0m\u001b[0mkwargs\u001b[0m\u001b[0;34m)\u001b[0m\u001b[0;34m\u001b[0m\u001b[0;34m\u001b[0m\u001b[0m\n\u001b[0;32m---> 61\u001b[0;31m     \u001b[0mplot_obj\u001b[0m\u001b[0;34m.\u001b[0m\u001b[0mgenerate\u001b[0m\u001b[0;34m(\u001b[0m\u001b[0;34m)\u001b[0m\u001b[0;34m\u001b[0m\u001b[0;34m\u001b[0m\u001b[0m\n\u001b[0m\u001b[1;32m     62\u001b[0m     \u001b[0mplot_obj\u001b[0m\u001b[0;34m.\u001b[0m\u001b[0mdraw\u001b[0m\u001b[0;34m(\u001b[0m\u001b[0;34m)\u001b[0m\u001b[0;34m\u001b[0m\u001b[0;34m\u001b[0m\u001b[0m\n\u001b[1;32m     63\u001b[0m     \u001b[0;32mreturn\u001b[0m \u001b[0mplot_obj\u001b[0m\u001b[0;34m.\u001b[0m\u001b[0mresult\u001b[0m\u001b[0;34m\u001b[0m\u001b[0;34m\u001b[0m\u001b[0m\n",
      "\u001b[0;32m~/opt/anaconda3/lib/python3.8/site-packages/pandas/plotting/_matplotlib/core.py\u001b[0m in \u001b[0;36mgenerate\u001b[0;34m(self)\u001b[0m\n\u001b[1;32m    285\u001b[0m         \u001b[0;32mfor\u001b[0m \u001b[0max\u001b[0m \u001b[0;32min\u001b[0m \u001b[0mself\u001b[0m\u001b[0;34m.\u001b[0m\u001b[0maxes\u001b[0m\u001b[0;34m:\u001b[0m\u001b[0;34m\u001b[0m\u001b[0;34m\u001b[0m\u001b[0m\n\u001b[1;32m    286\u001b[0m             \u001b[0mself\u001b[0m\u001b[0;34m.\u001b[0m\u001b[0m_post_plot_logic_common\u001b[0m\u001b[0;34m(\u001b[0m\u001b[0max\u001b[0m\u001b[0;34m,\u001b[0m \u001b[0mself\u001b[0m\u001b[0;34m.\u001b[0m\u001b[0mdata\u001b[0m\u001b[0;34m)\u001b[0m\u001b[0;34m\u001b[0m\u001b[0;34m\u001b[0m\u001b[0m\n\u001b[0;32m--> 287\u001b[0;31m             \u001b[0mself\u001b[0m\u001b[0;34m.\u001b[0m\u001b[0m_post_plot_logic\u001b[0m\u001b[0;34m(\u001b[0m\u001b[0max\u001b[0m\u001b[0;34m,\u001b[0m \u001b[0mself\u001b[0m\u001b[0;34m.\u001b[0m\u001b[0mdata\u001b[0m\u001b[0;34m)\u001b[0m\u001b[0;34m\u001b[0m\u001b[0;34m\u001b[0m\u001b[0m\n\u001b[0m\u001b[1;32m    288\u001b[0m \u001b[0;34m\u001b[0m\u001b[0m\n\u001b[1;32m    289\u001b[0m     \u001b[0;32mdef\u001b[0m \u001b[0m_args_adjust\u001b[0m\u001b[0;34m(\u001b[0m\u001b[0mself\u001b[0m\u001b[0;34m)\u001b[0m\u001b[0;34m:\u001b[0m\u001b[0;34m\u001b[0m\u001b[0;34m\u001b[0m\u001b[0m\n",
      "\u001b[0;32m~/opt/anaconda3/lib/python3.8/site-packages/pandas/plotting/_matplotlib/core.py\u001b[0m in \u001b[0;36m_post_plot_logic\u001b[0;34m(self, ax, data)\u001b[0m\n\u001b[1;32m   1492\u001b[0m         \u001b[0mname\u001b[0m \u001b[0;34m=\u001b[0m \u001b[0mself\u001b[0m\u001b[0;34m.\u001b[0m\u001b[0m_get_index_name\u001b[0m\u001b[0;34m(\u001b[0m\u001b[0;34m)\u001b[0m\u001b[0;34m\u001b[0m\u001b[0;34m\u001b[0m\u001b[0m\n\u001b[1;32m   1493\u001b[0m \u001b[0;34m\u001b[0m\u001b[0m\n\u001b[0;32m-> 1494\u001b[0;31m         \u001b[0ms_edge\u001b[0m \u001b[0;34m=\u001b[0m \u001b[0mself\u001b[0m\u001b[0;34m.\u001b[0m\u001b[0max_pos\u001b[0m\u001b[0;34m[\u001b[0m\u001b[0;36m0\u001b[0m\u001b[0;34m]\u001b[0m \u001b[0;34m-\u001b[0m \u001b[0;36m0.25\u001b[0m \u001b[0;34m+\u001b[0m \u001b[0mself\u001b[0m\u001b[0;34m.\u001b[0m\u001b[0mlim_offset\u001b[0m\u001b[0;34m\u001b[0m\u001b[0;34m\u001b[0m\u001b[0m\n\u001b[0m\u001b[1;32m   1495\u001b[0m         \u001b[0me_edge\u001b[0m \u001b[0;34m=\u001b[0m \u001b[0mself\u001b[0m\u001b[0;34m.\u001b[0m\u001b[0max_pos\u001b[0m\u001b[0;34m[\u001b[0m\u001b[0;34m-\u001b[0m\u001b[0;36m1\u001b[0m\u001b[0;34m]\u001b[0m \u001b[0;34m+\u001b[0m \u001b[0;36m0.25\u001b[0m \u001b[0;34m+\u001b[0m \u001b[0mself\u001b[0m\u001b[0;34m.\u001b[0m\u001b[0mbar_width\u001b[0m \u001b[0;34m+\u001b[0m \u001b[0mself\u001b[0m\u001b[0;34m.\u001b[0m\u001b[0mlim_offset\u001b[0m\u001b[0;34m\u001b[0m\u001b[0;34m\u001b[0m\u001b[0m\n\u001b[1;32m   1496\u001b[0m \u001b[0;34m\u001b[0m\u001b[0m\n",
      "\u001b[0;31mIndexError\u001b[0m: index 0 is out of bounds for axis 0 with size 0"
     ]
    },
    {
     "data": {
      "image/png": "[encoded data removed]",
      "text/plain": [
       "<Figure size 432x288 with 1 Axes>"
      ]
     },
     "metadata": {
      "needs_background": "light"
     },
     "output_type": "display_data"
    }
   ],
   "source": [
    "%matplotlib inline\n",
    "joined[joined['Returned']=='Yes'].groupby(['OrderYear']).agg('sum')['Profit'].plot.bar()"
   ]
  },
  {
   "cell_type": "code",
   "execution_count": 165,
   "id": "c9fd4641",
   "metadata": {},
   "outputs": [],
   "source": [
    "returned = joined[joined['Returned']=='Yes']"
   ]
  },
  {
   "cell_type": "code",
   "execution_count": 170,
   "id": "afda6eea",
   "metadata": {},
   "outputs": [],
   "source": [
    "returns_per_customer = returned.groupby(['Customer.ID']).agg('count')[['Returned']]"
   ]
  },
  {
   "cell_type": "code",
   "execution_count": 177,
   "id": "9c6fcebc",
   "metadata": {},
   "outputs": [
    {
     "data": {
      "text/plain": [
       "547"
      ]
     },
     "execution_count": 177,
     "metadata": {},
     "output_type": "execute_result"
    }
   ],
   "source": [
    "sum(returns_per_customer['Returned'] > 1)"
   ]
  },
  {
   "cell_type": "code",
   "execution_count": 178,
   "id": "1db94de1",
   "metadata": {
    "scrolled": true
   },
   "outputs": [
    {
     "data": {
      "text/plain": [
       "46"
      ]
     },
     "execution_count": 178,
     "metadata": {},
     "output_type": "execute_result"
    }
   ],
   "source": [
    "sum(returns_per_customer['Returned'] > 5)"
   ]
  },
  {
   "cell_type": "code",
   "execution_count": 200,
   "id": "60306dfa",
   "metadata": {
    "scrolled": true
   },
   "outputs": [
    {
     "data": {
      "text/html": [
       "<div>\n",
       "<style scoped>\n",
       "    .dataframe tbody tr th:only-of-type {\n",
       "        vertical-align: middle;\n",
       "    }\n",
       "\n",
       "    .dataframe tbody tr th {\n",
       "        vertical-align: top;\n",
       "    }\n",
       "\n",
       "    .dataframe thead th {\n",
       "        text-align: right;\n",
       "    }\n",
       "</style>\n",
       "<table border=\"1\" class=\"dataframe\">\n",
       "  <thead>\n",
       "    <tr style=\"text-align: right;\">\n",
       "      <th></th>\n",
       "      <th>Total</th>\n",
       "      <th>Returns</th>\n",
       "      <th>Ratio</th>\n",
       "    </tr>\n",
       "  </thead>\n",
       "  <tbody>\n",
       "    <tr>\n",
       "      <th>Western US</th>\n",
       "      <td>3203</td>\n",
       "      <td>177</td>\n",
       "      <td>0.055261</td>\n",
       "    </tr>\n",
       "    <tr>\n",
       "      <th>Eastern Asia</th>\n",
       "      <td>2374</td>\n",
       "      <td>131</td>\n",
       "      <td>0.055181</td>\n",
       "    </tr>\n",
       "    <tr>\n",
       "      <th>Southern Europe</th>\n",
       "      <td>2113</td>\n",
       "      <td>112</td>\n",
       "      <td>0.053005</td>\n",
       "    </tr>\n",
       "    <tr>\n",
       "      <th>Southern Africa</th>\n",
       "      <td>478</td>\n",
       "      <td>25</td>\n",
       "      <td>0.052301</td>\n",
       "    </tr>\n",
       "    <tr>\n",
       "      <th>Southern US</th>\n",
       "      <td>1620</td>\n",
       "      <td>83</td>\n",
       "      <td>0.051235</td>\n",
       "    </tr>\n",
       "    <tr>\n",
       "      <th>Eastern US</th>\n",
       "      <td>2848</td>\n",
       "      <td>134</td>\n",
       "      <td>0.047051</td>\n",
       "    </tr>\n",
       "    <tr>\n",
       "      <th>Southeastern Asia</th>\n",
       "      <td>3129</td>\n",
       "      <td>140</td>\n",
       "      <td>0.044743</td>\n",
       "    </tr>\n",
       "    <tr>\n",
       "      <th>South America</th>\n",
       "      <td>2988</td>\n",
       "      <td>133</td>\n",
       "      <td>0.044511</td>\n",
       "    </tr>\n",
       "    <tr>\n",
       "      <th>Western Asia</th>\n",
       "      <td>2440</td>\n",
       "      <td>108</td>\n",
       "      <td>0.044262</td>\n",
       "    </tr>\n",
       "    <tr>\n",
       "      <th>Oceania</th>\n",
       "      <td>3487</td>\n",
       "      <td>154</td>\n",
       "      <td>0.044164</td>\n",
       "    </tr>\n",
       "    <tr>\n",
       "      <th>Central America</th>\n",
       "      <td>5616</td>\n",
       "      <td>248</td>\n",
       "      <td>0.044160</td>\n",
       "    </tr>\n",
       "    <tr>\n",
       "      <th>Southern Asia</th>\n",
       "      <td>2655</td>\n",
       "      <td>111</td>\n",
       "      <td>0.041808</td>\n",
       "    </tr>\n",
       "    <tr>\n",
       "      <th>Central Asia</th>\n",
       "      <td>217</td>\n",
       "      <td>9</td>\n",
       "      <td>0.041475</td>\n",
       "    </tr>\n",
       "    <tr>\n",
       "      <th>Western Africa</th>\n",
       "      <td>1460</td>\n",
       "      <td>60</td>\n",
       "      <td>0.041096</td>\n",
       "    </tr>\n",
       "    <tr>\n",
       "      <th>Caribbean</th>\n",
       "      <td>1690</td>\n",
       "      <td>69</td>\n",
       "      <td>0.040828</td>\n",
       "    </tr>\n",
       "    <tr>\n",
       "      <th>North Africa</th>\n",
       "      <td>1278</td>\n",
       "      <td>51</td>\n",
       "      <td>0.039906</td>\n",
       "    </tr>\n",
       "    <tr>\n",
       "      <th>Western Europe</th>\n",
       "      <td>5883</td>\n",
       "      <td>233</td>\n",
       "      <td>0.039606</td>\n",
       "    </tr>\n",
       "    <tr>\n",
       "      <th>Canada</th>\n",
       "      <td>384</td>\n",
       "      <td>15</td>\n",
       "      <td>0.039062</td>\n",
       "    </tr>\n",
       "    <tr>\n",
       "      <th>Northern Europe</th>\n",
       "      <td>2204</td>\n",
       "      <td>76</td>\n",
       "      <td>0.034483</td>\n",
       "    </tr>\n",
       "    <tr>\n",
       "      <th>Central US</th>\n",
       "      <td>2323</td>\n",
       "      <td>74</td>\n",
       "      <td>0.031855</td>\n",
       "    </tr>\n",
       "    <tr>\n",
       "      <th>Eastern Europe</th>\n",
       "      <td>1529</td>\n",
       "      <td>42</td>\n",
       "      <td>0.027469</td>\n",
       "    </tr>\n",
       "    <tr>\n",
       "      <th>Central Africa</th>\n",
       "      <td>643</td>\n",
       "      <td>17</td>\n",
       "      <td>0.026439</td>\n",
       "    </tr>\n",
       "    <tr>\n",
       "      <th>Eastern Africa</th>\n",
       "      <td>728</td>\n",
       "      <td>18</td>\n",
       "      <td>0.024725</td>\n",
       "    </tr>\n",
       "  </tbody>\n",
       "</table>\n",
       "</div>"
      ],
      "text/plain": [
       "                   Total  Returns     Ratio\n",
       "Western US          3203      177  0.055261\n",
       "Eastern Asia        2374      131  0.055181\n",
       "Southern Europe     2113      112  0.053005\n",
       "Southern Africa      478       25  0.052301\n",
       "Southern US         1620       83  0.051235\n",
       "Eastern US          2848      134  0.047051\n",
       "Southeastern Asia   3129      140  0.044743\n",
       "South America       2988      133  0.044511\n",
       "Western Asia        2440      108  0.044262\n",
       "Oceania             3487      154  0.044164\n",
       "Central America     5616      248  0.044160\n",
       "Southern Asia       2655      111  0.041808\n",
       "Central Asia         217        9  0.041475\n",
       "Western Africa      1460       60  0.041096\n",
       "Caribbean           1690       69  0.040828\n",
       "North Africa        1278       51  0.039906\n",
       "Western Europe      5883      233  0.039606\n",
       "Canada               384       15  0.039062\n",
       "Northern Europe     2204       76  0.034483\n",
       "Central US          2323       74  0.031855\n",
       "Eastern Europe      1529       42  0.027469\n",
       "Central Africa       643       17  0.026439\n",
       "Eastern Africa       728       18  0.024725"
      ]
     },
     "execution_count": 200,
     "metadata": {},
     "output_type": "execute_result"
    }
   ],
   "source": [
    "tot_region_orders = joined.Region_x.value_counts()\n",
    "ret_region_orders = returned.Region_x.value_counts()\n",
    "tot_ret_regions = pd.DataFrame({'Total': tot_region_orders, 'Returns': ret_region_orders})\n",
    "tot_ret_regions['Ratio'] = tot_ret_regions['Returns']/tot_ret_regions['Total']\n",
    "tot_ret_regions.sort_values(by='Ratio', ascending=False)"
   ]
  },
  {
   "cell_type": "code",
   "execution_count": 204,
   "id": "3158d041",
   "metadata": {
    "scrolled": false
   },
   "outputs": [
    {
     "data": {
      "text/html": [
       "<div>\n",
       "<style scoped>\n",
       "    .dataframe tbody tr th:only-of-type {\n",
       "        vertical-align: middle;\n",
       "    }\n",
       "\n",
       "    .dataframe tbody tr th {\n",
       "        vertical-align: top;\n",
       "    }\n",
       "\n",
       "    .dataframe thead th {\n",
       "        text-align: right;\n",
       "    }\n",
       "</style>\n",
       "<table border=\"1\" class=\"dataframe\">\n",
       "  <thead>\n",
       "    <tr style=\"text-align: right;\">\n",
       "      <th></th>\n",
       "      <th>Total</th>\n",
       "      <th>Returns</th>\n",
       "      <th>Ratio</th>\n",
       "    </tr>\n",
       "  </thead>\n",
       "  <tbody>\n",
       "    <tr>\n",
       "      <th>Office Supplies</th>\n",
       "      <td>31289</td>\n",
       "      <td>1348</td>\n",
       "      <td>0.043082</td>\n",
       "    </tr>\n",
       "    <tr>\n",
       "      <th>Technology</th>\n",
       "      <td>10141</td>\n",
       "      <td>445</td>\n",
       "      <td>0.043881</td>\n",
       "    </tr>\n",
       "    <tr>\n",
       "      <th>Furniture</th>\n",
       "      <td>9860</td>\n",
       "      <td>427</td>\n",
       "      <td>0.043306</td>\n",
       "    </tr>\n",
       "  </tbody>\n",
       "</table>\n",
       "</div>"
      ],
      "text/plain": [
       "                 Total  Returns     Ratio\n",
       "Office Supplies  31289     1348  0.043082\n",
       "Technology       10141      445  0.043881\n",
       "Furniture         9860      427  0.043306"
      ]
     },
     "execution_count": 204,
     "metadata": {},
     "output_type": "execute_result"
    }
   ],
   "source": [
    "ret_cat_orders = returned.Category.value_counts()\n",
    "tot_cat_orders = joined.Category.value_counts()\n",
    "tot_ret_cats = pd.DataFrame({'Total': tot_cat_orders, 'Returns': ret_cat_orders})\n",
    "tot_ret_cats['Ratio'] = tot_ret_cats['Returns']/tot_ret_cats['Total']\n",
    "tot_ret_cats.sort_values(by='Ratio', ascending=False)\n",
    "tot_ret_cats"
   ]
  },
  {
   "cell_type": "code",
   "execution_count": 324,
   "id": "dcdbbfb9",
   "metadata": {},
   "outputs": [
    {
     "data": {
      "text/html": [
       "<div>\n",
       "<style scoped>\n",
       "    .dataframe tbody tr th:only-of-type {\n",
       "        vertical-align: middle;\n",
       "    }\n",
       "\n",
       "    .dataframe tbody tr th {\n",
       "        vertical-align: top;\n",
       "    }\n",
       "\n",
       "    .dataframe thead th {\n",
       "        text-align: right;\n",
       "    }\n",
       "</style>\n",
       "<table border=\"1\" class=\"dataframe\">\n",
       "  <thead>\n",
       "    <tr style=\"text-align: right;\">\n",
       "      <th></th>\n",
       "      <th>Total</th>\n",
       "      <th>Returns</th>\n",
       "      <th>Ratio</th>\n",
       "    </tr>\n",
       "  </thead>\n",
       "  <tbody>\n",
       "    <tr>\n",
       "      <th>Labels</th>\n",
       "      <td>2601</td>\n",
       "      <td>137</td>\n",
       "      <td>0.052672</td>\n",
       "    </tr>\n",
       "    <tr>\n",
       "      <th>Tables</th>\n",
       "      <td>861</td>\n",
       "      <td>41</td>\n",
       "      <td>0.047619</td>\n",
       "    </tr>\n",
       "    <tr>\n",
       "      <th>Accessories</th>\n",
       "      <td>3075</td>\n",
       "      <td>138</td>\n",
       "      <td>0.044878</td>\n",
       "    </tr>\n",
       "    <tr>\n",
       "      <th>Art</th>\n",
       "      <td>4864</td>\n",
       "      <td>217</td>\n",
       "      <td>0.044613</td>\n",
       "    </tr>\n",
       "    <tr>\n",
       "      <th>Copiers</th>\n",
       "      <td>2223</td>\n",
       "      <td>99</td>\n",
       "      <td>0.044534</td>\n",
       "    </tr>\n",
       "    <tr>\n",
       "      <th>Binders</th>\n",
       "      <td>6146</td>\n",
       "      <td>269</td>\n",
       "      <td>0.043768</td>\n",
       "    </tr>\n",
       "    <tr>\n",
       "      <th>Phones</th>\n",
       "      <td>3357</td>\n",
       "      <td>145</td>\n",
       "      <td>0.043193</td>\n",
       "    </tr>\n",
       "    <tr>\n",
       "      <th>Bookcases</th>\n",
       "      <td>2411</td>\n",
       "      <td>104</td>\n",
       "      <td>0.043136</td>\n",
       "    </tr>\n",
       "    <tr>\n",
       "      <th>Paper</th>\n",
       "      <td>3492</td>\n",
       "      <td>150</td>\n",
       "      <td>0.042955</td>\n",
       "    </tr>\n",
       "    <tr>\n",
       "      <th>Chairs</th>\n",
       "      <td>3434</td>\n",
       "      <td>147</td>\n",
       "      <td>0.042807</td>\n",
       "    </tr>\n",
       "    <tr>\n",
       "      <th>Furnishings</th>\n",
       "      <td>3154</td>\n",
       "      <td>135</td>\n",
       "      <td>0.042803</td>\n",
       "    </tr>\n",
       "    <tr>\n",
       "      <th>Supplies</th>\n",
       "      <td>2407</td>\n",
       "      <td>103</td>\n",
       "      <td>0.042792</td>\n",
       "    </tr>\n",
       "    <tr>\n",
       "      <th>Machines</th>\n",
       "      <td>1486</td>\n",
       "      <td>63</td>\n",
       "      <td>0.042396</td>\n",
       "    </tr>\n",
       "    <tr>\n",
       "      <th>Storage</th>\n",
       "      <td>5049</td>\n",
       "      <td>212</td>\n",
       "      <td>0.041989</td>\n",
       "    </tr>\n",
       "    <tr>\n",
       "      <th>Envelopes</th>\n",
       "      <td>2387</td>\n",
       "      <td>99</td>\n",
       "      <td>0.041475</td>\n",
       "    </tr>\n",
       "    <tr>\n",
       "      <th>Fasteners</th>\n",
       "      <td>2601</td>\n",
       "      <td>102</td>\n",
       "      <td>0.039216</td>\n",
       "    </tr>\n",
       "    <tr>\n",
       "      <th>Appliances</th>\n",
       "      <td>1742</td>\n",
       "      <td>59</td>\n",
       "      <td>0.033869</td>\n",
       "    </tr>\n",
       "  </tbody>\n",
       "</table>\n",
       "</div>"
      ],
      "text/plain": [
       "             Total  Returns     Ratio\n",
       "Labels        2601      137  0.052672\n",
       "Tables         861       41  0.047619\n",
       "Accessories   3075      138  0.044878\n",
       "Art           4864      217  0.044613\n",
       "Copiers       2223       99  0.044534\n",
       "Binders       6146      269  0.043768\n",
       "Phones        3357      145  0.043193\n",
       "Bookcases     2411      104  0.043136\n",
       "Paper         3492      150  0.042955\n",
       "Chairs        3434      147  0.042807\n",
       "Furnishings   3154      135  0.042803\n",
       "Supplies      2407      103  0.042792\n",
       "Machines      1486       63  0.042396\n",
       "Storage       5049      212  0.041989\n",
       "Envelopes     2387       99  0.041475\n",
       "Fasteners     2601      102  0.039216\n",
       "Appliances    1742       59  0.033869"
      ]
     },
     "execution_count": 324,
     "metadata": {},
     "output_type": "execute_result"
    }
   ],
   "source": [
    "ret_subcat_orders = returned['Sub.Category'].value_counts()\n",
    "tot_subcat_orders = joined['Sub.Category'].value_counts()\n",
    "tot_ret_subcats = pd.DataFrame({'Total': tot_subcat_orders, 'Returns': ret_subcat_orders})\n",
    "tot_ret_subcats['Ratio'] = tot_ret_subcats['Returns']/tot_ret_subcats['Total']\n",
    "tot_ret_subcats.sort_values(by='Ratio', ascending=False)"
   ]
  },
  {
   "cell_type": "markdown",
   "id": "123b3c41",
   "metadata": {},
   "source": [
    "## Part II: Machine Learning and Business Use Case\n",
    "\n",
    "Now your manager has a basic understanding of why customers returned orders. Next, he wants you to use machine learning to predict which orders are most likely to be returned. In this part, you will generate several features based on our previous findings and your manager's requirements.\n",
    "\n",
    "### Problem 4: Feature Engineering\n",
    "#### Step 1: Create the dependent variable\n",
    "- First of all, we need to generate a categorical variable which indicates whether an order has been returned or not.\n",
    "- ***Hint:*** the returned orders’ IDs are contained in the dataset “returns”"
   ]
  },
  {
   "cell_type": "code",
   "execution_count": 209,
   "id": "ce242552",
   "metadata": {},
   "outputs": [
    {
     "data": {
      "text/plain": [
       "Returned\n",
       "No          49070\n",
       "Yes          2220\n",
       "dtype: int64"
      ]
     },
     "execution_count": 209,
     "metadata": {},
     "output_type": "execute_result"
    }
   ],
   "source": [
    "joined[['Returned']].value_counts()"
   ]
  },
  {
   "cell_type": "markdown",
   "id": "34af8b46",
   "metadata": {},
   "source": [
    "#### Step 2:\n",
    "- Your manager believes that **how long it took the order to ship** would affect whether the customer would return it or not. \n",
    "- He wants you to generate a feature which can measure how long it takes the company to process each order.\n",
    "- ***Hint:*** Process.Time = Ship.Date - Order.Date"
   ]
  },
  {
   "cell_type": "code",
   "execution_count": 223,
   "id": "074735e7",
   "metadata": {},
   "outputs": [],
   "source": [
    "joined['Order.Date'] = pd.DatetimeIndex(joined['Order.Date'])\n",
    "joined['Ship.Date'] = pd.DatetimeIndex(joined['Ship.Date'])\n",
    "joined['Process_Time'] = joined['Ship.Date'].sub(joined['Order.Date'])"
   ]
  },
  {
   "cell_type": "code",
   "execution_count": 224,
   "id": "06f1ae8d",
   "metadata": {},
   "outputs": [
    {
     "data": {
      "text/plain": [
       "4 days    14434\n",
       "5 days    11221\n",
       "2 days     7026\n",
       "6 days     6255\n",
       "3 days     5035\n",
       "7 days     3057\n",
       "0 days     2600\n",
       "1 days     1662\n",
       "Name: Process_Time, dtype: int64"
      ]
     },
     "execution_count": 224,
     "metadata": {},
     "output_type": "execute_result"
    }
   ],
   "source": [
    "joined['Process_Time'].value_counts()"
   ]
  },
  {
   "cell_type": "markdown",
   "id": "9e38d9b1",
   "metadata": {},
   "source": [
    "#### Step 3:\n",
    "\n",
    "- If a product has been returned before, it may be returned again. \n",
    "- Let us generate a feature indictes how many times the product has been returned before.\n",
    "- If it never got returned, we just impute using 0.\n",
    "- ***Hint:*** Group by different Product.ID"
   ]
  },
  {
   "cell_type": "code",
   "execution_count": 231,
   "id": "ea545c94",
   "metadata": {},
   "outputs": [],
   "source": [
    "joined['Returned'] = joined['Returned'].map({'Yes': True, 'No':False})"
   ]
  },
  {
   "cell_type": "code",
   "execution_count": 325,
   "id": "0a7871b7",
   "metadata": {
    "scrolled": false
   },
   "outputs": [
    {
     "data": {
      "text/html": [
       "<div>\n",
       "<style scoped>\n",
       "    .dataframe tbody tr th:only-of-type {\n",
       "        vertical-align: middle;\n",
       "    }\n",
       "\n",
       "    .dataframe tbody tr th {\n",
       "        vertical-align: top;\n",
       "    }\n",
       "\n",
       "    .dataframe thead th {\n",
       "        text-align: right;\n",
       "    }\n",
       "</style>\n",
       "<table border=\"1\" class=\"dataframe\">\n",
       "  <thead>\n",
       "    <tr style=\"text-align: right;\">\n",
       "      <th></th>\n",
       "      <th>Product.ID</th>\n",
       "      <th>Returned</th>\n",
       "    </tr>\n",
       "  </thead>\n",
       "  <tbody>\n",
       "    <tr>\n",
       "      <th>0</th>\n",
       "      <td>FUR-BO-3174</td>\n",
       "      <td>0</td>\n",
       "    </tr>\n",
       "    <tr>\n",
       "      <th>1</th>\n",
       "      <td>FUR-BO-3175</td>\n",
       "      <td>0</td>\n",
       "    </tr>\n",
       "    <tr>\n",
       "      <th>2</th>\n",
       "      <td>FUR-BO-3176</td>\n",
       "      <td>1</td>\n",
       "    </tr>\n",
       "    <tr>\n",
       "      <th>3</th>\n",
       "      <td>FUR-BO-3177</td>\n",
       "      <td>0</td>\n",
       "    </tr>\n",
       "    <tr>\n",
       "      <th>4</th>\n",
       "      <td>FUR-BO-3409</td>\n",
       "      <td>0</td>\n",
       "    </tr>\n",
       "    <tr>\n",
       "      <th>...</th>\n",
       "      <td>...</td>\n",
       "      <td>...</td>\n",
       "    </tr>\n",
       "    <tr>\n",
       "      <th>3783</th>\n",
       "      <td>TEC-PH-6365</td>\n",
       "      <td>1</td>\n",
       "    </tr>\n",
       "    <tr>\n",
       "      <th>3784</th>\n",
       "      <td>TEC-PH-6413</td>\n",
       "      <td>1</td>\n",
       "    </tr>\n",
       "    <tr>\n",
       "      <th>3785</th>\n",
       "      <td>TEC-PH-6425</td>\n",
       "      <td>1</td>\n",
       "    </tr>\n",
       "    <tr>\n",
       "      <th>3786</th>\n",
       "      <td>TEC-PH-6427</td>\n",
       "      <td>0</td>\n",
       "    </tr>\n",
       "    <tr>\n",
       "      <th>3787</th>\n",
       "      <td>TEC-PH-6626</td>\n",
       "      <td>0</td>\n",
       "    </tr>\n",
       "  </tbody>\n",
       "</table>\n",
       "<p>3788 rows × 2 columns</p>\n",
       "</div>"
      ],
      "text/plain": [
       "       Product.ID  Returned\n",
       "0     FUR-BO-3174         0\n",
       "1     FUR-BO-3175         0\n",
       "2     FUR-BO-3176         1\n",
       "3     FUR-BO-3177         0\n",
       "4     FUR-BO-3409         0\n",
       "...           ...       ...\n",
       "3783  TEC-PH-6365         1\n",
       "3784  TEC-PH-6413         1\n",
       "3785  TEC-PH-6425         1\n",
       "3786  TEC-PH-6427         0\n",
       "3787  TEC-PH-6626         0\n",
       "\n",
       "[3788 rows x 2 columns]"
      ]
     },
     "execution_count": 325,
     "metadata": {},
     "output_type": "execute_result"
    }
   ],
   "source": [
    "#joined.groupby(['Product.ID'])\n",
    "num_prod_returns = joined.groupby('Product.ID')[['Returned']].agg('sum')\n",
    "num_prod_returns = num_prod_returns.reset_index()\n",
    "num_prod_returns"
   ]
  },
  {
   "cell_type": "code",
   "execution_count": 245,
   "id": "f07ff30f",
   "metadata": {},
   "outputs": [],
   "source": [
    "df = pd.merge(joined, num_prod_returns, how=\"left\", on=\"Product.ID\")"
   ]
  },
  {
   "cell_type": "code",
   "execution_count": 248,
   "id": "ee933d26",
   "metadata": {},
   "outputs": [],
   "source": [
    "df = df.rename(columns={\"Returned_y\": \"Num_Returns\"})"
   ]
  },
  {
   "cell_type": "code",
   "execution_count": 260,
   "id": "2bd4989e",
   "metadata": {},
   "outputs": [],
   "source": [
    "df = df.rename(columns={\"Returned_x\": \"Returned\"})\n",
    "df = df.drop('Region_y', axis=1)"
   ]
  },
  {
   "cell_type": "code",
   "execution_count": 261,
   "id": "9adc5c1a",
   "metadata": {},
   "outputs": [],
   "source": [
    "joined = df"
   ]
  },
  {
   "cell_type": "code",
   "execution_count": 268,
   "id": "262616c8",
   "metadata": {
    "scrolled": true
   },
   "outputs": [
    {
     "data": {
      "text/plain": [
       "Index(['Row.ID', 'Order.ID', 'Order.Date', 'Ship.Date', 'Ship.Mode',\n",
       "       'Customer.ID', 'Customer.Name', 'Segment', 'Postal.Code', 'City',\n",
       "       'State', 'Country', 'Region_x', 'Market', 'Product.ID', 'Category',\n",
       "       'Sub.Category', 'Product.Name', 'Sales', 'Quantity', 'Discount',\n",
       "       'Profit', 'Shipping.Cost', 'Order.Priority', 'OrderMonth', 'OrderYear',\n",
       "       'Returned', 'Order ID', 'Process_Time', 'Num_Returns'],\n",
       "      dtype='object')"
      ]
     },
     "execution_count": 268,
     "metadata": {},
     "output_type": "execute_result"
    }
   ],
   "source": [
    "joined.columns"
   ]
  },
  {
   "cell_type": "code",
   "execution_count": 265,
   "id": "c09e96c5",
   "metadata": {},
   "outputs": [],
   "source": [
    "joined.Process_Time = joined.Process_Time.dt.days"
   ]
  },
  {
   "cell_type": "code",
   "execution_count": 288,
   "id": "6f8093f4",
   "metadata": {},
   "outputs": [
    {
     "data": {
      "text/plain": [
       "Standard Class    30775\n",
       "Second Class      10309\n",
       "First Class        7505\n",
       "Same Day           2701\n",
       "Name: Ship.Mode, dtype: int64"
      ]
     },
     "execution_count": 288,
     "metadata": {},
     "output_type": "execute_result"
    }
   ],
   "source": [
    "joined['Ship.Mode'].value_counts()\n",
    "#joined"
   ]
  },
  {
   "cell_type": "code",
   "execution_count": null,
   "id": "ee87b382",
   "metadata": {},
   "outputs": [],
   "source": [
    "# Ship.Mode, Segment, Region (or Market), Sub.Catergory (or Category), Shipping.Cost, \n",
    "# Quantity, Discount, Order.Priority, OrderMonth, Process_time, Num_Returns"
   ]
  },
  {
   "cell_type": "markdown",
   "id": "027035e6",
   "metadata": {},
   "source": [
    "### Problem 5: Fitting Models\n",
    "\n",
    "- You can use any binary classification method you have learned so far.\n",
    "- Use 80/20 training and test splits to build your model. \n",
    "- Double check the column types before you fit the model.\n",
    "- Only include useful features. i.e all the `ID`s should be excluded from your training set.\n",
    "- Note that there are only less than 5% of the orders have been returned, so you should consider using the [createDataPartition](https://www.rdocumentation.org/packages/caret/versions/6.0-80/topics/createDataPartition) function from `caret` package and [StratifiedKfold](http://scikit-learn.org/stable/modules/generated/sklearn.model_selection.StratifiedKFold.html#sklearn-model-selection-stratifiedkfold) from sklearn when running cross-validation.\n",
    "- Do forget to `set.seed()` before the spilt to make your result reproducible.\n",
    "- **Note:** We are not looking for the best tuned model in the lab so don't spend too much time on grid search. Focus on model evaluation and the business use case of each model."
   ]
  },
  {
   "cell_type": "code",
   "execution_count": 294,
   "id": "19d5370d",
   "metadata": {},
   "outputs": [],
   "source": [
    "features = joined[['Ship.Mode', 'Segment', 'Market', 'Category', 'Shipping.Cost', 'Quantity',\n",
    "                   'Discount', 'Order.Priority', 'OrderMonth', 'Process_Time', 'Num_Returns']]"
   ]
  },
  {
   "cell_type": "code",
   "execution_count": 295,
   "id": "29f35e04",
   "metadata": {},
   "outputs": [
    {
     "data": {
      "text/html": [
       "<div>\n",
       "<style scoped>\n",
       "    .dataframe tbody tr th:only-of-type {\n",
       "        vertical-align: middle;\n",
       "    }\n",
       "\n",
       "    .dataframe tbody tr th {\n",
       "        vertical-align: top;\n",
       "    }\n",
       "\n",
       "    .dataframe thead th {\n",
       "        text-align: right;\n",
       "    }\n",
       "</style>\n",
       "<table border=\"1\" class=\"dataframe\">\n",
       "  <thead>\n",
       "    <tr style=\"text-align: right;\">\n",
       "      <th></th>\n",
       "      <th>Shipping.Cost</th>\n",
       "      <th>Quantity</th>\n",
       "      <th>Discount</th>\n",
       "      <th>OrderMonth</th>\n",
       "      <th>Process_Time</th>\n",
       "      <th>Num_Returns</th>\n",
       "      <th>Ship.Mode_Same Day</th>\n",
       "      <th>Ship.Mode_Second Class</th>\n",
       "      <th>Ship.Mode_Standard Class</th>\n",
       "      <th>Segment_Corporate</th>\n",
       "      <th>Segment_Home Office</th>\n",
       "      <th>Market_Asia Pacific</th>\n",
       "      <th>Market_Europe</th>\n",
       "      <th>Market_LATAM</th>\n",
       "      <th>Market_USCA</th>\n",
       "      <th>Category_Office Supplies</th>\n",
       "      <th>Category_Technology</th>\n",
       "      <th>Order.Priority_High</th>\n",
       "      <th>Order.Priority_Low</th>\n",
       "      <th>Order.Priority_Medium</th>\n",
       "    </tr>\n",
       "  </thead>\n",
       "  <tbody>\n",
       "    <tr>\n",
       "      <th>0</th>\n",
       "      <td>40.770</td>\n",
       "      <td>2</td>\n",
       "      <td>0.0</td>\n",
       "      <td>11</td>\n",
       "      <td>2</td>\n",
       "      <td>2</td>\n",
       "      <td>0</td>\n",
       "      <td>0</td>\n",
       "      <td>0</td>\n",
       "      <td>0</td>\n",
       "      <td>0</td>\n",
       "      <td>0</td>\n",
       "      <td>0</td>\n",
       "      <td>0</td>\n",
       "      <td>1</td>\n",
       "      <td>0</td>\n",
       "      <td>1</td>\n",
       "      <td>1</td>\n",
       "      <td>0</td>\n",
       "      <td>0</td>\n",
       "    </tr>\n",
       "    <tr>\n",
       "      <th>1</th>\n",
       "      <td>923.630</td>\n",
       "      <td>9</td>\n",
       "      <td>0.1</td>\n",
       "      <td>2</td>\n",
       "      <td>2</td>\n",
       "      <td>25</td>\n",
       "      <td>0</td>\n",
       "      <td>1</td>\n",
       "      <td>0</td>\n",
       "      <td>1</td>\n",
       "      <td>0</td>\n",
       "      <td>1</td>\n",
       "      <td>0</td>\n",
       "      <td>0</td>\n",
       "      <td>0</td>\n",
       "      <td>0</td>\n",
       "      <td>0</td>\n",
       "      <td>0</td>\n",
       "      <td>0</td>\n",
       "      <td>0</td>\n",
       "    </tr>\n",
       "    <tr>\n",
       "      <th>2</th>\n",
       "      <td>915.490</td>\n",
       "      <td>9</td>\n",
       "      <td>0.1</td>\n",
       "      <td>10</td>\n",
       "      <td>1</td>\n",
       "      <td>24</td>\n",
       "      <td>0</td>\n",
       "      <td>0</td>\n",
       "      <td>0</td>\n",
       "      <td>0</td>\n",
       "      <td>0</td>\n",
       "      <td>1</td>\n",
       "      <td>0</td>\n",
       "      <td>0</td>\n",
       "      <td>0</td>\n",
       "      <td>0</td>\n",
       "      <td>1</td>\n",
       "      <td>0</td>\n",
       "      <td>0</td>\n",
       "      <td>1</td>\n",
       "    </tr>\n",
       "    <tr>\n",
       "      <th>3</th>\n",
       "      <td>910.160</td>\n",
       "      <td>5</td>\n",
       "      <td>0.1</td>\n",
       "      <td>1</td>\n",
       "      <td>2</td>\n",
       "      <td>23</td>\n",
       "      <td>0</td>\n",
       "      <td>0</td>\n",
       "      <td>0</td>\n",
       "      <td>0</td>\n",
       "      <td>1</td>\n",
       "      <td>0</td>\n",
       "      <td>1</td>\n",
       "      <td>0</td>\n",
       "      <td>0</td>\n",
       "      <td>0</td>\n",
       "      <td>1</td>\n",
       "      <td>0</td>\n",
       "      <td>0</td>\n",
       "      <td>1</td>\n",
       "    </tr>\n",
       "    <tr>\n",
       "      <th>4</th>\n",
       "      <td>903.040</td>\n",
       "      <td>8</td>\n",
       "      <td>0.0</td>\n",
       "      <td>11</td>\n",
       "      <td>1</td>\n",
       "      <td>12</td>\n",
       "      <td>1</td>\n",
       "      <td>0</td>\n",
       "      <td>0</td>\n",
       "      <td>0</td>\n",
       "      <td>0</td>\n",
       "      <td>0</td>\n",
       "      <td>0</td>\n",
       "      <td>0</td>\n",
       "      <td>0</td>\n",
       "      <td>0</td>\n",
       "      <td>1</td>\n",
       "      <td>0</td>\n",
       "      <td>0</td>\n",
       "      <td>0</td>\n",
       "    </tr>\n",
       "    <tr>\n",
       "      <th>...</th>\n",
       "      <td>...</td>\n",
       "      <td>...</td>\n",
       "      <td>...</td>\n",
       "      <td>...</td>\n",
       "      <td>...</td>\n",
       "      <td>...</td>\n",
       "      <td>...</td>\n",
       "      <td>...</td>\n",
       "      <td>...</td>\n",
       "      <td>...</td>\n",
       "      <td>...</td>\n",
       "      <td>...</td>\n",
       "      <td>...</td>\n",
       "      <td>...</td>\n",
       "      <td>...</td>\n",
       "      <td>...</td>\n",
       "      <td>...</td>\n",
       "      <td>...</td>\n",
       "      <td>...</td>\n",
       "      <td>...</td>\n",
       "    </tr>\n",
       "    <tr>\n",
       "      <th>51285</th>\n",
       "      <td>1.010</td>\n",
       "      <td>5</td>\n",
       "      <td>0.0</td>\n",
       "      <td>6</td>\n",
       "      <td>0</td>\n",
       "      <td>18</td>\n",
       "      <td>1</td>\n",
       "      <td>0</td>\n",
       "      <td>0</td>\n",
       "      <td>1</td>\n",
       "      <td>0</td>\n",
       "      <td>1</td>\n",
       "      <td>0</td>\n",
       "      <td>0</td>\n",
       "      <td>0</td>\n",
       "      <td>1</td>\n",
       "      <td>0</td>\n",
       "      <td>0</td>\n",
       "      <td>0</td>\n",
       "      <td>1</td>\n",
       "    </tr>\n",
       "    <tr>\n",
       "      <th>51286</th>\n",
       "      <td>1.930</td>\n",
       "      <td>5</td>\n",
       "      <td>0.2</td>\n",
       "      <td>5</td>\n",
       "      <td>4</td>\n",
       "      <td>8</td>\n",
       "      <td>0</td>\n",
       "      <td>0</td>\n",
       "      <td>1</td>\n",
       "      <td>0</td>\n",
       "      <td>0</td>\n",
       "      <td>0</td>\n",
       "      <td>0</td>\n",
       "      <td>0</td>\n",
       "      <td>1</td>\n",
       "      <td>0</td>\n",
       "      <td>0</td>\n",
       "      <td>1</td>\n",
       "      <td>0</td>\n",
       "      <td>0</td>\n",
       "    </tr>\n",
       "    <tr>\n",
       "      <th>51287</th>\n",
       "      <td>1.580</td>\n",
       "      <td>2</td>\n",
       "      <td>0.0</td>\n",
       "      <td>8</td>\n",
       "      <td>5</td>\n",
       "      <td>7</td>\n",
       "      <td>0</td>\n",
       "      <td>1</td>\n",
       "      <td>0</td>\n",
       "      <td>0</td>\n",
       "      <td>0</td>\n",
       "      <td>0</td>\n",
       "      <td>0</td>\n",
       "      <td>0</td>\n",
       "      <td>1</td>\n",
       "      <td>1</td>\n",
       "      <td>0</td>\n",
       "      <td>1</td>\n",
       "      <td>0</td>\n",
       "      <td>0</td>\n",
       "    </tr>\n",
       "    <tr>\n",
       "      <th>51288</th>\n",
       "      <td>1.003</td>\n",
       "      <td>2</td>\n",
       "      <td>0.0</td>\n",
       "      <td>2</td>\n",
       "      <td>4</td>\n",
       "      <td>36</td>\n",
       "      <td>0</td>\n",
       "      <td>0</td>\n",
       "      <td>1</td>\n",
       "      <td>0</td>\n",
       "      <td>1</td>\n",
       "      <td>0</td>\n",
       "      <td>0</td>\n",
       "      <td>1</td>\n",
       "      <td>0</td>\n",
       "      <td>1</td>\n",
       "      <td>0</td>\n",
       "      <td>0</td>\n",
       "      <td>0</td>\n",
       "      <td>1</td>\n",
       "    </tr>\n",
       "    <tr>\n",
       "      <th>51289</th>\n",
       "      <td>1.002</td>\n",
       "      <td>3</td>\n",
       "      <td>0.0</td>\n",
       "      <td>5</td>\n",
       "      <td>4</td>\n",
       "      <td>28</td>\n",
       "      <td>0</td>\n",
       "      <td>1</td>\n",
       "      <td>0</td>\n",
       "      <td>0</td>\n",
       "      <td>0</td>\n",
       "      <td>0</td>\n",
       "      <td>0</td>\n",
       "      <td>1</td>\n",
       "      <td>0</td>\n",
       "      <td>1</td>\n",
       "      <td>0</td>\n",
       "      <td>1</td>\n",
       "      <td>0</td>\n",
       "      <td>0</td>\n",
       "    </tr>\n",
       "  </tbody>\n",
       "</table>\n",
       "<p>51290 rows × 20 columns</p>\n",
       "</div>"
      ],
      "text/plain": [
       "       Shipping.Cost  Quantity  Discount  OrderMonth  Process_Time  \\\n",
       "0             40.770         2       0.0          11             2   \n",
       "1            923.630         9       0.1           2             2   \n",
       "2            915.490         9       0.1          10             1   \n",
       "3            910.160         5       0.1           1             2   \n",
       "4            903.040         8       0.0          11             1   \n",
       "...              ...       ...       ...         ...           ...   \n",
       "51285          1.010         5       0.0           6             0   \n",
       "51286          1.930         5       0.2           5             4   \n",
       "51287          1.580         2       0.0           8             5   \n",
       "51288          1.003         2       0.0           2             4   \n",
       "51289          1.002         3       0.0           5             4   \n",
       "\n",
       "       Num_Returns  Ship.Mode_Same Day  Ship.Mode_Second Class  \\\n",
       "0                2                   0                       0   \n",
       "1               25                   0                       1   \n",
       "2               24                   0                       0   \n",
       "3               23                   0                       0   \n",
       "4               12                   1                       0   \n",
       "...            ...                 ...                     ...   \n",
       "51285           18                   1                       0   \n",
       "51286            8                   0                       0   \n",
       "51287            7                   0                       1   \n",
       "51288           36                   0                       0   \n",
       "51289           28                   0                       1   \n",
       "\n",
       "       Ship.Mode_Standard Class  Segment_Corporate  Segment_Home Office  \\\n",
       "0                             0                  0                    0   \n",
       "1                             0                  1                    0   \n",
       "2                             0                  0                    0   \n",
       "3                             0                  0                    1   \n",
       "4                             0                  0                    0   \n",
       "...                         ...                ...                  ...   \n",
       "51285                         0                  1                    0   \n",
       "51286                         1                  0                    0   \n",
       "51287                         0                  0                    0   \n",
       "51288                         1                  0                    1   \n",
       "51289                         0                  0                    0   \n",
       "\n",
       "       Market_Asia Pacific  Market_Europe  Market_LATAM  Market_USCA  \\\n",
       "0                        0              0             0            1   \n",
       "1                        1              0             0            0   \n",
       "2                        1              0             0            0   \n",
       "3                        0              1             0            0   \n",
       "4                        0              0             0            0   \n",
       "...                    ...            ...           ...          ...   \n",
       "51285                    1              0             0            0   \n",
       "51286                    0              0             0            1   \n",
       "51287                    0              0             0            1   \n",
       "51288                    0              0             1            0   \n",
       "51289                    0              0             1            0   \n",
       "\n",
       "       Category_Office Supplies  Category_Technology  Order.Priority_High  \\\n",
       "0                             0                    1                    1   \n",
       "1                             0                    0                    0   \n",
       "2                             0                    1                    0   \n",
       "3                             0                    1                    0   \n",
       "4                             0                    1                    0   \n",
       "...                         ...                  ...                  ...   \n",
       "51285                         1                    0                    0   \n",
       "51286                         0                    0                    1   \n",
       "51287                         1                    0                    1   \n",
       "51288                         1                    0                    0   \n",
       "51289                         1                    0                    1   \n",
       "\n",
       "       Order.Priority_Low  Order.Priority_Medium  \n",
       "0                       0                      0  \n",
       "1                       0                      0  \n",
       "2                       0                      1  \n",
       "3                       0                      1  \n",
       "4                       0                      0  \n",
       "...                   ...                    ...  \n",
       "51285                   0                      1  \n",
       "51286                   0                      0  \n",
       "51287                   0                      0  \n",
       "51288                   0                      1  \n",
       "51289                   0                      0  \n",
       "\n",
       "[51290 rows x 20 columns]"
      ]
     },
     "execution_count": 295,
     "metadata": {},
     "output_type": "execute_result"
    }
   ],
   "source": [
    "features = pd.get_dummies(features, columns=['Ship.Mode', 'Segment', 'Market', 'Category', 'Order.Priority'], drop_first=True)\n",
    "features"
   ]
  },
  {
   "cell_type": "code",
   "execution_count": 302,
   "id": "8ef8ab8b",
   "metadata": {},
   "outputs": [
    {
     "data": {
      "text/plain": [
       "pandas.core.series.Series"
      ]
     },
     "execution_count": 302,
     "metadata": {},
     "output_type": "execute_result"
    }
   ],
   "source": [
    "Y = joined['Returned'].map({False:0, True:1})\n",
    "Y.value_counts()\n",
    "type(Y)"
   ]
  },
  {
   "cell_type": "code",
   "execution_count": 328,
   "id": "a50a6b5c",
   "metadata": {},
   "outputs": [
    {
     "data": {
      "text/plain": [
       "0.5130824722168064"
      ]
     },
     "execution_count": 328,
     "metadata": {},
     "output_type": "execute_result"
    }
   ],
   "source": [
    "from sklearn.linear_model import LogisticRegression\n",
    "# Use class_weight to balance the dataset\n",
    "#logistic = LogisticRegression(max_iter=1000, class_weight='balanced')\n",
    "logistic = LogisticRegression(max_iter=100000, class_weight='balanced')\n",
    "logistic.fit(features,Y)\n",
    "logistic.score(features,Y)"
   ]
  },
  {
   "cell_type": "code",
   "execution_count": 332,
   "id": "80c2c8c5",
   "metadata": {
    "scrolled": true
   },
   "outputs": [
    {
     "data": {
      "text/plain": [
       "0    49070\n",
       "1     2220\n",
       "Name: Returned, dtype: int64"
      ]
     },
     "execution_count": 332,
     "metadata": {},
     "output_type": "execute_result"
    }
   ],
   "source": [
    "Y.value_counts()"
   ]
  },
  {
   "cell_type": "code",
   "execution_count": 307,
   "id": "2b7ca7d8",
   "metadata": {},
   "outputs": [
    {
     "data": {
      "text/plain": [
       "array([[49070,     0],\n",
       "       [ 2220,     0]])"
      ]
     },
     "execution_count": 307,
     "metadata": {},
     "output_type": "execute_result"
    }
   ],
   "source": [
    "from sklearn.metrics import confusion_matrix\n",
    "confusion_matrix(Y,logistic.predict(features))"
   ]
  },
  {
   "cell_type": "code",
   "execution_count": null,
   "id": "8d429daa",
   "metadata": {},
   "outputs": [],
   "source": [
    "#cat quant month num_returns, process_time"
   ]
  },
  {
   "cell_type": "code",
   "execution_count": 336,
   "id": "8f348700",
   "metadata": {},
   "outputs": [],
   "source": [
    "from sklearn.model_selection import train_test_split\n",
    "X_train, X_test, Y_train, Y_test = train_test_split(features,Y, random_state=42, stratify=Y)"
   ]
  },
  {
   "cell_type": "code",
   "execution_count": 337,
   "id": "0897d026",
   "metadata": {},
   "outputs": [
    {
     "name": "stdout",
     "output_type": "stream",
     "text": [
      "0.512881170873736\n",
      "0.5115027684629182\n"
     ]
    }
   ],
   "source": [
    "logistic.fit(X_train,Y_train)\n",
    "print(logistic.score(X_train,Y_train))\n",
    "print(logistic.score(X_test,Y_test))"
   ]
  },
  {
   "cell_type": "code",
   "execution_count": 313,
   "id": "1ee1bf30",
   "metadata": {
    "scrolled": true
   },
   "outputs": [
    {
     "data": {
      "text/plain": [
       "array([[9840,    0],\n",
       "       [ 418,    0]])"
      ]
     },
     "execution_count": 313,
     "metadata": {},
     "output_type": "execute_result"
    }
   ],
   "source": [
    "confusion_matrix(Y_test,logistic.predict(X_test))"
   ]
  },
  {
   "cell_type": "code",
   "execution_count": 314,
   "id": "d5e1d931",
   "metadata": {},
   "outputs": [],
   "source": [
    "from sklearn.model_selection import StratifiedKFold"
   ]
  },
  {
   "cell_type": "code",
   "execution_count": 316,
   "id": "6846ab02",
   "metadata": {},
   "outputs": [
    {
     "data": {
      "text/plain": [
       "5"
      ]
     },
     "execution_count": 316,
     "metadata": {},
     "output_type": "execute_result"
    }
   ],
   "source": [
    "skf = StratifiedKFold(n_splits=5)\n",
    "skf.get_n_splits(features, Y)"
   ]
  },
  {
   "cell_type": "markdown",
   "id": "7596f47d",
   "metadata": {},
   "source": [
    "### Problem 6: Evaluating Models\n",
    "- What is the best metric to evaluate your model. Is accuracy good for this case?\n",
    "- Now you have multiple models, which one would you pick? \n",
    "- Can you get any clue from the confusion matrix? What is the meaning of precision and recall in this case? Which one do you care the most? How will your model help the manager make decisions?\n",
    "- **Note:** The last question is open-ended. Your answer could be completely different depending on your understanding of this business problem."
   ]
  },
  {
   "cell_type": "markdown",
   "id": "5ce035bf",
   "metadata": {},
   "source": [
    "### Problem 5: Fitting Models\n",
    "\n",
    "- You can use any binary classification method you have learned so far.\n",
    "- Use 80/20 training and test splits to build your model. \n",
    "- Double check the column types before you fit the model.\n",
    "- Only include useful features. i.e all the `ID`s should be excluded from your training set.\n",
    "- Note that there are only less than 5% of the orders have been returned, so you should consider using the [createDataPartition](https://www.rdocumentation.org/packages/caret/versions/6.0-80/topics/createDataPartition) function from `caret` package and [StratifiedKfold](http://scikit-learn.org/stable/modules/generated/sklearn.model_selection.StratifiedKFold.html#sklearn-model-selection-stratifiedkfold) from sklearn when running cross-validation.\n",
    "- Do forget to `set.seed()` before the spilt to make your result reproducible.\n",
    "- **Note:** We are not looking for the best tuned model in the lab so don't spend too much time on grid search. Focus on model evaluation and the business use case of each model."
   ]
  },
  {
   "cell_type": "markdown",
   "id": "c07c39ff",
   "metadata": {},
   "source": [
    "### Problem 6: Evaluating Models\n",
    "- What is the best metric to evaluate your model. Is accuracy good for this case?\n",
    "- Now you have multiple models, which one would you pick? \n",
    "- Can you get any clue from the confusion matrix? What is the meaning of precision and recall in this case? Which one do you care the most? How will your model help the manager make decisions?\n",
    "- **Note:** The last question is open-ended. Your answer could be completely different depending on your understanding of this business problem."
   ]
  },
  {
   "cell_type": "markdown",
   "id": "6a7727af",
   "metadata": {},
   "source": [
    "### Problem 7: Feature Engineering Revisit\n",
    "- Is there anything wrong with the new feature we generated? How should we fix it?\n",
    "- ***Hint***: For the real test set, we do not know it will get returned or not."
   ]
  }
 ],
 "metadata": {
  "kernelspec": {
   "display_name": "Python 3",
   "language": "python",
   "name": "python3"
  },
  "language_info": {
   "codemirror_mode": {
    "name": "ipython",
    "version": 3
   },
   "file_extension": ".py",
   "mimetype": "text/x-python",
   "name": "python",
   "nbconvert_exporter": "python",
   "pygments_lexer": "ipython3",
   "version": "3.8.8"
  }
 },
 "nbformat": 4,
 "nbformat_minor": 5
}
